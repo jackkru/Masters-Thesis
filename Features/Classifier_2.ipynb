{
  "nbformat": 4,
  "nbformat_minor": 0,
  "metadata": {
    "colab": {
      "name": "Classifier 2.ipynb",
      "provenance": [],
      "collapsed_sections": []
    },
    "kernelspec": {
      "name": "python3",
      "display_name": "Python 3"
    },
    "language_info": {
      "name": "python"
    },
    "accelerator": "GPU",
    "widgets": {
      "application/vnd.jupyter.widget-state+json": {
        "30507bebe87e447db90d4a3290ee7075": {
          "model_module": "@jupyter-widgets/controls",
          "model_name": "HBoxModel",
          "model_module_version": "1.5.0",
          "state": {
            "_view_name": "HBoxView",
            "_dom_classes": [],
            "_model_name": "HBoxModel",
            "_view_module": "@jupyter-widgets/controls",
            "_model_module_version": "1.5.0",
            "_view_count": null,
            "_view_module_version": "1.5.0",
            "box_style": "",
            "layout": "IPY_MODEL_d7384da4a2a04b19a7cdafa9fe67826e",
            "_model_module": "@jupyter-widgets/controls",
            "children": [
              "IPY_MODEL_5d8f885a51de40dd9e916c374534c56a",
              "IPY_MODEL_b83489b1366348329fe7edc2efc23fda",
              "IPY_MODEL_27bde7a55401461f9d92dd07d594f793"
            ]
          }
        },
        "d7384da4a2a04b19a7cdafa9fe67826e": {
          "model_module": "@jupyter-widgets/base",
          "model_name": "LayoutModel",
          "model_module_version": "1.2.0",
          "state": {
            "_view_name": "LayoutView",
            "grid_template_rows": null,
            "right": null,
            "justify_content": null,
            "_view_module": "@jupyter-widgets/base",
            "overflow": null,
            "_model_module_version": "1.2.0",
            "_view_count": null,
            "flex_flow": null,
            "width": null,
            "min_width": null,
            "border": null,
            "align_items": null,
            "bottom": null,
            "_model_module": "@jupyter-widgets/base",
            "top": null,
            "grid_column": null,
            "overflow_y": null,
            "overflow_x": null,
            "grid_auto_flow": null,
            "grid_area": null,
            "grid_template_columns": null,
            "flex": null,
            "_model_name": "LayoutModel",
            "justify_items": null,
            "grid_row": null,
            "max_height": null,
            "align_content": null,
            "visibility": null,
            "align_self": null,
            "height": null,
            "min_height": null,
            "padding": null,
            "grid_auto_rows": null,
            "grid_gap": null,
            "max_width": null,
            "order": null,
            "_view_module_version": "1.2.0",
            "grid_template_areas": null,
            "object_position": null,
            "object_fit": null,
            "grid_auto_columns": null,
            "margin": null,
            "display": null,
            "left": null
          }
        },
        "5d8f885a51de40dd9e916c374534c56a": {
          "model_module": "@jupyter-widgets/controls",
          "model_name": "HTMLModel",
          "model_module_version": "1.5.0",
          "state": {
            "_view_name": "HTMLView",
            "style": "IPY_MODEL_d35d0c1c7bc54413b717aa3d12a88f3c",
            "_dom_classes": [],
            "description": "",
            "_model_name": "HTMLModel",
            "placeholder": "​",
            "_view_module": "@jupyter-widgets/controls",
            "_model_module_version": "1.5.0",
            "value": "Downloading: 100%",
            "_view_count": null,
            "_view_module_version": "1.5.0",
            "description_tooltip": null,
            "_model_module": "@jupyter-widgets/controls",
            "layout": "IPY_MODEL_77cb807a117f4844a296b59f906e7946"
          }
        },
        "b83489b1366348329fe7edc2efc23fda": {
          "model_module": "@jupyter-widgets/controls",
          "model_name": "FloatProgressModel",
          "model_module_version": "1.5.0",
          "state": {
            "_view_name": "ProgressView",
            "style": "IPY_MODEL_5da75a90d3e94f2188a6a17ec3905d09",
            "_dom_classes": [],
            "description": "",
            "_model_name": "FloatProgressModel",
            "bar_style": "success",
            "max": 231508,
            "_view_module": "@jupyter-widgets/controls",
            "_model_module_version": "1.5.0",
            "value": 231508,
            "_view_count": null,
            "_view_module_version": "1.5.0",
            "orientation": "horizontal",
            "min": 0,
            "description_tooltip": null,
            "_model_module": "@jupyter-widgets/controls",
            "layout": "IPY_MODEL_8c283f07ce154e8fbc40a29a46d9f4a5"
          }
        },
        "27bde7a55401461f9d92dd07d594f793": {
          "model_module": "@jupyter-widgets/controls",
          "model_name": "HTMLModel",
          "model_module_version": "1.5.0",
          "state": {
            "_view_name": "HTMLView",
            "style": "IPY_MODEL_16f02c41362044249b9059d7e49202c1",
            "_dom_classes": [],
            "description": "",
            "_model_name": "HTMLModel",
            "placeholder": "​",
            "_view_module": "@jupyter-widgets/controls",
            "_model_module_version": "1.5.0",
            "value": " 232k/232k [00:00&lt;00:00, 588kB/s]",
            "_view_count": null,
            "_view_module_version": "1.5.0",
            "description_tooltip": null,
            "_model_module": "@jupyter-widgets/controls",
            "layout": "IPY_MODEL_813bffc303204b698d4b2e2d2fb2f1a7"
          }
        },
        "d35d0c1c7bc54413b717aa3d12a88f3c": {
          "model_module": "@jupyter-widgets/controls",
          "model_name": "DescriptionStyleModel",
          "model_module_version": "1.5.0",
          "state": {
            "_view_name": "StyleView",
            "_model_name": "DescriptionStyleModel",
            "description_width": "",
            "_view_module": "@jupyter-widgets/base",
            "_model_module_version": "1.5.0",
            "_view_count": null,
            "_view_module_version": "1.2.0",
            "_model_module": "@jupyter-widgets/controls"
          }
        },
        "77cb807a117f4844a296b59f906e7946": {
          "model_module": "@jupyter-widgets/base",
          "model_name": "LayoutModel",
          "model_module_version": "1.2.0",
          "state": {
            "_view_name": "LayoutView",
            "grid_template_rows": null,
            "right": null,
            "justify_content": null,
            "_view_module": "@jupyter-widgets/base",
            "overflow": null,
            "_model_module_version": "1.2.0",
            "_view_count": null,
            "flex_flow": null,
            "width": null,
            "min_width": null,
            "border": null,
            "align_items": null,
            "bottom": null,
            "_model_module": "@jupyter-widgets/base",
            "top": null,
            "grid_column": null,
            "overflow_y": null,
            "overflow_x": null,
            "grid_auto_flow": null,
            "grid_area": null,
            "grid_template_columns": null,
            "flex": null,
            "_model_name": "LayoutModel",
            "justify_items": null,
            "grid_row": null,
            "max_height": null,
            "align_content": null,
            "visibility": null,
            "align_self": null,
            "height": null,
            "min_height": null,
            "padding": null,
            "grid_auto_rows": null,
            "grid_gap": null,
            "max_width": null,
            "order": null,
            "_view_module_version": "1.2.0",
            "grid_template_areas": null,
            "object_position": null,
            "object_fit": null,
            "grid_auto_columns": null,
            "margin": null,
            "display": null,
            "left": null
          }
        },
        "5da75a90d3e94f2188a6a17ec3905d09": {
          "model_module": "@jupyter-widgets/controls",
          "model_name": "ProgressStyleModel",
          "model_module_version": "1.5.0",
          "state": {
            "_view_name": "StyleView",
            "_model_name": "ProgressStyleModel",
            "description_width": "",
            "_view_module": "@jupyter-widgets/base",
            "_model_module_version": "1.5.0",
            "_view_count": null,
            "_view_module_version": "1.2.0",
            "bar_color": null,
            "_model_module": "@jupyter-widgets/controls"
          }
        },
        "8c283f07ce154e8fbc40a29a46d9f4a5": {
          "model_module": "@jupyter-widgets/base",
          "model_name": "LayoutModel",
          "model_module_version": "1.2.0",
          "state": {
            "_view_name": "LayoutView",
            "grid_template_rows": null,
            "right": null,
            "justify_content": null,
            "_view_module": "@jupyter-widgets/base",
            "overflow": null,
            "_model_module_version": "1.2.0",
            "_view_count": null,
            "flex_flow": null,
            "width": null,
            "min_width": null,
            "border": null,
            "align_items": null,
            "bottom": null,
            "_model_module": "@jupyter-widgets/base",
            "top": null,
            "grid_column": null,
            "overflow_y": null,
            "overflow_x": null,
            "grid_auto_flow": null,
            "grid_area": null,
            "grid_template_columns": null,
            "flex": null,
            "_model_name": "LayoutModel",
            "justify_items": null,
            "grid_row": null,
            "max_height": null,
            "align_content": null,
            "visibility": null,
            "align_self": null,
            "height": null,
            "min_height": null,
            "padding": null,
            "grid_auto_rows": null,
            "grid_gap": null,
            "max_width": null,
            "order": null,
            "_view_module_version": "1.2.0",
            "grid_template_areas": null,
            "object_position": null,
            "object_fit": null,
            "grid_auto_columns": null,
            "margin": null,
            "display": null,
            "left": null
          }
        },
        "16f02c41362044249b9059d7e49202c1": {
          "model_module": "@jupyter-widgets/controls",
          "model_name": "DescriptionStyleModel",
          "model_module_version": "1.5.0",
          "state": {
            "_view_name": "StyleView",
            "_model_name": "DescriptionStyleModel",
            "description_width": "",
            "_view_module": "@jupyter-widgets/base",
            "_model_module_version": "1.5.0",
            "_view_count": null,
            "_view_module_version": "1.2.0",
            "_model_module": "@jupyter-widgets/controls"
          }
        },
        "813bffc303204b698d4b2e2d2fb2f1a7": {
          "model_module": "@jupyter-widgets/base",
          "model_name": "LayoutModel",
          "model_module_version": "1.2.0",
          "state": {
            "_view_name": "LayoutView",
            "grid_template_rows": null,
            "right": null,
            "justify_content": null,
            "_view_module": "@jupyter-widgets/base",
            "overflow": null,
            "_model_module_version": "1.2.0",
            "_view_count": null,
            "flex_flow": null,
            "width": null,
            "min_width": null,
            "border": null,
            "align_items": null,
            "bottom": null,
            "_model_module": "@jupyter-widgets/base",
            "top": null,
            "grid_column": null,
            "overflow_y": null,
            "overflow_x": null,
            "grid_auto_flow": null,
            "grid_area": null,
            "grid_template_columns": null,
            "flex": null,
            "_model_name": "LayoutModel",
            "justify_items": null,
            "grid_row": null,
            "max_height": null,
            "align_content": null,
            "visibility": null,
            "align_self": null,
            "height": null,
            "min_height": null,
            "padding": null,
            "grid_auto_rows": null,
            "grid_gap": null,
            "max_width": null,
            "order": null,
            "_view_module_version": "1.2.0",
            "grid_template_areas": null,
            "object_position": null,
            "object_fit": null,
            "grid_auto_columns": null,
            "margin": null,
            "display": null,
            "left": null
          }
        },
        "800b4c8213fa4fbaba7d6321c37458aa": {
          "model_module": "@jupyter-widgets/controls",
          "model_name": "HBoxModel",
          "model_module_version": "1.5.0",
          "state": {
            "_view_name": "HBoxView",
            "_dom_classes": [],
            "_model_name": "HBoxModel",
            "_view_module": "@jupyter-widgets/controls",
            "_model_module_version": "1.5.0",
            "_view_count": null,
            "_view_module_version": "1.5.0",
            "box_style": "",
            "layout": "IPY_MODEL_30ed3f763f884c05adf1de1eb9be0d6c",
            "_model_module": "@jupyter-widgets/controls",
            "children": [
              "IPY_MODEL_bda11126c3a34cec8cb20ea7f43a86dd",
              "IPY_MODEL_551d649ffd6a4b96b92edd408ec3dbaa",
              "IPY_MODEL_a7253cee00b44d289a5bd90b1970af72"
            ]
          }
        },
        "30ed3f763f884c05adf1de1eb9be0d6c": {
          "model_module": "@jupyter-widgets/base",
          "model_name": "LayoutModel",
          "model_module_version": "1.2.0",
          "state": {
            "_view_name": "LayoutView",
            "grid_template_rows": null,
            "right": null,
            "justify_content": null,
            "_view_module": "@jupyter-widgets/base",
            "overflow": null,
            "_model_module_version": "1.2.0",
            "_view_count": null,
            "flex_flow": null,
            "width": null,
            "min_width": null,
            "border": null,
            "align_items": null,
            "bottom": null,
            "_model_module": "@jupyter-widgets/base",
            "top": null,
            "grid_column": null,
            "overflow_y": null,
            "overflow_x": null,
            "grid_auto_flow": null,
            "grid_area": null,
            "grid_template_columns": null,
            "flex": null,
            "_model_name": "LayoutModel",
            "justify_items": null,
            "grid_row": null,
            "max_height": null,
            "align_content": null,
            "visibility": null,
            "align_self": null,
            "height": null,
            "min_height": null,
            "padding": null,
            "grid_auto_rows": null,
            "grid_gap": null,
            "max_width": null,
            "order": null,
            "_view_module_version": "1.2.0",
            "grid_template_areas": null,
            "object_position": null,
            "object_fit": null,
            "grid_auto_columns": null,
            "margin": null,
            "display": null,
            "left": null
          }
        },
        "bda11126c3a34cec8cb20ea7f43a86dd": {
          "model_module": "@jupyter-widgets/controls",
          "model_name": "HTMLModel",
          "model_module_version": "1.5.0",
          "state": {
            "_view_name": "HTMLView",
            "style": "IPY_MODEL_9988df2ce8e94fadac2737d2e8f98f31",
            "_dom_classes": [],
            "description": "",
            "_model_name": "HTMLModel",
            "placeholder": "​",
            "_view_module": "@jupyter-widgets/controls",
            "_model_module_version": "1.5.0",
            "value": "Downloading: 100%",
            "_view_count": null,
            "_view_module_version": "1.5.0",
            "description_tooltip": null,
            "_model_module": "@jupyter-widgets/controls",
            "layout": "IPY_MODEL_3517e212eac24a0986833a1c11ce50a4"
          }
        },
        "551d649ffd6a4b96b92edd408ec3dbaa": {
          "model_module": "@jupyter-widgets/controls",
          "model_name": "FloatProgressModel",
          "model_module_version": "1.5.0",
          "state": {
            "_view_name": "ProgressView",
            "style": "IPY_MODEL_bdddd0490d044e91923dbcce0ff71bb0",
            "_dom_classes": [],
            "description": "",
            "_model_name": "FloatProgressModel",
            "bar_style": "success",
            "max": 28,
            "_view_module": "@jupyter-widgets/controls",
            "_model_module_version": "1.5.0",
            "value": 28,
            "_view_count": null,
            "_view_module_version": "1.5.0",
            "orientation": "horizontal",
            "min": 0,
            "description_tooltip": null,
            "_model_module": "@jupyter-widgets/controls",
            "layout": "IPY_MODEL_90c44d0ab65d4248909492c37bbf7489"
          }
        },
        "a7253cee00b44d289a5bd90b1970af72": {
          "model_module": "@jupyter-widgets/controls",
          "model_name": "HTMLModel",
          "model_module_version": "1.5.0",
          "state": {
            "_view_name": "HTMLView",
            "style": "IPY_MODEL_1447fc5b98e941afaf88cf7382b6e1ea",
            "_dom_classes": [],
            "description": "",
            "_model_name": "HTMLModel",
            "placeholder": "​",
            "_view_module": "@jupyter-widgets/controls",
            "_model_module_version": "1.5.0",
            "value": " 28.0/28.0 [00:00&lt;00:00, 653B/s]",
            "_view_count": null,
            "_view_module_version": "1.5.0",
            "description_tooltip": null,
            "_model_module": "@jupyter-widgets/controls",
            "layout": "IPY_MODEL_da23776a8bad4def942b2185b2d3e87b"
          }
        },
        "9988df2ce8e94fadac2737d2e8f98f31": {
          "model_module": "@jupyter-widgets/controls",
          "model_name": "DescriptionStyleModel",
          "model_module_version": "1.5.0",
          "state": {
            "_view_name": "StyleView",
            "_model_name": "DescriptionStyleModel",
            "description_width": "",
            "_view_module": "@jupyter-widgets/base",
            "_model_module_version": "1.5.0",
            "_view_count": null,
            "_view_module_version": "1.2.0",
            "_model_module": "@jupyter-widgets/controls"
          }
        },
        "3517e212eac24a0986833a1c11ce50a4": {
          "model_module": "@jupyter-widgets/base",
          "model_name": "LayoutModel",
          "model_module_version": "1.2.0",
          "state": {
            "_view_name": "LayoutView",
            "grid_template_rows": null,
            "right": null,
            "justify_content": null,
            "_view_module": "@jupyter-widgets/base",
            "overflow": null,
            "_model_module_version": "1.2.0",
            "_view_count": null,
            "flex_flow": null,
            "width": null,
            "min_width": null,
            "border": null,
            "align_items": null,
            "bottom": null,
            "_model_module": "@jupyter-widgets/base",
            "top": null,
            "grid_column": null,
            "overflow_y": null,
            "overflow_x": null,
            "grid_auto_flow": null,
            "grid_area": null,
            "grid_template_columns": null,
            "flex": null,
            "_model_name": "LayoutModel",
            "justify_items": null,
            "grid_row": null,
            "max_height": null,
            "align_content": null,
            "visibility": null,
            "align_self": null,
            "height": null,
            "min_height": null,
            "padding": null,
            "grid_auto_rows": null,
            "grid_gap": null,
            "max_width": null,
            "order": null,
            "_view_module_version": "1.2.0",
            "grid_template_areas": null,
            "object_position": null,
            "object_fit": null,
            "grid_auto_columns": null,
            "margin": null,
            "display": null,
            "left": null
          }
        },
        "bdddd0490d044e91923dbcce0ff71bb0": {
          "model_module": "@jupyter-widgets/controls",
          "model_name": "ProgressStyleModel",
          "model_module_version": "1.5.0",
          "state": {
            "_view_name": "StyleView",
            "_model_name": "ProgressStyleModel",
            "description_width": "",
            "_view_module": "@jupyter-widgets/base",
            "_model_module_version": "1.5.0",
            "_view_count": null,
            "_view_module_version": "1.2.0",
            "bar_color": null,
            "_model_module": "@jupyter-widgets/controls"
          }
        },
        "90c44d0ab65d4248909492c37bbf7489": {
          "model_module": "@jupyter-widgets/base",
          "model_name": "LayoutModel",
          "model_module_version": "1.2.0",
          "state": {
            "_view_name": "LayoutView",
            "grid_template_rows": null,
            "right": null,
            "justify_content": null,
            "_view_module": "@jupyter-widgets/base",
            "overflow": null,
            "_model_module_version": "1.2.0",
            "_view_count": null,
            "flex_flow": null,
            "width": null,
            "min_width": null,
            "border": null,
            "align_items": null,
            "bottom": null,
            "_model_module": "@jupyter-widgets/base",
            "top": null,
            "grid_column": null,
            "overflow_y": null,
            "overflow_x": null,
            "grid_auto_flow": null,
            "grid_area": null,
            "grid_template_columns": null,
            "flex": null,
            "_model_name": "LayoutModel",
            "justify_items": null,
            "grid_row": null,
            "max_height": null,
            "align_content": null,
            "visibility": null,
            "align_self": null,
            "height": null,
            "min_height": null,
            "padding": null,
            "grid_auto_rows": null,
            "grid_gap": null,
            "max_width": null,
            "order": null,
            "_view_module_version": "1.2.0",
            "grid_template_areas": null,
            "object_position": null,
            "object_fit": null,
            "grid_auto_columns": null,
            "margin": null,
            "display": null,
            "left": null
          }
        },
        "1447fc5b98e941afaf88cf7382b6e1ea": {
          "model_module": "@jupyter-widgets/controls",
          "model_name": "DescriptionStyleModel",
          "model_module_version": "1.5.0",
          "state": {
            "_view_name": "StyleView",
            "_model_name": "DescriptionStyleModel",
            "description_width": "",
            "_view_module": "@jupyter-widgets/base",
            "_model_module_version": "1.5.0",
            "_view_count": null,
            "_view_module_version": "1.2.0",
            "_model_module": "@jupyter-widgets/controls"
          }
        },
        "da23776a8bad4def942b2185b2d3e87b": {
          "model_module": "@jupyter-widgets/base",
          "model_name": "LayoutModel",
          "model_module_version": "1.2.0",
          "state": {
            "_view_name": "LayoutView",
            "grid_template_rows": null,
            "right": null,
            "justify_content": null,
            "_view_module": "@jupyter-widgets/base",
            "overflow": null,
            "_model_module_version": "1.2.0",
            "_view_count": null,
            "flex_flow": null,
            "width": null,
            "min_width": null,
            "border": null,
            "align_items": null,
            "bottom": null,
            "_model_module": "@jupyter-widgets/base",
            "top": null,
            "grid_column": null,
            "overflow_y": null,
            "overflow_x": null,
            "grid_auto_flow": null,
            "grid_area": null,
            "grid_template_columns": null,
            "flex": null,
            "_model_name": "LayoutModel",
            "justify_items": null,
            "grid_row": null,
            "max_height": null,
            "align_content": null,
            "visibility": null,
            "align_self": null,
            "height": null,
            "min_height": null,
            "padding": null,
            "grid_auto_rows": null,
            "grid_gap": null,
            "max_width": null,
            "order": null,
            "_view_module_version": "1.2.0",
            "grid_template_areas": null,
            "object_position": null,
            "object_fit": null,
            "grid_auto_columns": null,
            "margin": null,
            "display": null,
            "left": null
          }
        },
        "58f3d953e5704288be479edbebb7f8cc": {
          "model_module": "@jupyter-widgets/controls",
          "model_name": "HBoxModel",
          "model_module_version": "1.5.0",
          "state": {
            "_view_name": "HBoxView",
            "_dom_classes": [],
            "_model_name": "HBoxModel",
            "_view_module": "@jupyter-widgets/controls",
            "_model_module_version": "1.5.0",
            "_view_count": null,
            "_view_module_version": "1.5.0",
            "box_style": "",
            "layout": "IPY_MODEL_f7c696bf11d946b6b9d50557da6fce90",
            "_model_module": "@jupyter-widgets/controls",
            "children": [
              "IPY_MODEL_ba61d16061dc4fbd832878070377d5e0",
              "IPY_MODEL_236040e026264196b27df3cc25977d54",
              "IPY_MODEL_bc45e4ef7b2e4335b772e115ff6039c1"
            ]
          }
        },
        "f7c696bf11d946b6b9d50557da6fce90": {
          "model_module": "@jupyter-widgets/base",
          "model_name": "LayoutModel",
          "model_module_version": "1.2.0",
          "state": {
            "_view_name": "LayoutView",
            "grid_template_rows": null,
            "right": null,
            "justify_content": null,
            "_view_module": "@jupyter-widgets/base",
            "overflow": null,
            "_model_module_version": "1.2.0",
            "_view_count": null,
            "flex_flow": null,
            "width": null,
            "min_width": null,
            "border": null,
            "align_items": null,
            "bottom": null,
            "_model_module": "@jupyter-widgets/base",
            "top": null,
            "grid_column": null,
            "overflow_y": null,
            "overflow_x": null,
            "grid_auto_flow": null,
            "grid_area": null,
            "grid_template_columns": null,
            "flex": null,
            "_model_name": "LayoutModel",
            "justify_items": null,
            "grid_row": null,
            "max_height": null,
            "align_content": null,
            "visibility": null,
            "align_self": null,
            "height": null,
            "min_height": null,
            "padding": null,
            "grid_auto_rows": null,
            "grid_gap": null,
            "max_width": null,
            "order": null,
            "_view_module_version": "1.2.0",
            "grid_template_areas": null,
            "object_position": null,
            "object_fit": null,
            "grid_auto_columns": null,
            "margin": null,
            "display": null,
            "left": null
          }
        },
        "ba61d16061dc4fbd832878070377d5e0": {
          "model_module": "@jupyter-widgets/controls",
          "model_name": "HTMLModel",
          "model_module_version": "1.5.0",
          "state": {
            "_view_name": "HTMLView",
            "style": "IPY_MODEL_d063f4d3971d4d14be5c5b6634956855",
            "_dom_classes": [],
            "description": "",
            "_model_name": "HTMLModel",
            "placeholder": "​",
            "_view_module": "@jupyter-widgets/controls",
            "_model_module_version": "1.5.0",
            "value": "Downloading: 100%",
            "_view_count": null,
            "_view_module_version": "1.5.0",
            "description_tooltip": null,
            "_model_module": "@jupyter-widgets/controls",
            "layout": "IPY_MODEL_3613cd2adebc464d8b7615b9aa5a3b79"
          }
        },
        "236040e026264196b27df3cc25977d54": {
          "model_module": "@jupyter-widgets/controls",
          "model_name": "FloatProgressModel",
          "model_module_version": "1.5.0",
          "state": {
            "_view_name": "ProgressView",
            "style": "IPY_MODEL_6595e909ae684ddd95cde843da58e352",
            "_dom_classes": [],
            "description": "",
            "_model_name": "FloatProgressModel",
            "bar_style": "success",
            "max": 466062,
            "_view_module": "@jupyter-widgets/controls",
            "_model_module_version": "1.5.0",
            "value": 466062,
            "_view_count": null,
            "_view_module_version": "1.5.0",
            "orientation": "horizontal",
            "min": 0,
            "description_tooltip": null,
            "_model_module": "@jupyter-widgets/controls",
            "layout": "IPY_MODEL_dc89c31d27d440cfaa5286421854e6dd"
          }
        },
        "bc45e4ef7b2e4335b772e115ff6039c1": {
          "model_module": "@jupyter-widgets/controls",
          "model_name": "HTMLModel",
          "model_module_version": "1.5.0",
          "state": {
            "_view_name": "HTMLView",
            "style": "IPY_MODEL_336f41b790c647d28eddd26abbf6ee4f",
            "_dom_classes": [],
            "description": "",
            "_model_name": "HTMLModel",
            "placeholder": "​",
            "_view_module": "@jupyter-widgets/controls",
            "_model_module_version": "1.5.0",
            "value": " 466k/466k [00:00&lt;00:00, 908kB/s]",
            "_view_count": null,
            "_view_module_version": "1.5.0",
            "description_tooltip": null,
            "_model_module": "@jupyter-widgets/controls",
            "layout": "IPY_MODEL_b471942371924501b2881144a11400fe"
          }
        },
        "d063f4d3971d4d14be5c5b6634956855": {
          "model_module": "@jupyter-widgets/controls",
          "model_name": "DescriptionStyleModel",
          "model_module_version": "1.5.0",
          "state": {
            "_view_name": "StyleView",
            "_model_name": "DescriptionStyleModel",
            "description_width": "",
            "_view_module": "@jupyter-widgets/base",
            "_model_module_version": "1.5.0",
            "_view_count": null,
            "_view_module_version": "1.2.0",
            "_model_module": "@jupyter-widgets/controls"
          }
        },
        "3613cd2adebc464d8b7615b9aa5a3b79": {
          "model_module": "@jupyter-widgets/base",
          "model_name": "LayoutModel",
          "model_module_version": "1.2.0",
          "state": {
            "_view_name": "LayoutView",
            "grid_template_rows": null,
            "right": null,
            "justify_content": null,
            "_view_module": "@jupyter-widgets/base",
            "overflow": null,
            "_model_module_version": "1.2.0",
            "_view_count": null,
            "flex_flow": null,
            "width": null,
            "min_width": null,
            "border": null,
            "align_items": null,
            "bottom": null,
            "_model_module": "@jupyter-widgets/base",
            "top": null,
            "grid_column": null,
            "overflow_y": null,
            "overflow_x": null,
            "grid_auto_flow": null,
            "grid_area": null,
            "grid_template_columns": null,
            "flex": null,
            "_model_name": "LayoutModel",
            "justify_items": null,
            "grid_row": null,
            "max_height": null,
            "align_content": null,
            "visibility": null,
            "align_self": null,
            "height": null,
            "min_height": null,
            "padding": null,
            "grid_auto_rows": null,
            "grid_gap": null,
            "max_width": null,
            "order": null,
            "_view_module_version": "1.2.0",
            "grid_template_areas": null,
            "object_position": null,
            "object_fit": null,
            "grid_auto_columns": null,
            "margin": null,
            "display": null,
            "left": null
          }
        },
        "6595e909ae684ddd95cde843da58e352": {
          "model_module": "@jupyter-widgets/controls",
          "model_name": "ProgressStyleModel",
          "model_module_version": "1.5.0",
          "state": {
            "_view_name": "StyleView",
            "_model_name": "ProgressStyleModel",
            "description_width": "",
            "_view_module": "@jupyter-widgets/base",
            "_model_module_version": "1.5.0",
            "_view_count": null,
            "_view_module_version": "1.2.0",
            "bar_color": null,
            "_model_module": "@jupyter-widgets/controls"
          }
        },
        "dc89c31d27d440cfaa5286421854e6dd": {
          "model_module": "@jupyter-widgets/base",
          "model_name": "LayoutModel",
          "model_module_version": "1.2.0",
          "state": {
            "_view_name": "LayoutView",
            "grid_template_rows": null,
            "right": null,
            "justify_content": null,
            "_view_module": "@jupyter-widgets/base",
            "overflow": null,
            "_model_module_version": "1.2.0",
            "_view_count": null,
            "flex_flow": null,
            "width": null,
            "min_width": null,
            "border": null,
            "align_items": null,
            "bottom": null,
            "_model_module": "@jupyter-widgets/base",
            "top": null,
            "grid_column": null,
            "overflow_y": null,
            "overflow_x": null,
            "grid_auto_flow": null,
            "grid_area": null,
            "grid_template_columns": null,
            "flex": null,
            "_model_name": "LayoutModel",
            "justify_items": null,
            "grid_row": null,
            "max_height": null,
            "align_content": null,
            "visibility": null,
            "align_self": null,
            "height": null,
            "min_height": null,
            "padding": null,
            "grid_auto_rows": null,
            "grid_gap": null,
            "max_width": null,
            "order": null,
            "_view_module_version": "1.2.0",
            "grid_template_areas": null,
            "object_position": null,
            "object_fit": null,
            "grid_auto_columns": null,
            "margin": null,
            "display": null,
            "left": null
          }
        },
        "336f41b790c647d28eddd26abbf6ee4f": {
          "model_module": "@jupyter-widgets/controls",
          "model_name": "DescriptionStyleModel",
          "model_module_version": "1.5.0",
          "state": {
            "_view_name": "StyleView",
            "_model_name": "DescriptionStyleModel",
            "description_width": "",
            "_view_module": "@jupyter-widgets/base",
            "_model_module_version": "1.5.0",
            "_view_count": null,
            "_view_module_version": "1.2.0",
            "_model_module": "@jupyter-widgets/controls"
          }
        },
        "b471942371924501b2881144a11400fe": {
          "model_module": "@jupyter-widgets/base",
          "model_name": "LayoutModel",
          "model_module_version": "1.2.0",
          "state": {
            "_view_name": "LayoutView",
            "grid_template_rows": null,
            "right": null,
            "justify_content": null,
            "_view_module": "@jupyter-widgets/base",
            "overflow": null,
            "_model_module_version": "1.2.0",
            "_view_count": null,
            "flex_flow": null,
            "width": null,
            "min_width": null,
            "border": null,
            "align_items": null,
            "bottom": null,
            "_model_module": "@jupyter-widgets/base",
            "top": null,
            "grid_column": null,
            "overflow_y": null,
            "overflow_x": null,
            "grid_auto_flow": null,
            "grid_area": null,
            "grid_template_columns": null,
            "flex": null,
            "_model_name": "LayoutModel",
            "justify_items": null,
            "grid_row": null,
            "max_height": null,
            "align_content": null,
            "visibility": null,
            "align_self": null,
            "height": null,
            "min_height": null,
            "padding": null,
            "grid_auto_rows": null,
            "grid_gap": null,
            "max_width": null,
            "order": null,
            "_view_module_version": "1.2.0",
            "grid_template_areas": null,
            "object_position": null,
            "object_fit": null,
            "grid_auto_columns": null,
            "margin": null,
            "display": null,
            "left": null
          }
        },
        "2cd54ea3a5914785a961eef32839d4ef": {
          "model_module": "@jupyter-widgets/controls",
          "model_name": "HBoxModel",
          "model_module_version": "1.5.0",
          "state": {
            "_view_name": "HBoxView",
            "_dom_classes": [],
            "_model_name": "HBoxModel",
            "_view_module": "@jupyter-widgets/controls",
            "_model_module_version": "1.5.0",
            "_view_count": null,
            "_view_module_version": "1.5.0",
            "box_style": "",
            "layout": "IPY_MODEL_e36ddd711d8e43b79e7f48edba70c399",
            "_model_module": "@jupyter-widgets/controls",
            "children": [
              "IPY_MODEL_d4c42699820d4fb18a4af520de9cf599",
              "IPY_MODEL_750d6775b32a49cda14856d2c61348e7",
              "IPY_MODEL_98b7cf5947384b7e872322197f771adc"
            ]
          }
        },
        "e36ddd711d8e43b79e7f48edba70c399": {
          "model_module": "@jupyter-widgets/base",
          "model_name": "LayoutModel",
          "model_module_version": "1.2.0",
          "state": {
            "_view_name": "LayoutView",
            "grid_template_rows": null,
            "right": null,
            "justify_content": null,
            "_view_module": "@jupyter-widgets/base",
            "overflow": null,
            "_model_module_version": "1.2.0",
            "_view_count": null,
            "flex_flow": null,
            "width": null,
            "min_width": null,
            "border": null,
            "align_items": null,
            "bottom": null,
            "_model_module": "@jupyter-widgets/base",
            "top": null,
            "grid_column": null,
            "overflow_y": null,
            "overflow_x": null,
            "grid_auto_flow": null,
            "grid_area": null,
            "grid_template_columns": null,
            "flex": null,
            "_model_name": "LayoutModel",
            "justify_items": null,
            "grid_row": null,
            "max_height": null,
            "align_content": null,
            "visibility": null,
            "align_self": null,
            "height": null,
            "min_height": null,
            "padding": null,
            "grid_auto_rows": null,
            "grid_gap": null,
            "max_width": null,
            "order": null,
            "_view_module_version": "1.2.0",
            "grid_template_areas": null,
            "object_position": null,
            "object_fit": null,
            "grid_auto_columns": null,
            "margin": null,
            "display": null,
            "left": null
          }
        },
        "d4c42699820d4fb18a4af520de9cf599": {
          "model_module": "@jupyter-widgets/controls",
          "model_name": "HTMLModel",
          "model_module_version": "1.5.0",
          "state": {
            "_view_name": "HTMLView",
            "style": "IPY_MODEL_32acf68d015f4577b9001018b129c741",
            "_dom_classes": [],
            "description": "",
            "_model_name": "HTMLModel",
            "placeholder": "​",
            "_view_module": "@jupyter-widgets/controls",
            "_model_module_version": "1.5.0",
            "value": "Downloading: 100%",
            "_view_count": null,
            "_view_module_version": "1.5.0",
            "description_tooltip": null,
            "_model_module": "@jupyter-widgets/controls",
            "layout": "IPY_MODEL_dac2a9c2ea614c6f9b8734d11d4b5c66"
          }
        },
        "750d6775b32a49cda14856d2c61348e7": {
          "model_module": "@jupyter-widgets/controls",
          "model_name": "FloatProgressModel",
          "model_module_version": "1.5.0",
          "state": {
            "_view_name": "ProgressView",
            "style": "IPY_MODEL_04599f82886548bc860771b332135a44",
            "_dom_classes": [],
            "description": "",
            "_model_name": "FloatProgressModel",
            "bar_style": "success",
            "max": 570,
            "_view_module": "@jupyter-widgets/controls",
            "_model_module_version": "1.5.0",
            "value": 570,
            "_view_count": null,
            "_view_module_version": "1.5.0",
            "orientation": "horizontal",
            "min": 0,
            "description_tooltip": null,
            "_model_module": "@jupyter-widgets/controls",
            "layout": "IPY_MODEL_eaac9a7621c74934913de5893efa3bd2"
          }
        },
        "98b7cf5947384b7e872322197f771adc": {
          "model_module": "@jupyter-widgets/controls",
          "model_name": "HTMLModel",
          "model_module_version": "1.5.0",
          "state": {
            "_view_name": "HTMLView",
            "style": "IPY_MODEL_8ef031c87d5e470ebd79e6dd4e4c704c",
            "_dom_classes": [],
            "description": "",
            "_model_name": "HTMLModel",
            "placeholder": "​",
            "_view_module": "@jupyter-widgets/controls",
            "_model_module_version": "1.5.0",
            "value": " 570/570 [00:00&lt;00:00, 18.1kB/s]",
            "_view_count": null,
            "_view_module_version": "1.5.0",
            "description_tooltip": null,
            "_model_module": "@jupyter-widgets/controls",
            "layout": "IPY_MODEL_741e42426f8d4f3f8f82bd636320b34d"
          }
        },
        "32acf68d015f4577b9001018b129c741": {
          "model_module": "@jupyter-widgets/controls",
          "model_name": "DescriptionStyleModel",
          "model_module_version": "1.5.0",
          "state": {
            "_view_name": "StyleView",
            "_model_name": "DescriptionStyleModel",
            "description_width": "",
            "_view_module": "@jupyter-widgets/base",
            "_model_module_version": "1.5.0",
            "_view_count": null,
            "_view_module_version": "1.2.0",
            "_model_module": "@jupyter-widgets/controls"
          }
        },
        "dac2a9c2ea614c6f9b8734d11d4b5c66": {
          "model_module": "@jupyter-widgets/base",
          "model_name": "LayoutModel",
          "model_module_version": "1.2.0",
          "state": {
            "_view_name": "LayoutView",
            "grid_template_rows": null,
            "right": null,
            "justify_content": null,
            "_view_module": "@jupyter-widgets/base",
            "overflow": null,
            "_model_module_version": "1.2.0",
            "_view_count": null,
            "flex_flow": null,
            "width": null,
            "min_width": null,
            "border": null,
            "align_items": null,
            "bottom": null,
            "_model_module": "@jupyter-widgets/base",
            "top": null,
            "grid_column": null,
            "overflow_y": null,
            "overflow_x": null,
            "grid_auto_flow": null,
            "grid_area": null,
            "grid_template_columns": null,
            "flex": null,
            "_model_name": "LayoutModel",
            "justify_items": null,
            "grid_row": null,
            "max_height": null,
            "align_content": null,
            "visibility": null,
            "align_self": null,
            "height": null,
            "min_height": null,
            "padding": null,
            "grid_auto_rows": null,
            "grid_gap": null,
            "max_width": null,
            "order": null,
            "_view_module_version": "1.2.0",
            "grid_template_areas": null,
            "object_position": null,
            "object_fit": null,
            "grid_auto_columns": null,
            "margin": null,
            "display": null,
            "left": null
          }
        },
        "04599f82886548bc860771b332135a44": {
          "model_module": "@jupyter-widgets/controls",
          "model_name": "ProgressStyleModel",
          "model_module_version": "1.5.0",
          "state": {
            "_view_name": "StyleView",
            "_model_name": "ProgressStyleModel",
            "description_width": "",
            "_view_module": "@jupyter-widgets/base",
            "_model_module_version": "1.5.0",
            "_view_count": null,
            "_view_module_version": "1.2.0",
            "bar_color": null,
            "_model_module": "@jupyter-widgets/controls"
          }
        },
        "eaac9a7621c74934913de5893efa3bd2": {
          "model_module": "@jupyter-widgets/base",
          "model_name": "LayoutModel",
          "model_module_version": "1.2.0",
          "state": {
            "_view_name": "LayoutView",
            "grid_template_rows": null,
            "right": null,
            "justify_content": null,
            "_view_module": "@jupyter-widgets/base",
            "overflow": null,
            "_model_module_version": "1.2.0",
            "_view_count": null,
            "flex_flow": null,
            "width": null,
            "min_width": null,
            "border": null,
            "align_items": null,
            "bottom": null,
            "_model_module": "@jupyter-widgets/base",
            "top": null,
            "grid_column": null,
            "overflow_y": null,
            "overflow_x": null,
            "grid_auto_flow": null,
            "grid_area": null,
            "grid_template_columns": null,
            "flex": null,
            "_model_name": "LayoutModel",
            "justify_items": null,
            "grid_row": null,
            "max_height": null,
            "align_content": null,
            "visibility": null,
            "align_self": null,
            "height": null,
            "min_height": null,
            "padding": null,
            "grid_auto_rows": null,
            "grid_gap": null,
            "max_width": null,
            "order": null,
            "_view_module_version": "1.2.0",
            "grid_template_areas": null,
            "object_position": null,
            "object_fit": null,
            "grid_auto_columns": null,
            "margin": null,
            "display": null,
            "left": null
          }
        },
        "8ef031c87d5e470ebd79e6dd4e4c704c": {
          "model_module": "@jupyter-widgets/controls",
          "model_name": "DescriptionStyleModel",
          "model_module_version": "1.5.0",
          "state": {
            "_view_name": "StyleView",
            "_model_name": "DescriptionStyleModel",
            "description_width": "",
            "_view_module": "@jupyter-widgets/base",
            "_model_module_version": "1.5.0",
            "_view_count": null,
            "_view_module_version": "1.2.0",
            "_model_module": "@jupyter-widgets/controls"
          }
        },
        "741e42426f8d4f3f8f82bd636320b34d": {
          "model_module": "@jupyter-widgets/base",
          "model_name": "LayoutModel",
          "model_module_version": "1.2.0",
          "state": {
            "_view_name": "LayoutView",
            "grid_template_rows": null,
            "right": null,
            "justify_content": null,
            "_view_module": "@jupyter-widgets/base",
            "overflow": null,
            "_model_module_version": "1.2.0",
            "_view_count": null,
            "flex_flow": null,
            "width": null,
            "min_width": null,
            "border": null,
            "align_items": null,
            "bottom": null,
            "_model_module": "@jupyter-widgets/base",
            "top": null,
            "grid_column": null,
            "overflow_y": null,
            "overflow_x": null,
            "grid_auto_flow": null,
            "grid_area": null,
            "grid_template_columns": null,
            "flex": null,
            "_model_name": "LayoutModel",
            "justify_items": null,
            "grid_row": null,
            "max_height": null,
            "align_content": null,
            "visibility": null,
            "align_self": null,
            "height": null,
            "min_height": null,
            "padding": null,
            "grid_auto_rows": null,
            "grid_gap": null,
            "max_width": null,
            "order": null,
            "_view_module_version": "1.2.0",
            "grid_template_areas": null,
            "object_position": null,
            "object_fit": null,
            "grid_auto_columns": null,
            "margin": null,
            "display": null,
            "left": null
          }
        }
      }
    }
  },
  "cells": [
    {
      "cell_type": "markdown",
      "metadata": {
        "id": "vsNCReX_TXA3"
      },
      "source": [
        "### Imports and Installations"
      ]
    },
    {
      "cell_type": "code",
      "metadata": {
        "id": "1dhhhQjZkNV_"
      },
      "source": [
        "import spacy\n",
        "import en_core_web_sm\n",
        "nlp_spacy_core_web_lg = en_core_web_sm.load()\n"
      ],
      "execution_count": 1,
      "outputs": []
    },
    {
      "cell_type": "code",
      "metadata": {
        "colab": {
          "base_uri": "https://localhost:8080/"
        },
        "id": "sOzFLZlRq-Y9",
        "outputId": "c65f578d-c3dc-4116-97cd-f9d469bfe0e4"
      },
      "source": [
        "pip install transformers"
      ],
      "execution_count": 2,
      "outputs": [
        {
          "output_type": "stream",
          "text": [
            "Collecting transformers\n",
            "  Downloading transformers-4.9.2-py3-none-any.whl (2.6 MB)\n",
            "\u001b[K     |████████████████████████████████| 2.6 MB 7.1 MB/s \n",
            "\u001b[?25hCollecting tokenizers<0.11,>=0.10.1\n",
            "  Downloading tokenizers-0.10.3-cp37-cp37m-manylinux_2_5_x86_64.manylinux1_x86_64.manylinux_2_12_x86_64.manylinux2010_x86_64.whl (3.3 MB)\n",
            "\u001b[K     |████████████████████████████████| 3.3 MB 33.5 MB/s \n",
            "\u001b[?25hCollecting pyyaml>=5.1\n",
            "  Downloading PyYAML-5.4.1-cp37-cp37m-manylinux1_x86_64.whl (636 kB)\n",
            "\u001b[K     |████████████████████████████████| 636 kB 53.8 MB/s \n",
            "\u001b[?25hCollecting sacremoses\n",
            "  Downloading sacremoses-0.0.45-py3-none-any.whl (895 kB)\n",
            "\u001b[K     |████████████████████████████████| 895 kB 74.6 MB/s \n",
            "\u001b[?25hRequirement already satisfied: requests in /usr/local/lib/python3.7/dist-packages (from transformers) (2.23.0)\n",
            "Requirement already satisfied: regex!=2019.12.17 in /usr/local/lib/python3.7/dist-packages (from transformers) (2019.12.20)\n",
            "Requirement already satisfied: filelock in /usr/local/lib/python3.7/dist-packages (from transformers) (3.0.12)\n",
            "Collecting huggingface-hub==0.0.12\n",
            "  Downloading huggingface_hub-0.0.12-py3-none-any.whl (37 kB)\n",
            "Requirement already satisfied: numpy>=1.17 in /usr/local/lib/python3.7/dist-packages (from transformers) (1.19.5)\n",
            "Requirement already satisfied: importlib-metadata in /usr/local/lib/python3.7/dist-packages (from transformers) (4.6.4)\n",
            "Requirement already satisfied: tqdm>=4.27 in /usr/local/lib/python3.7/dist-packages (from transformers) (4.62.0)\n",
            "Requirement already satisfied: packaging in /usr/local/lib/python3.7/dist-packages (from transformers) (21.0)\n",
            "Requirement already satisfied: typing-extensions in /usr/local/lib/python3.7/dist-packages (from huggingface-hub==0.0.12->transformers) (3.7.4.3)\n",
            "Requirement already satisfied: pyparsing>=2.0.2 in /usr/local/lib/python3.7/dist-packages (from packaging->transformers) (2.4.7)\n",
            "Requirement already satisfied: zipp>=0.5 in /usr/local/lib/python3.7/dist-packages (from importlib-metadata->transformers) (3.5.0)\n",
            "Requirement already satisfied: certifi>=2017.4.17 in /usr/local/lib/python3.7/dist-packages (from requests->transformers) (2021.5.30)\n",
            "Requirement already satisfied: chardet<4,>=3.0.2 in /usr/local/lib/python3.7/dist-packages (from requests->transformers) (3.0.4)\n",
            "Requirement already satisfied: idna<3,>=2.5 in /usr/local/lib/python3.7/dist-packages (from requests->transformers) (2.10)\n",
            "Requirement already satisfied: urllib3!=1.25.0,!=1.25.1,<1.26,>=1.21.1 in /usr/local/lib/python3.7/dist-packages (from requests->transformers) (1.24.3)\n",
            "Requirement already satisfied: joblib in /usr/local/lib/python3.7/dist-packages (from sacremoses->transformers) (1.0.1)\n",
            "Requirement already satisfied: click in /usr/local/lib/python3.7/dist-packages (from sacremoses->transformers) (7.1.2)\n",
            "Requirement already satisfied: six in /usr/local/lib/python3.7/dist-packages (from sacremoses->transformers) (1.15.0)\n",
            "Installing collected packages: tokenizers, sacremoses, pyyaml, huggingface-hub, transformers\n",
            "  Attempting uninstall: pyyaml\n",
            "    Found existing installation: PyYAML 3.13\n",
            "    Uninstalling PyYAML-3.13:\n",
            "      Successfully uninstalled PyYAML-3.13\n",
            "Successfully installed huggingface-hub-0.0.12 pyyaml-5.4.1 sacremoses-0.0.45 tokenizers-0.10.3 transformers-4.9.2\n"
          ],
          "name": "stdout"
        }
      ]
    },
    {
      "cell_type": "code",
      "metadata": {
        "id": "xb5PoqVjkjV4"
      },
      "source": [
        "from sklearn import feature_extraction, linear_model, model_selection, preprocessing"
      ],
      "execution_count": 3,
      "outputs": []
    },
    {
      "cell_type": "code",
      "metadata": {
        "id": "ZbPzdweDkjV4"
      },
      "source": [
        "import matplotlib.pyplot as plt\n",
        "\n",
        "from sklearn.model_selection import train_test_split\n",
        "from sklearn.decomposition import PCA\n",
        "from sklearn.metrics import classification_report\n",
        "from sklearn.preprocessing import LabelEncoder\n",
        "\n",
        "from lightgbm import LGBMClassifier\n",
        "\n",
        "import tensorflow as tf\n",
        "import tensorflow_hub as hub\n",
        "\n",
        "from transformers import BertTokenizer"
      ],
      "execution_count": 4,
      "outputs": []
    },
    {
      "cell_type": "code",
      "metadata": {
        "id": "IlkVSRrSkjV4",
        "colab": {
          "base_uri": "https://localhost:8080/"
        },
        "outputId": "5a914215-e44a-4ceb-b46a-d071e88e2a1f"
      },
      "source": [
        "import os\n",
        "import pandas as pd\n",
        "# misc\n",
        "import os\n",
        "import re\n",
        "import time\n",
        "import ast\n",
        "import warnings\n",
        "import math\n",
        "import copy\n",
        "import matplotlib.pyplot as plt\n",
        "from xgboost import plot_importance\n",
        "import seaborn as sns\n",
        "\n",
        "# data\n",
        "import pandas as pd\n",
        "import numpy as np\n",
        "import csv\n",
        "\n",
        "# ML\n",
        "from sklearn.preprocessing import MinMaxScaler\n",
        "from sklearn.model_selection import train_test_split\n",
        "from sklearn.model_selection import cross_val_score\n",
        "from sklearn.model_selection import cross_validate\n",
        "from sklearn.model_selection import KFold\n",
        "from sklearn import metrics\n",
        "\n",
        "!pip install scikit-plot\n",
        "import scikitplot as skplt\n",
        "import xgboost "
      ],
      "execution_count": 5,
      "outputs": [
        {
          "output_type": "stream",
          "text": [
            "Collecting scikit-plot\n",
            "  Downloading scikit_plot-0.3.7-py3-none-any.whl (33 kB)\n",
            "Requirement already satisfied: scipy>=0.9 in /usr/local/lib/python3.7/dist-packages (from scikit-plot) (1.4.1)\n",
            "Requirement already satisfied: scikit-learn>=0.18 in /usr/local/lib/python3.7/dist-packages (from scikit-plot) (0.22.2.post1)\n",
            "Requirement already satisfied: matplotlib>=1.4.0 in /usr/local/lib/python3.7/dist-packages (from scikit-plot) (3.2.2)\n",
            "Requirement already satisfied: joblib>=0.10 in /usr/local/lib/python3.7/dist-packages (from scikit-plot) (1.0.1)\n",
            "Requirement already satisfied: kiwisolver>=1.0.1 in /usr/local/lib/python3.7/dist-packages (from matplotlib>=1.4.0->scikit-plot) (1.3.1)\n",
            "Requirement already satisfied: cycler>=0.10 in /usr/local/lib/python3.7/dist-packages (from matplotlib>=1.4.0->scikit-plot) (0.10.0)\n",
            "Requirement already satisfied: pyparsing!=2.0.4,!=2.1.2,!=2.1.6,>=2.0.1 in /usr/local/lib/python3.7/dist-packages (from matplotlib>=1.4.0->scikit-plot) (2.4.7)\n",
            "Requirement already satisfied: numpy>=1.11 in /usr/local/lib/python3.7/dist-packages (from matplotlib>=1.4.0->scikit-plot) (1.19.5)\n",
            "Requirement already satisfied: python-dateutil>=2.1 in /usr/local/lib/python3.7/dist-packages (from matplotlib>=1.4.0->scikit-plot) (2.8.2)\n",
            "Requirement already satisfied: six in /usr/local/lib/python3.7/dist-packages (from cycler>=0.10->matplotlib>=1.4.0->scikit-plot) (1.15.0)\n",
            "Installing collected packages: scikit-plot\n",
            "Successfully installed scikit-plot-0.3.7\n"
          ],
          "name": "stdout"
        }
      ]
    },
    {
      "cell_type": "code",
      "metadata": {
        "id": "PcD23Z3XlQwe"
      },
      "source": [
        "import matplotlib.pyplot as plt\n",
        "\n",
        "from sklearn.model_selection import train_test_split\n",
        "from sklearn.decomposition import PCA\n",
        "from sklearn.metrics import classification_report\n",
        "from sklearn.preprocessing import LabelEncoder\n",
        "\n",
        "from lightgbm import LGBMClassifier\n",
        "\n",
        "import tensorflow as tf\n",
        "import tensorflow_hub as hub\n",
        "\n",
        "from transformers import BertTokenizer"
      ],
      "execution_count": 6,
      "outputs": []
    },
    {
      "cell_type": "code",
      "metadata": {
        "id": "E6YmfZmylTxL"
      },
      "source": [
        ""
      ],
      "execution_count": 6,
      "outputs": []
    },
    {
      "cell_type": "code",
      "metadata": {
        "colab": {
          "base_uri": "https://localhost:8080/"
        },
        "id": "b6j_HE2fSE_M",
        "outputId": "9adb8c29-66f8-468f-b537-323158055733"
      },
      "source": [
        "from google.colab import drive \n",
        "drive.mount('/content/drive')\n",
        "os.chdir('/content/drive/My Drive/Datasets')"
      ],
      "execution_count": 7,
      "outputs": [
        {
          "output_type": "stream",
          "text": [
            "Mounted at /content/drive\n"
          ],
          "name": "stdout"
        }
      ]
    },
    {
      "cell_type": "markdown",
      "metadata": {
        "id": "28OlPvQST3w1"
      },
      "source": [
        "### Import and Pre-process Datasets"
      ]
    },
    {
      "cell_type": "code",
      "metadata": {
        "id": "vgXK7HB00n-A"
      },
      "source": [
        "headlines = pd.read_excel(\"Headlines_Tokenized.xlsx\")\n",
        "df = pd.read_csv(\"DatasetFull.csv\", encoding = 'latin-1')\n",
        "af_headlines = pd.read_csv(\"AdFontes Article Classifications.csv\", encoding = \"latin-1\")\n",
        "babe = pd.read_csv(\"final_labels_SG2.xlsx - Sheet1.csv\")"
      ],
      "execution_count": 8,
      "outputs": []
    },
    {
      "cell_type": "code",
      "metadata": {
        "id": "PByf_DlSu5aD"
      },
      "source": [
        "df['Label'] = df.Bias.apply(lambda x: 1 if x == \"AllSides Media Bias Rating: Left\" or x == \"AllSides Media Bias Rating: Right\" else (0 if x == \"AllSides Media Bias Rating: Center\" else -99))\n",
        "headlines['Label'] = headlines.Bias.apply(lambda x: 1 if x == \"AllSides Media Bias Rating: Left\" or x == \"AllSides Media Bias Rating: Right\" else (0 if x == \"AllSides Media Bias Rating: Center\" else -99))\n",
        "af_headlines['Label'] = af_headlines.Bias.apply(lambda x: 1 if (x > 10) | (x < -10) else (0 if (x < 5) & (x > -5) else -99))\n",
        "babe['Label'] = babe.label_bias.apply(lambda x: 1 if x == \"Biased\" else 0)"
      ],
      "execution_count": 9,
      "outputs": []
    },
    {
      "cell_type": "code",
      "metadata": {
        "id": "vHEKfnuDu5tD"
      },
      "source": [
        "df = df[df[\"Label\"] > -50]\n",
        "df = df.reset_index()\n",
        "\n",
        "af_headlines = af_headlines[af_headlines[\"Label\"] > -50]\n",
        "af_headlines = af_headlines.reset_index()"
      ],
      "execution_count": 10,
      "outputs": []
    },
    {
      "cell_type": "code",
      "metadata": {
        "colab": {
          "base_uri": "https://localhost:8080/"
        },
        "id": "AoFVR4K4vRut",
        "outputId": "bbc6d9f6-d797-4c26-b3b5-e9a4bfa14d5b"
      },
      "source": [
        "df['Label'].value_counts()"
      ],
      "execution_count": 11,
      "outputs": [
        {
          "output_type": "execute_result",
          "data": {
            "text/plain": [
              "1    4482\n",
              "0    4168\n",
              "Name: Label, dtype: int64"
            ]
          },
          "metadata": {
            "tags": []
          },
          "execution_count": 11
        }
      ]
    },
    {
      "cell_type": "code",
      "metadata": {
        "colab": {
          "base_uri": "https://localhost:8080/"
        },
        "id": "ylN-YjMD8Rvv",
        "outputId": "231474b1-2949-4589-84f5-5db2c5650776"
      },
      "source": [
        "af_headlines['Label'].value_counts()"
      ],
      "execution_count": 12,
      "outputs": [
        {
          "output_type": "execute_result",
          "data": {
            "text/plain": [
              "0    2536\n",
              "1    1980\n",
              "Name: Label, dtype: int64"
            ]
          },
          "metadata": {
            "tags": []
          },
          "execution_count": 12
        }
      ]
    },
    {
      "cell_type": "code",
      "metadata": {
        "colab": {
          "base_uri": "https://localhost:8080/"
        },
        "id": "GbVSkCVEUK50",
        "outputId": "ea16f38d-9bec-48ee-fb1d-f44b9efc73bb"
      },
      "source": [
        "babe['Label'].value_counts()"
      ],
      "execution_count": 13,
      "outputs": [
        {
          "output_type": "execute_result",
          "data": {
            "text/plain": [
              "0    1864\n",
              "1    1810\n",
              "Name: Label, dtype: int64"
            ]
          },
          "metadata": {
            "tags": []
          },
          "execution_count": 13
        }
      ]
    },
    {
      "cell_type": "code",
      "metadata": {
        "id": "JFSizPkyvxE9"
      },
      "source": [
        "x = df.drop(['Label', 'Bias'], 1)\n",
        "y = df[['Label']]"
      ],
      "execution_count": 14,
      "outputs": []
    },
    {
      "cell_type": "code",
      "metadata": {
        "id": "Xk3A8fzzv8Re"
      },
      "source": [
        "# train-test split\n",
        "train_features, test_features, train_labels, test_labels = train_test_split(x, y,\n",
        "                                                                                                             test_size = 0.10, random_state = 42)\n",
        "train_features1, val_features, train_labels1, val_labels = train_test_split(train_features, train_labels,\n",
        "                                                                                                             test_size = 0.10, random_state = 42)"
      ],
      "execution_count": 15,
      "outputs": []
    },
    {
      "cell_type": "code",
      "metadata": {
        "id": "q-bq85ogRHpt"
      },
      "source": [
        "x_b = babe[['text']]\n",
        "y_b = babe[['Label']]"
      ],
      "execution_count": 16,
      "outputs": []
    },
    {
      "cell_type": "code",
      "metadata": {
        "id": "NpNYWIperpW1"
      },
      "source": [
        "train_features_b, test_features_b, train_labels_b, test_labels_b = train_test_split(x_b, y_b, test_size = 0.10, random_state = 42)\n",
        "train_features1_b, val_features_b, train_labels1_b, val_labels_b = train_test_split(train_features_b, train_labels_b, test_size = 0.10, random_state = 42)"
      ],
      "execution_count": 17,
      "outputs": []
    },
    {
      "cell_type": "code",
      "metadata": {
        "colab": {
          "base_uri": "https://localhost:8080/",
          "height": 281
        },
        "id": "yOY_7sQolVSp",
        "outputId": "53aab8d1-0409-4289-e831-b82cd03883a2"
      },
      "source": [
        "def plot_headline_len(dataf, col, title):\n",
        "    dataf['len_' + col] = dataf[col].apply(lambda txt: len(txt.split()))\n",
        "    plt.hist(dataf['len_' + col], bins = 100)\n",
        "    plt.title(title)\n",
        "    plt.show()\n",
        "    return dataf\n",
        "\n",
        "col = 'Headline'\n",
        "df = plot_headline_len(df, col, 'AllSides Headline Lengths')"
      ],
      "execution_count": 18,
      "outputs": [
        {
          "output_type": "display_data",
          "data": {
            "image/png": "[encoded data removed]",
            "text/plain": [
              "<Figure size 432x288 with 1 Axes>"
            ]
          },
          "metadata": {
            "tags": [],
            "needs_background": "light"
          }
        }
      ]
    },
    {
      "cell_type": "code",
      "metadata": {
        "colab": {
          "base_uri": "https://localhost:8080/",
          "height": 281
        },
        "id": "sDUeShFFUVQ0",
        "outputId": "aba761e1-507e-41af-c6aa-cdccbfc67905"
      },
      "source": [
        "af_headlines = plot_headline_len(af_headlines, col, 'Ad Fontes Headline Lengths')"
      ],
      "execution_count": 19,
      "outputs": [
        {
          "output_type": "display_data",
          "data": {
            "image/png": "[encoded data removed]",
            "text/plain": [
              "<Figure size 432x288 with 1 Axes>"
            ]
          },
          "metadata": {
            "tags": [],
            "needs_background": "light"
          }
        }
      ]
    },
    {
      "cell_type": "code",
      "metadata": {
        "colab": {
          "base_uri": "https://localhost:8080/",
          "height": 281
        },
        "id": "OPp1q1byUtBv",
        "outputId": "9b036faa-d89e-4fc3-b824-05036033940f"
      },
      "source": [
        "col = 'text'\n",
        "babe = plot_headline_len(babe, col, 'BABE Sentence Lengths')"
      ],
      "execution_count": 20,
      "outputs": [
        {
          "output_type": "display_data",
          "data": {
            "image/png": "[encoded data removed]",
            "text/plain": [
              "<Figure size 432x288 with 1 Axes>"
            ]
          },
          "metadata": {
            "tags": [],
            "needs_background": "light"
          }
        }
      ]
    },
    {
      "cell_type": "code",
      "metadata": {
        "id": "aZxiBBfqkjWT",
        "colab": {
          "base_uri": "https://localhost:8080/",
          "height": 145,
          "referenced_widgets": [
            "30507bebe87e447db90d4a3290ee7075",
            "d7384da4a2a04b19a7cdafa9fe67826e",
            "5d8f885a51de40dd9e916c374534c56a",
            "b83489b1366348329fe7edc2efc23fda",
            "27bde7a55401461f9d92dd07d594f793",
            "d35d0c1c7bc54413b717aa3d12a88f3c",
            "77cb807a117f4844a296b59f906e7946",
            "5da75a90d3e94f2188a6a17ec3905d09",
            "8c283f07ce154e8fbc40a29a46d9f4a5",
            "16f02c41362044249b9059d7e49202c1",
            "813bffc303204b698d4b2e2d2fb2f1a7",
            "800b4c8213fa4fbaba7d6321c37458aa",
            "30ed3f763f884c05adf1de1eb9be0d6c",
            "bda11126c3a34cec8cb20ea7f43a86dd",
            "551d649ffd6a4b96b92edd408ec3dbaa",
            "a7253cee00b44d289a5bd90b1970af72",
            "9988df2ce8e94fadac2737d2e8f98f31",
            "3517e212eac24a0986833a1c11ce50a4",
            "bdddd0490d044e91923dbcce0ff71bb0",
            "90c44d0ab65d4248909492c37bbf7489",
            "1447fc5b98e941afaf88cf7382b6e1ea",
            "da23776a8bad4def942b2185b2d3e87b",
            "58f3d953e5704288be479edbebb7f8cc",
            "f7c696bf11d946b6b9d50557da6fce90",
            "ba61d16061dc4fbd832878070377d5e0",
            "236040e026264196b27df3cc25977d54",
            "bc45e4ef7b2e4335b772e115ff6039c1",
            "d063f4d3971d4d14be5c5b6634956855",
            "3613cd2adebc464d8b7615b9aa5a3b79",
            "6595e909ae684ddd95cde843da58e352",
            "dc89c31d27d440cfaa5286421854e6dd",
            "336f41b790c647d28eddd26abbf6ee4f",
            "b471942371924501b2881144a11400fe",
            "2cd54ea3a5914785a961eef32839d4ef",
            "e36ddd711d8e43b79e7f48edba70c399",
            "d4c42699820d4fb18a4af520de9cf599",
            "750d6775b32a49cda14856d2c61348e7",
            "98b7cf5947384b7e872322197f771adc",
            "32acf68d015f4577b9001018b129c741",
            "dac2a9c2ea614c6f9b8734d11d4b5c66",
            "04599f82886548bc860771b332135a44",
            "eaac9a7621c74934913de5893efa3bd2",
            "8ef031c87d5e470ebd79e6dd4e4c704c",
            "741e42426f8d4f3f8f82bd636320b34d"
          ]
        },
        "outputId": "9440e19c-7f46-4aff-d5de-b5c42f8d3804"
      },
      "source": [
        "tokenizer = BertTokenizer.from_pretrained('bert-base-uncased')"
      ],
      "execution_count": 21,
      "outputs": [
        {
          "output_type": "display_data",
          "data": {
            "application/vnd.jupyter.widget-view+json": {
              "model_id": "30507bebe87e447db90d4a3290ee7075",
              "version_minor": 0,
              "version_major": 2
            },
            "text/plain": [
              "Downloading:   0%|          | 0.00/232k [00:00<?, ?B/s]"
            ]
          },
          "metadata": {
            "tags": []
          }
        },
        {
          "output_type": "display_data",
          "data": {
            "application/vnd.jupyter.widget-view+json": {
              "model_id": "800b4c8213fa4fbaba7d6321c37458aa",
              "version_minor": 0,
              "version_major": 2
            },
            "text/plain": [
              "Downloading:   0%|          | 0.00/28.0 [00:00<?, ?B/s]"
            ]
          },
          "metadata": {
            "tags": []
          }
        },
        {
          "output_type": "display_data",
          "data": {
            "application/vnd.jupyter.widget-view+json": {
              "model_id": "58f3d953e5704288be479edbebb7f8cc",
              "version_minor": 0,
              "version_major": 2
            },
            "text/plain": [
              "Downloading:   0%|          | 0.00/466k [00:00<?, ?B/s]"
            ]
          },
          "metadata": {
            "tags": []
          }
        },
        {
          "output_type": "display_data",
          "data": {
            "application/vnd.jupyter.widget-view+json": {
              "model_id": "2cd54ea3a5914785a961eef32839d4ef",
              "version_minor": 0,
              "version_major": 2
            },
            "text/plain": [
              "Downloading:   0%|          | 0.00/570 [00:00<?, ?B/s]"
            ]
          },
          "metadata": {
            "tags": []
          }
        }
      ]
    },
    {
      "cell_type": "code",
      "metadata": {
        "id": "5IRg0ThSkjWT"
      },
      "source": [
        "def tokenize_txts(txts, max_len = 40):\n",
        "    res = tokenizer(\n",
        "        text = [tokenizer.tokenize(txt) for txt in txts],\n",
        "        max_length = max_len,\n",
        "        padding = 'max_length',\n",
        "        truncation = True,\n",
        "        is_split_into_words = True,\n",
        "    )\n",
        "    return {\n",
        "        'input_word_ids': res['input_ids'],\n",
        "        'input_mask': res['attention_mask'],\n",
        "        'input_type_ids': res['token_type_ids'],\n",
        "    }\n",
        "\n",
        "def detokenize_txt(token):\n",
        "    res = tokenizer.decode(token)\n",
        "    return res"
      ],
      "execution_count": 22,
      "outputs": []
    },
    {
      "cell_type": "code",
      "metadata": {
        "id": "WLCyAO_dkjWT"
      },
      "source": [
        "MAX_LEN = 40\n",
        "BATCH_SIZE = 32"
      ],
      "execution_count": 23,
      "outputs": []
    },
    {
      "cell_type": "code",
      "metadata": {
        "colab": {
          "base_uri": "https://localhost:8080/"
        },
        "id": "CEjD8uKEiQV1",
        "outputId": "446f8535-0a06-4fee-b0c2-b740016caf1f"
      },
      "source": [
        "train_txts_a, test_txts_a, y_train_a, y_test_a = train_test_split(\n",
        "    af_headlines['Headline'].values, af_headlines['Label'].values,\n",
        "    shuffle = True, test_size = 0.15,\n",
        "    stratify = af_headlines['Label'].values,\n",
        ")\n",
        "\n",
        "print('Train size:', train_txts_a.shape)\n",
        "print('Test size:', test_txts_a.shape)"
      ],
      "execution_count": 24,
      "outputs": [
        {
          "output_type": "stream",
          "text": [
            "Train size: (3838,)\n",
            "Test size: (678,)\n"
          ],
          "name": "stdout"
        }
      ]
    },
    {
      "cell_type": "code",
      "metadata": {
        "colab": {
          "base_uri": "https://localhost:8080/"
        },
        "id": "6zsbFciKrA9_",
        "outputId": "d65920e6-2e6a-4f3c-a274-89b51062eec8"
      },
      "source": [
        "train_txts_ac, test_txts_ac, y_train_ac, y_test_ac = train_test_split(\n",
        "    af_headlines[(af_headlines['Bias'] > -5) & (af_headlines['Bias'] < 5)]['Headline'].values, af_headlines[(af_headlines['Bias'] > -5) & (af_headlines['Bias'] < 5)]['Label'].values,\n",
        "    shuffle = True, test_size = 0.15,\n",
        "    stratify = af_headlines[(af_headlines['Bias'] > -5) & (af_headlines['Bias'] < 5)]['Label'].values,\n",
        ")\n",
        "\n",
        "print('Train size:', train_txts_ac.shape)\n",
        "print('Test size:', test_txts_ac.shape)"
      ],
      "execution_count": 25,
      "outputs": [
        {
          "output_type": "stream",
          "text": [
            "Train size: (2155,)\n",
            "Test size: (381,)\n"
          ],
          "name": "stdout"
        }
      ]
    },
    {
      "cell_type": "code",
      "metadata": {
        "colab": {
          "base_uri": "https://localhost:8080/"
        },
        "id": "KkwlOfY7rBIQ",
        "outputId": "ff4270d0-8b1e-4259-f41f-44b843ee9c2c"
      },
      "source": [
        "train_txts_al, test_txts_al, y_train_al, y_test_al = train_test_split(\n",
        "    af_headlines[af_headlines['Bias'] < -10]['Headline'].values, af_headlines[af_headlines['Bias'] < -10]['Label'].values,\n",
        "    shuffle = True, test_size = 0.15,\n",
        "    stratify = af_headlines[af_headlines['Bias'] < -10]['Label'].values,\n",
        ")\n",
        "\n",
        "print('Train size:', train_txts_al.shape)\n",
        "print('Test size:', test_txts_al.shape)"
      ],
      "execution_count": 26,
      "outputs": [
        {
          "output_type": "stream",
          "text": [
            "Train size: (892,)\n",
            "Test size: (158,)\n"
          ],
          "name": "stdout"
        }
      ]
    },
    {
      "cell_type": "code",
      "metadata": {
        "colab": {
          "base_uri": "https://localhost:8080/"
        },
        "id": "8LPYBoggrBS7",
        "outputId": "34d1a6fc-f29d-4172-b633-d4082d190ac9"
      },
      "source": [
        "train_txts_ar, test_txts_ar, y_train_ar, y_test_ar = train_test_split(\n",
        "    af_headlines[af_headlines['Bias'] > 10]['Headline'].values, af_headlines[af_headlines['Bias'] > 10]['Label'].values,\n",
        "    shuffle = True, test_size = 0.15,\n",
        "    stratify = af_headlines[af_headlines['Bias'] > 10]['Label'].values,\n",
        ")\n",
        "\n",
        "print('Train size:', train_txts_ar.shape)\n",
        "print('Test size:', test_txts_ar.shape)"
      ],
      "execution_count": 27,
      "outputs": [
        {
          "output_type": "stream",
          "text": [
            "Train size: (790,)\n",
            "Test size: (140,)\n"
          ],
          "name": "stdout"
        }
      ]
    },
    {
      "cell_type": "code",
      "metadata": {
        "colab": {
          "base_uri": "https://localhost:8080/"
        },
        "id": "Z3qbe-KWxBK4",
        "outputId": "06994344-49d6-46c9-d3a5-d5b9bdf33ec1"
      },
      "source": [
        "train_txts_b, test_txts_b, y_train_b, y_test_b = train_test_split(\n",
        "    babe['text'].values, babe['Label'].values,\n",
        "    shuffle = True, test_size = 0.15,\n",
        "    stratify = babe['Label'].values,\n",
        ")\n",
        "\n",
        "print('Train size:', train_txts_b.shape)\n",
        "print('Test size:', test_txts_b.shape)"
      ],
      "execution_count": 28,
      "outputs": [
        {
          "output_type": "stream",
          "text": [
            "Train size: (3122,)\n",
            "Test size: (552,)\n"
          ],
          "name": "stdout"
        }
      ]
    },
    {
      "cell_type": "code",
      "metadata": {
        "id": "JRkId5NykjWT",
        "colab": {
          "base_uri": "https://localhost:8080/"
        },
        "outputId": "d1a3b0ef-2995-4378-974d-841ed7c827e6"
      },
      "source": [
        "train_txts, test_txts, y_train, y_test = train_test_split(\n",
        "    df['Headline'].values, df['Label'].values,\n",
        "    shuffle = True, test_size = 0.15,\n",
        "    stratify = df['Label'].values,\n",
        ")\n",
        "\n",
        "print('Train size:', train_txts.shape)\n",
        "print('Test size:', test_txts.shape)"
      ],
      "execution_count": 30,
      "outputs": [
        {
          "output_type": "stream",
          "text": [
            "Train size: (7352,)\n",
            "Test size: (1298,)\n"
          ],
          "name": "stdout"
        }
      ]
    },
    {
      "cell_type": "code",
      "metadata": {
        "id": "HkA_PX2eoWKK"
      },
      "source": [
        "col = 'Headline'"
      ],
      "execution_count": 33,
      "outputs": []
    },
    {
      "cell_type": "code",
      "metadata": {
        "colab": {
          "base_uri": "https://localhost:8080/"
        },
        "id": "ckd1vLmdj028",
        "outputId": "fb25bb11-777e-4820-dd86-2a2cdba51e48"
      },
      "source": [
        "train_txtsr, test_txtsr, y_trainr, y_testr = train_test_split(\n",
        "    df[df[\"Bias\"] == \"AllSides Media Bias Rating: Right\"][col].values, df[df[\"Bias\"] == \"AllSides Media Bias Rating: Right\"]['Label'].values,\n",
        "    shuffle = True, test_size = 0.15,\n",
        "    stratify = df[df[\"Bias\"] == \"AllSides Media Bias Rating: Right\"]['Label'].values,\n",
        ")\n",
        "\n",
        "print('Train size:', train_txtsr.shape)\n",
        "print('Test size:', test_txtsr.shape)"
      ],
      "execution_count": 34,
      "outputs": [
        {
          "output_type": "stream",
          "text": [
            "Train size: (1389,)\n",
            "Test size: (246,)\n"
          ],
          "name": "stdout"
        }
      ]
    },
    {
      "cell_type": "code",
      "metadata": {
        "colab": {
          "base_uri": "https://localhost:8080/"
        },
        "id": "nLF3WSgbkMpB",
        "outputId": "38ee909a-b7b2-427a-dcba-105382c05715"
      },
      "source": [
        "train_txtsl, test_txtsl, y_trainl, y_testl = train_test_split(\n",
        "    df[df[\"Bias\"] == \"AllSides Media Bias Rating: Left\"][col].values, df[df[\"Bias\"] == \"AllSides Media Bias Rating: Left\"]['Label'].values,\n",
        "    shuffle = True, test_size = 0.15,\n",
        "    stratify = df[df[\"Bias\"] == \"AllSides Media Bias Rating: Left\"]['Label'].values,\n",
        ")\n",
        "\n",
        "print('Train size:', train_txtsl.shape)\n",
        "print('Test size:', test_txtsl.shape)"
      ],
      "execution_count": 35,
      "outputs": [
        {
          "output_type": "stream",
          "text": [
            "Train size: (2419,)\n",
            "Test size: (428,)\n"
          ],
          "name": "stdout"
        }
      ]
    },
    {
      "cell_type": "code",
      "metadata": {
        "colab": {
          "base_uri": "https://localhost:8080/"
        },
        "id": "06e4VrhBkM5I",
        "outputId": "e8e9417d-2b54-401f-b7f2-e65f0be214ba"
      },
      "source": [
        "train_txtsc, test_txtsc, y_trainc, y_testc = train_test_split(\n",
        "    df[df[\"Bias\"] == \"AllSides Media Bias Rating: Center\"][col].values, df[df[\"Bias\"] == \"AllSides Media Bias Rating: Center\"]['Label'].values,\n",
        "    shuffle = True, test_size = 0.15,\n",
        "    stratify = df[df[\"Bias\"] == \"AllSides Media Bias Rating: Center\"]['Label'].values,\n",
        ")\n",
        "\n",
        "print('Train size:', train_txtsc.shape)\n",
        "print('Test size:', test_txtsc.shape)"
      ],
      "execution_count": 36,
      "outputs": [
        {
          "output_type": "stream",
          "text": [
            "Train size: (3542,)\n",
            "Test size: (626,)\n"
          ],
          "name": "stdout"
        }
      ]
    },
    {
      "cell_type": "code",
      "metadata": {
        "id": "Qe22ziG5kjWU"
      },
      "source": [
        "train_tokens = tokenize_txts(train_txts, MAX_LEN)\n",
        "test_tokens = tokenize_txts(test_txts, MAX_LEN)\n",
        "\n",
        "test_tokensc = tokenize_txts(test_txtsc, MAX_LEN)\n",
        "\n",
        "test_tokensr = tokenize_txts(test_txtsr, MAX_LEN)\n",
        "\n",
        "test_tokensl = tokenize_txts(test_txtsl, MAX_LEN)\n",
        "\n",
        "train_tokens_b = tokenize_txts(train_txts_b, MAX_LEN)\n",
        "test_tokens_b = tokenize_txts(test_txts_b, MAX_LEN)\n",
        "train_tokens_a = tokenize_txts(train_txts_a, MAX_LEN)\n",
        "test_tokens_a = tokenize_txts(test_txts_a, MAX_LEN)\n",
        "\n",
        "test_tokens_ac = tokenize_txts(test_txts_ac, MAX_LEN)\n",
        "\n",
        "test_tokens_ar = tokenize_txts(test_txts_ar, MAX_LEN)\n",
        "\n",
        "test_tokens_al = tokenize_txts(test_txts_al, MAX_LEN)\n",
        "\n",
        "af_full = tokenize_txts(af_headlines[\"Headline\"], MAX_LEN)\n",
        "babe_full = tokenize_txts(babe[\"text\"], MAX_LEN)\n"
      ],
      "execution_count": 37,
      "outputs": []
    },
    {
      "cell_type": "code",
      "metadata": {
        "id": "DA-nXOzvkjWU"
      },
      "source": [
        "train_ds = tf.data.Dataset.from_tensor_slices((train_tokens, y_train))\n",
        "test_ds = tf.data.Dataset.from_tensor_slices((test_tokens, y_test))\n",
        "\n",
        "test_dsc = tf.data.Dataset.from_tensor_slices((test_tokensc, y_testc))\n",
        "test_dsr = tf.data.Dataset.from_tensor_slices((test_tokensr, y_testr))\n",
        "test_dsl = tf.data.Dataset.from_tensor_slices((test_tokensl, y_testl))\n",
        "\n",
        "test_ds_ac = tf.data.Dataset.from_tensor_slices((test_tokens_ac, y_test_ac))\n",
        "test_ds_ar = tf.data.Dataset.from_tensor_slices((test_tokens_ar, y_test_ar))\n",
        "test_ds_al = tf.data.Dataset.from_tensor_slices((test_tokens_al, y_test_al))\n",
        "\n",
        "train_ds_b = tf.data.Dataset.from_tensor_slices((train_tokens_b, y_train_b))\n",
        "test_ds_b = tf.data.Dataset.from_tensor_slices((test_tokens_b, y_test_b))\n",
        "train_ds_a = tf.data.Dataset.from_tensor_slices((train_tokens_a, y_train_a))\n",
        "test_ds_a = tf.data.Dataset.from_tensor_slices((test_tokens_a, y_test_a))\n",
        "af_full_ds = tf.data.Dataset.from_tensor_slices((af_full, af_headlines[\"Label\"]))\n",
        "babe_full_ds = tf.data.Dataset.from_tensor_slices((babe_full, babe[\"Label\"]))\n",
        "\n",
        "train_ds = train_ds.batch(BATCH_SIZE)\n",
        "test_ds = test_ds.batch(BATCH_SIZE)\n",
        "\n",
        "test_dsc = test_dsc.batch(BATCH_SIZE)\n",
        "test_dsr = test_dsr.batch(BATCH_SIZE)\n",
        "test_dsl = test_dsl.batch(BATCH_SIZE)\n",
        "\n",
        "test_ds_ac = test_ds_ac.batch(BATCH_SIZE)\n",
        "test_ds_ar = test_ds_ar.batch(BATCH_SIZE)\n",
        "test_ds_al = test_ds_al.batch(BATCH_SIZE)\n",
        "\n",
        "\n",
        "train_ds_b = train_ds_b.batch(BATCH_SIZE)\n",
        "test_ds_b = test_ds_b.batch(BATCH_SIZE)\n",
        "train_ds_a = train_ds_a.batch(BATCH_SIZE)\n",
        "test_ds_a = test_ds_a.batch(BATCH_SIZE)\n",
        "af_full_ds = af_full_ds.batch(BATCH_SIZE)\n",
        "babe_full_ds = babe_full_ds.batch(BATCH_SIZE)"
      ],
      "execution_count": 38,
      "outputs": []
    },
    {
      "cell_type": "markdown",
      "metadata": {
        "id": "AW_xmv_cVJj3"
      },
      "source": [
        "### Set-up Functions"
      ]
    },
    {
      "cell_type": "code",
      "metadata": {
        "id": "at_VhisfkjWU"
      },
      "source": [
        "class MyF1(tf.keras.metrics.Metric):\n",
        "    def __init__(self, name = 'mf1_score'):\n",
        "        super(MyF1, self).__init__(name)\n",
        "        self.p = tf.metrics.Precision()\n",
        "        self.r = tf.metrics.Recall()\n",
        "        self.f1 = self.add_weight(name=\"f1\", initializer=\"zeros\")\n",
        "    \n",
        "    def update_state(self, actual, predicted, sample_weight = None):\n",
        "        self.p.update_state(actual, predicted)\n",
        "        self.r.update_state(actual, predicted)\n",
        "        self.f1.assign(2 * self.p.result() * self.r.result() / (self.p.result() + self.r.result()))\n",
        "        \n",
        "    def reset_states(self, ):\n",
        "        self.p.reset_states()\n",
        "        self.r.reset_states()\n",
        "        self.f1.assign(0.0)\n",
        "    def result(self,):\n",
        "        return self.f1  "
      ],
      "execution_count": 39,
      "outputs": []
    },
    {
      "cell_type": "code",
      "metadata": {
        "id": "3nGGps-VkjWU",
        "colab": {
          "base_uri": "https://localhost:8080/",
          "height": 295
        },
        "outputId": "58404784-7ef6-4227-b38f-dbe02ae59dd6"
      },
      "source": [
        "class CSchedule(tf.keras.optimizers.schedules.LearningRateSchedule):\n",
        "    def __init__(self, lr, freeze_epoch ,batch_size, data_size):\n",
        "        super(CSchedule, self).__init__()\n",
        "        self.lr = lr\n",
        "        self.bs = batch_size\n",
        "        self.ds = data_size\n",
        "        self.freeze_epoch = freeze_epoch\n",
        "\n",
        "    def __call__(self, step):\n",
        "        epoch = step /(self.ds / self.bs) + 1\n",
        "        if not self.freeze_epoch or epoch < self.freeze_epoch:\n",
        "            return self.lr / (tf.cast(epoch, tf.float32)+1)\n",
        "        else:\n",
        "            return self.lr * 10 / (tf.cast(epoch, tf.float32)+1)\n",
        "        \n",
        "clr = CSchedule(2e-5, 3, BATCH_SIZE, len(train_txts))\n",
        "plt.plot([clr(x) for x in tf.range(1, 1457, dtype=tf.float32)])\n",
        "plt.xlabel('steps')\n",
        "plt.ylabel('learning rate')\n",
        "plt.title('Learning Rate Schedule')\n",
        "plt.show()"
      ],
      "execution_count": 40,
      "outputs": [
        {
          "output_type": "display_data",
          "data": {
            "image/png": "[encoded data removed]",
            "text/plain": [
              "<Figure size 432x288 with 1 Axes>"
            ]
          },
          "metadata": {
            "tags": [],
            "needs_background": "light"
          }
        }
      ]
    },
    {
      "cell_type": "code",
      "metadata": {
        "id": "ywBlQAlZkjWV"
      },
      "source": [
        "bert_handler = 'https://tfhub.dev/tensorflow/bert_en_uncased_L-12_H-768_A-12/4'"
      ],
      "execution_count": 41,
      "outputs": []
    },
    {
      "cell_type": "code",
      "metadata": {
        "id": "-BlBZh1UkjWV"
      },
      "source": [
        "class MClassifier(tf.keras.Model):\n",
        "    def __init__(self, dropout_rate):\n",
        "        super(MClassifier, self).__init__()\n",
        "        \n",
        "        self.bert_layer = hub.KerasLayer(\n",
        "            bert_handler,\n",
        "            name = 'feature_ext',\n",
        "            trainable = True,\n",
        "        )\n",
        "        self.dropout = tf.keras.layers.Dropout(dropout_rate)\n",
        "        self.proba = tf.keras.layers.Dense(1, activation = 'sigmoid')\n",
        "\n",
        "    def call(self, X_in, training):\n",
        "        x = self.bert_layer(X_in, training = training)\n",
        "        x = x['pooled_output']\n",
        "        x = self.dropout(x, training = training)\n",
        "        output = self.proba(x)\n",
        "        return output"
      ],
      "execution_count": 42,
      "outputs": []
    },
    {
      "cell_type": "code",
      "metadata": {
        "id": "wpKV8e4ekjWV"
      },
      "source": [
        "LEARNING_RATE = 2e-5\n",
        "EPOCHS = 5\n",
        "DP_RATE = 0.3\n",
        "\n",
        "loss_objective = tf.keras.losses.BinaryCrossentropy()"
      ],
      "execution_count": 43,
      "outputs": []
    },
    {
      "cell_type": "code",
      "metadata": {
        "id": "HKIdBmjYkjWV"
      },
      "source": [
        "def model_evaluation(model, ds, name):\n",
        "    acc = tf.keras.metrics.BinaryAccuracy()\n",
        "    f1 = MyF1()\n",
        "    total_loss = []\n",
        "    y_hats = []\n",
        "    for X, y in ds:\n",
        "        y_hat = model(X, training = False)\n",
        "        loss = loss_objective(y, y_hat)\n",
        "        acc.update_state(y, y_hat)\n",
        "        f1.update_state(y, y_hat)\n",
        "        total_loss.append(loss.numpy())\n",
        "        y_hats.append(y_hat)\n",
        "    y_hats = tf.concat(y_hats, axis = 0).numpy()\n",
        "    print(f'{name}, loss {np.mean(total_loss):.3f}, acc {acc.result().numpy():.3f}, f1 {f1.result().numpy():.3f}')\n",
        "    return y_hats, acc.result().numpy(), f1.result().numpy()"
      ],
      "execution_count": 44,
      "outputs": []
    },
    {
      "cell_type": "code",
      "metadata": {
        "id": "CKVZwwDekjWV"
      },
      "source": [
        "@tf.function\n",
        "def train_step(model, tr_vars, X, y):\n",
        "    with tf.GradientTape() as tape:\n",
        "        y_hat = model(X, training = True)\n",
        "        loss = loss_objective(y, y_hat)\n",
        "    grads = tape.gradient(loss, tr_vars)\n",
        "    return loss, grads, y_hat\n",
        "\n",
        "def train_model(model, epochs, freeze_bert_on_epoch = None):\n",
        "    clr = CSchedule(LEARNING_RATE, freeze_bert_on_epoch, BATCH_SIZE, len(train_txts))\n",
        "    optimizer = tf.keras.optimizers.Adam(clr)\n",
        "    acc = tf.keras.metrics.BinaryAccuracy()\n",
        "    f1 = MyF1()\n",
        "    for epoch in range(1, epochs + 1):\n",
        "        \n",
        "        if freeze_bert_on_epoch is not None and epoch == freeze_bert_on_epoch:\n",
        "            model.get_layer('feature_ext').trainable = False\n",
        "            \n",
        "        acc.reset_states()\n",
        "        f1.reset_states()\n",
        "        total_loss = []\n",
        "        for X, y in train_ds:\n",
        "            tr_vars = model.trainable_variables\n",
        "            loss, grads, y_hat = train_step(model, tr_vars, X, y)\n",
        "            optimizer.apply_gradients(zip(grads, tr_vars))\n",
        "            acc.update_state(y, y_hat)\n",
        "            f1.update_state(y, y_hat)\n",
        "            total_loss.append(loss.numpy())\n",
        "            \n",
        "        print(f'epoch {epoch}, loss {np.mean(total_loss):.3f}, acc {acc.result().numpy():.3f}, f1 {f1.result().numpy():.3f}')\n",
        "        \n",
        "        \n",
        "    y_test_hat, _, _ = model_evaluation(model, test_ds, 'test')\n",
        "    y_test_hat_c, _, _ = model_evaluation(model, test_dsc, 'test on the center')\n",
        "    y_test_hat_r, _, _ = model_evaluation(model, test_dsr, 'test on the right')\n",
        "    y_test_hat_l, _, _ = model_evaluation(model, test_dsl, 'test on the left')\n",
        "    return y_test_hat, y_test_hat_c, y_test_hat_r, y_test_hat_l"
      ],
      "execution_count": 45,
      "outputs": []
    },
    {
      "cell_type": "markdown",
      "metadata": {
        "id": "pD76ZqLcVY6K"
      },
      "source": [
        "### Results"
      ]
    },
    {
      "cell_type": "markdown",
      "metadata": {
        "id": "EWnDJDW7VZOY"
      },
      "source": [
        "#### Training Testing AllSides"
      ]
    },
    {
      "cell_type": "code",
      "metadata": {
        "id": "CdmOkE_RkjWV",
        "colab": {
          "base_uri": "https://localhost:8080/"
        },
        "outputId": "a4fc2684-d79c-4aaf-c3ca-ce0adfd9d8b0"
      },
      "source": [
        "model = MClassifier(DP_RATE,)\n",
        "y_test_hat, y_test_hat_c, y_test_hat_r, y_test_hat_l = train_model(model, EPOCHS, freeze_bert_on_epoch = 3)"
      ],
      "execution_count": 46,
      "outputs": [
        {
          "output_type": "stream",
          "text": [
            "INFO:absl:Using /tmp/tfhub_modules to cache modules.\n",
            "INFO:absl:Downloading TF-Hub Module 'https://tfhub.dev/tensorflow/bert_en_uncased_L-12_H-768_A-12/4'.\n",
            "INFO:absl:Downloaded https://tfhub.dev/tensorflow/bert_en_uncased_L-12_H-768_A-12/4, Total size: 429.66MB\n",
            "INFO:absl:Downloaded TF-Hub Module 'https://tfhub.dev/tensorflow/bert_en_uncased_L-12_H-768_A-12/4'.\n"
          ],
          "name": "stderr"
        },
        {
          "output_type": "stream",
          "text": [
            "epoch 1, loss 0.701, acc 0.536, f1 0.566\n",
            "epoch 2, loss 0.656, acc 0.607, f1 0.634\n",
            "epoch 3, loss 0.607, acc 0.675, f1 0.679\n",
            "epoch 4, loss 0.603, acc 0.672, f1 0.683\n",
            "epoch 5, loss 0.599, acc 0.679, f1 0.690\n",
            "test, loss 0.667, acc 0.618, f1 0.630\n",
            "test on the center, loss 0.636, acc 0.639, f1 nan\n",
            "test on the right, loss 0.595, acc 0.700, f1 0.820\n",
            "test on the left, loss 0.564, acc 0.688, f1 0.813\n"
          ],
          "name": "stdout"
        }
      ]
    },
    {
      "cell_type": "code",
      "metadata": {
        "colab": {
          "base_uri": "https://localhost:8080/"
        },
        "id": "ih0Grhtplm72",
        "outputId": "4dc3fcd8-c752-43b8-f497-0f835ca6a3ee"
      },
      "source": [
        "type(y_test)"
      ],
      "execution_count": 47,
      "outputs": [
        {
          "output_type": "execute_result",
          "data": {
            "text/plain": [
              "numpy.ndarray"
            ]
          },
          "metadata": {
            "tags": []
          },
          "execution_count": 47
        }
      ]
    },
    {
      "cell_type": "code",
      "metadata": {
        "id": "6X_AM8gYB7sa"
      },
      "source": [
        "y_model_hat = np.array([1 if x[0] >0.5 else 0 for x in y_test_hat])\n",
        "\n",
        "correct_list_bert = []\n",
        "for i in range(len(y_model_hat)):\n",
        "  if y_model_hat[i] == y_test[i]:\n",
        "\n",
        "    correct_list_bert.append(1)\n",
        "  else:\n",
        "    correct_list_bert.append(0)\n",
        "\n",
        "ran_pred = pd.Series(np.random.randint(2, size=len(y_test)))\n",
        "\n",
        "correct_list_ran = []\n",
        "for i in range(len(y_model_hat)):\n",
        "  if ran_pred[i] == y_test[i]:\n",
        "\n",
        "    correct_list_ran.append(1)\n",
        "  else:\n",
        "    correct_list_ran.append(0)"
      ],
      "execution_count": 48,
      "outputs": []
    },
    {
      "cell_type": "code",
      "metadata": {
        "id": "6SjucthMkjWW",
        "colab": {
          "base_uri": "https://localhost:8080/"
        },
        "outputId": "b6d78538-1f2e-476e-f76c-9abfabf24540"
      },
      "source": [
        "y_model_hat = np.array([1 if x[0] >0.5 else 0 for x in y_test_hat])\n",
        "print(classification_report(y_test, y_model_hat))\n",
        "y_model_hatc = np.array([1 if x[0] >0.5 else 0 for x in y_test_hat_c])\n",
        "print(classification_report(y_testc, y_model_hatc))\n",
        "y_model_hatr = np.array([1 if x[0] >0.5 else 0 for x in y_test_hat_r])\n",
        "print(classification_report(y_testr, y_model_hatr))\n",
        "y_model_hatl = np.array([1 if x[0] >0.5 else 0 for x in y_test_hat_l])\n",
        "print(classification_report(y_testl, y_model_hatl))"
      ],
      "execution_count": 49,
      "outputs": [
        {
          "output_type": "stream",
          "text": [
            "              precision    recall  f1-score   support\n",
            "\n",
            "           0       0.60      0.61      0.61       625\n",
            "           1       0.63      0.63      0.63       673\n",
            "\n",
            "    accuracy                           0.62      1298\n",
            "   macro avg       0.62      0.62      0.62      1298\n",
            "weighted avg       0.62      0.62      0.62      1298\n",
            "\n",
            "              precision    recall  f1-score   support\n",
            "\n",
            "           0       1.00      0.64      0.78       626\n",
            "           1       0.00      0.00      0.00         0\n",
            "\n",
            "    accuracy                           0.64       626\n",
            "   macro avg       0.50      0.32      0.39       626\n",
            "weighted avg       1.00      0.64      0.78       626\n",
            "\n",
            "              precision    recall  f1-score   support\n",
            "\n",
            "           0       0.00      0.00      0.00         0\n",
            "           1       1.00      0.70      0.82       246\n",
            "\n",
            "    accuracy                           0.70       246\n",
            "   macro avg       0.50      0.35      0.41       246\n",
            "weighted avg       1.00      0.70      0.82       246\n",
            "\n",
            "              precision    recall  f1-score   support\n",
            "\n",
            "           0       0.00      0.00      0.00         0\n",
            "           1       1.00      0.68      0.81       428\n",
            "\n",
            "    accuracy                           0.68       428\n",
            "   macro avg       0.50      0.34      0.41       428\n",
            "weighted avg       1.00      0.68      0.81       428\n",
            "\n"
          ],
          "name": "stdout"
        },
        {
          "output_type": "stream",
          "text": [
            "/usr/local/lib/python3.7/dist-packages/sklearn/metrics/_classification.py:1272: UndefinedMetricWarning: Recall and F-score are ill-defined and being set to 0.0 in labels with no true samples. Use `zero_division` parameter to control this behavior.\n",
            "  _warn_prf(average, modifier, msg_start, len(result))\n"
          ],
          "name": "stderr"
        }
      ]
    },
    {
      "cell_type": "markdown",
      "metadata": {
        "id": "yZXSzD05Vnnu"
      },
      "source": [
        "#### Training Testing Ad Fontes"
      ]
    },
    {
      "cell_type": "code",
      "metadata": {
        "id": "wLGiCiu_qxPb"
      },
      "source": [
        "@tf.function\n",
        "def train_step(model, tr_vars, X, y):\n",
        "    with tf.GradientTape() as tape:\n",
        "        y_hat = model(X, training = True)\n",
        "        loss = loss_objective(y, y_hat)\n",
        "    grads = tape.gradient(loss, tr_vars)\n",
        "    return loss, grads, y_hat\n",
        "\n",
        "def train_model(model, epochs, freeze_bert_on_epoch = None):\n",
        "    clr = CSchedule(LEARNING_RATE, freeze_bert_on_epoch, BATCH_SIZE, len(train_txts))\n",
        "    optimizer = tf.keras.optimizers.Adam(clr)\n",
        "    acc = tf.keras.metrics.BinaryAccuracy()\n",
        "    f1 = MyF1()\n",
        "    for epoch in range(1, epochs + 1):\n",
        "        \n",
        "        if freeze_bert_on_epoch is not None and epoch == freeze_bert_on_epoch:\n",
        "            model.get_layer('feature_ext').trainable = False\n",
        "            \n",
        "        acc.reset_states()\n",
        "        f1.reset_states()\n",
        "        total_loss = []\n",
        "        for X, y in train_ds_a:\n",
        "            tr_vars = model.trainable_variables\n",
        "            loss, grads, y_hat = train_step(model, tr_vars, X, y)\n",
        "            optimizer.apply_gradients(zip(grads, tr_vars))\n",
        "            acc.update_state(y, y_hat)\n",
        "            f1.update_state(y, y_hat)\n",
        "            total_loss.append(loss.numpy())\n",
        "            \n",
        "        print(f'epoch {epoch}, loss {np.mean(total_loss):.3f}, acc {acc.result().numpy():.3f}, f1 {f1.result().numpy():.3f}')\n",
        "        \n",
        "        \n",
        "    y_test_hat, _, _ = model_evaluation(model, test_ds_a, 'test')\n",
        "    y_test_hat_ac, _, _ = model_evaluation(model, test_ds_ac, 'test on the center')\n",
        "    y_test_hat_ar, _, _ = model_evaluation(model, test_ds_ar, 'test on the right')\n",
        "    y_test_hat_al, _, _ = model_evaluation(model, test_ds_al, 'test on the left')\n",
        "    return y_test_hat, y_test_hat_ac, y_test_hat_ar, y_test_hat_al"
      ],
      "execution_count": 50,
      "outputs": []
    },
    {
      "cell_type": "code",
      "metadata": {
        "id": "NncMKzrZG9dk"
      },
      "source": [
        ""
      ],
      "execution_count": 50,
      "outputs": []
    },
    {
      "cell_type": "code",
      "metadata": {
        "colab": {
          "base_uri": "https://localhost:8080/"
        },
        "id": "bNwl6T-0qxPb",
        "outputId": "d6c20332-772e-4d65-ab5a-94dcabc41c82"
      },
      "source": [
        "model = MClassifier(DP_RATE,)\n",
        "y_test_hat_a, y_test_hat_ac, y_test_hat_ar, y_test_hat_al = train_model(model, EPOCHS, freeze_bert_on_epoch = 3)"
      ],
      "execution_count": 51,
      "outputs": [
        {
          "output_type": "stream",
          "text": [
            "epoch 1, loss 0.650, acc 0.615, f1 0.523\n",
            "epoch 2, loss 0.521, acc 0.739, f1 0.702\n",
            "epoch 3, loss 0.420, acc 0.816, f1 0.794\n",
            "epoch 4, loss 0.417, acc 0.818, f1 0.796\n",
            "epoch 5, loss 0.410, acc 0.818, f1 0.794\n",
            "test, loss 0.530, acc 0.738, f1 0.699\n",
            "test on the center, loss 0.394, acc 0.792, f1 nan\n",
            "test on the right, loss 0.599, acc 0.740, f1 0.857\n",
            "test on the left, loss 0.467, acc 0.790, f1 0.883\n"
          ],
          "name": "stdout"
        }
      ]
    },
    {
      "cell_type": "code",
      "metadata": {
        "id": "sV8FoOxrG_L8"
      },
      "source": [
        "y_model_hat_a = np.array([1 if x[0] >0.5 else 0 for x in y_test_hat_a])\n",
        "\n",
        "correct_list_bert_a = []\n",
        "for i in range(len(y_model_hat_a)):\n",
        "  if y_model_hat_a[i] == y_test_a[i]:\n",
        "\n",
        "    correct_list_bert_a.append(1)\n",
        "  else:\n",
        "    correct_list_bert_a.append(0)\n",
        "\n",
        "ran_pred_a = pd.Series(np.random.randint(2, size=len(y_test_a)))\n",
        "\n",
        "correct_list_ran_a = []\n",
        "for i in range(len(y_model_hat_a)):\n",
        "  if ran_pred_a[i] == y_test_a[i]:\n",
        "\n",
        "    correct_list_ran_a.append(1)\n",
        "  else:\n",
        "    correct_list_ran_a.append(0)"
      ],
      "execution_count": 52,
      "outputs": []
    },
    {
      "cell_type": "code",
      "metadata": {
        "colab": {
          "base_uri": "https://localhost:8080/"
        },
        "id": "qYzkdm0HHOOj",
        "outputId": "9d670161-8a58-4818-e40b-9e058b126c9f"
      },
      "source": [
        "ul = 0\n",
        "ur = 0\n",
        "ll = 0\n",
        "lr = 0\n",
        "\n",
        "for i in range(len(correct_list_bert)):\n",
        "  if correct_list_bert[i] == 1 and correct_list_ran[i] == 1:\n",
        "    ul += 1\n",
        "  elif correct_list_bert[i] == 1 and correct_list_ran[i] == 0:\n",
        "    ur += 1\n",
        "  elif correct_list_bert[i] == 0 and correct_list_ran[i] == 1:\n",
        "    ll += 1\n",
        "  elif correct_list_bert[i] == 0 and correct_list_ran[i] == 0:\n",
        "    lr += 1\n",
        "  else:\n",
        "    print(\"Uhhh I think something went wrong, no other scenario seems possible\")\n",
        "\n",
        "table = [[ul, ur],\n",
        "         [ll, lr]]\n",
        "print(\"AllSides BERT vs Random:\", table)\n",
        "\n",
        "from statsmodels.stats.contingency_tables import mcnemar\n",
        "result = mcnemar(table, exact=True)\n",
        "\n",
        "print(result)\n",
        "\n",
        "print(\"----------------------------------------------------------\")\n",
        "\n",
        "ul_a = 0\n",
        "ur_a = 0\n",
        "ll_a = 0\n",
        "lr_a = 0\n",
        "\n",
        "for i in range(len(correct_list_bert_a)):\n",
        "  if correct_list_bert_a[i] == 1 and correct_list_ran_a[i] == 1:\n",
        "    ul_a += 1\n",
        "  elif correct_list_bert_a[i] == 1 and correct_list_ran_a[i] == 0:\n",
        "    ur_a += 1\n",
        "  elif correct_list_bert_a[i] == 0 and correct_list_ran_a[i] == 1:\n",
        "    ll_a += 1\n",
        "  elif correct_list_bert_a[i] == 0 and correct_list_ran_a[i] == 0:\n",
        "    lr_a += 1\n",
        "  else:\n",
        "    print(\"Uhhh I think something went wrong, no other scenario seems possible\")\n",
        "\n",
        "table_a = [[ul_a, ur_a],\n",
        "         [ll_a, lr_a]]\n",
        "print(\"Ad Fontes BERT vs Random:\", table_a)\n",
        "\n",
        "from statsmodels.stats.contingency_tables import mcnemar\n",
        "result_a = mcnemar(table_a, exact=True)\n",
        "\n",
        "print(result_a)\n"
      ],
      "execution_count": 53,
      "outputs": [
        {
          "output_type": "stream",
          "text": [
            "AllSides BERT vs Random: [[404, 398], [250, 246]]\n",
            "pvalue      6.663768696348956e-09\n",
            "statistic   250.0\n",
            "----------------------------------------------------------\n",
            "Ad Fontes BERT vs Random: [[247, 251], [82, 98]]\n",
            "pvalue      4.522847559167336e-21\n",
            "statistic   82.0\n"
          ],
          "name": "stdout"
        },
        {
          "output_type": "stream",
          "text": [
            "/usr/local/lib/python3.7/dist-packages/statsmodels/tools/_testing.py:19: FutureWarning: pandas.util.testing is deprecated. Use the functions in the public API at pandas.testing instead.\n",
            "  import pandas.util.testing as tm\n"
          ],
          "name": "stderr"
        }
      ]
    },
    {
      "cell_type": "code",
      "metadata": {
        "id": "kFkl9gfNnvaj"
      },
      "source": [
        "def CountFrequency(my_list):\n",
        " \n",
        "    # Creating an empty dictionary\n",
        "    freq = {}\n",
        "    for item in my_list:\n",
        "        if (item in freq):\n",
        "            freq[item] += 1\n",
        "        else:\n",
        "            freq[item] = 1\n",
        " \n",
        "    for key, value in freq.items():\n",
        "        print (\"% d : % d\"%(key, value))"
      ],
      "execution_count": 54,
      "outputs": []
    },
    {
      "cell_type": "code",
      "metadata": {
        "colab": {
          "base_uri": "https://localhost:8080/"
        },
        "id": "-82BPxstqxPb",
        "outputId": "80b3dc5d-6357-4ba4-e37b-f36e89bf5515"
      },
      "source": [
        "y_model_hat_a = np.array([1 if x[0] >0.5 else 0 for x in y_test_hat_a])\n",
        "print(classification_report(y_test_a, y_model_hat_a))\n",
        "y_model_hatac = np.array([1 if x[0] >0.5 else 0 for x in y_test_hat_ac])\n",
        "print(classification_report(y_test_ac, y_model_hatac))\n",
        "y_model_hatar = np.array([1 if x[0] >0.5 else 0 for x in y_test_hat_ar])\n",
        "print(classification_report(y_test_ar, y_model_hatar))\n",
        "y_model_hatal = np.array([1 if x[0] >0.5 else 0 for x in y_test_hat_al])\n",
        "print(classification_report(y_test_al, y_model_hatal))"
      ],
      "execution_count": 55,
      "outputs": [
        {
          "output_type": "stream",
          "text": [
            "              precision    recall  f1-score   support\n",
            "\n",
            "           0       0.77      0.76      0.76       381\n",
            "           1       0.69      0.70      0.70       297\n",
            "\n",
            "    accuracy                           0.73       678\n",
            "   macro avg       0.73      0.73      0.73       678\n",
            "weighted avg       0.73      0.73      0.73       678\n",
            "\n",
            "              precision    recall  f1-score   support\n",
            "\n",
            "           0       1.00      0.79      0.88       381\n",
            "           1       0.00      0.00      0.00         0\n",
            "\n",
            "    accuracy                           0.79       381\n",
            "   macro avg       0.50      0.40      0.44       381\n",
            "weighted avg       1.00      0.79      0.88       381\n",
            "\n",
            "              precision    recall  f1-score   support\n",
            "\n",
            "           0       0.00      0.00      0.00         0\n",
            "           1       1.00      0.75      0.86       140\n",
            "\n",
            "    accuracy                           0.75       140\n",
            "   macro avg       0.50      0.38      0.43       140\n",
            "weighted avg       1.00      0.75      0.86       140\n",
            "\n",
            "              precision    recall  f1-score   support\n",
            "\n",
            "           0       0.00      0.00      0.00         0\n",
            "           1       1.00      0.79      0.88       158\n",
            "\n",
            "    accuracy                           0.79       158\n",
            "   macro avg       0.50      0.40      0.44       158\n",
            "weighted avg       1.00      0.79      0.88       158\n",
            "\n"
          ],
          "name": "stdout"
        },
        {
          "output_type": "stream",
          "text": [
            "/usr/local/lib/python3.7/dist-packages/sklearn/metrics/_classification.py:1272: UndefinedMetricWarning: Recall and F-score are ill-defined and being set to 0.0 in labels with no true samples. Use `zero_division` parameter to control this behavior.\n",
            "  _warn_prf(average, modifier, msg_start, len(result))\n"
          ],
          "name": "stderr"
        }
      ]
    },
    {
      "cell_type": "markdown",
      "metadata": {
        "id": "xD2PcaRyV3UA"
      },
      "source": [
        "#### AllSides Train, BABE Test"
      ]
    },
    {
      "cell_type": "code",
      "metadata": {
        "id": "_FGbIODPtZ8L"
      },
      "source": [
        "@tf.function\n",
        "def train_step(model, tr_vars, X, y):\n",
        "    with tf.GradientTape() as tape:\n",
        "        y_hat = model(X, training = True)\n",
        "        loss = loss_objective(y, y_hat)\n",
        "    grads = tape.gradient(loss, tr_vars)\n",
        "    return loss, grads, y_hat\n",
        "\n",
        "def train_model_b(model, epochs, freeze_bert_on_epoch = None):\n",
        "    clr = CSchedule(LEARNING_RATE, freeze_bert_on_epoch, BATCH_SIZE, len(train_txts))\n",
        "    optimizer = tf.keras.optimizers.Adam(clr)\n",
        "    acc = tf.keras.metrics.BinaryAccuracy()\n",
        "    f1 = MyF1()\n",
        "    for epoch in range(1, epochs + 1):\n",
        "        \n",
        "        if freeze_bert_on_epoch is not None and epoch == freeze_bert_on_epoch:\n",
        "            model.get_layer('feature_ext').trainable = False\n",
        "            \n",
        "        acc.reset_states()\n",
        "        f1.reset_states()\n",
        "        total_loss = []\n",
        "        for X, y in train_ds:\n",
        "            tr_vars = model.trainable_variables\n",
        "            loss, grads, y_hat = train_step(model, tr_vars, X, y)\n",
        "            optimizer.apply_gradients(zip(grads, tr_vars))\n",
        "            acc.update_state(y, y_hat)\n",
        "            f1.update_state(y, y_hat)\n",
        "            total_loss.append(loss.numpy())\n",
        "            \n",
        "        print(f'epoch {epoch}, loss {np.mean(total_loss):.3f}, acc {acc.result().numpy():.3f}, f1 {f1.result().numpy():.3f}')\n",
        "        \n",
        "        \n",
        "    y_test_hat, _, _ = model_evaluation(model, train_ds_b, 'test')\n",
        "    return y_test_hat"
      ],
      "execution_count": 56,
      "outputs": []
    },
    {
      "cell_type": "code",
      "metadata": {
        "colab": {
          "base_uri": "https://localhost:8080/"
        },
        "id": "yI1AbXHdtaIf",
        "outputId": "bfeb2ad9-cfc5-4d78-cc7c-1e4b81bd236b"
      },
      "source": [
        "model = MClassifier(DP_RATE,)\n",
        "y_test_hat = train_model_b(model, EPOCHS, freeze_bert_on_epoch = 3)"
      ],
      "execution_count": 57,
      "outputs": [
        {
          "output_type": "stream",
          "text": [
            "epoch 1, loss 0.694, acc 0.553, f1 0.583\n",
            "epoch 2, loss 0.653, acc 0.618, f1 0.639\n",
            "epoch 3, loss 0.609, acc 0.667, f1 0.679\n",
            "epoch 4, loss 0.611, acc 0.671, f1 0.690\n",
            "epoch 5, loss 0.605, acc 0.673, f1 0.693\n",
            "test, loss 0.722, acc 0.530, f1 0.669\n"
          ],
          "name": "stdout"
        }
      ]
    },
    {
      "cell_type": "code",
      "metadata": {
        "colab": {
          "base_uri": "https://localhost:8080/"
        },
        "id": "oyok3jdxzbun",
        "outputId": "fc0112fe-ba6c-4c5c-858e-7fec4a6595eb"
      },
      "source": [
        "y_model_hat = np.array([1 if x[0] >0.5 else 0 for x in y_test_hat])\n",
        "print(classification_report(y_train_b, y_model_hat))"
      ],
      "execution_count": 58,
      "outputs": [
        {
          "output_type": "stream",
          "text": [
            "              precision    recall  f1-score   support\n",
            "\n",
            "           0       0.76      0.11      0.19      1584\n",
            "           1       0.51      0.96      0.67      1538\n",
            "\n",
            "    accuracy                           0.53      3122\n",
            "   macro avg       0.63      0.54      0.43      3122\n",
            "weighted avg       0.64      0.53      0.42      3122\n",
            "\n"
          ],
          "name": "stdout"
        }
      ]
    },
    {
      "cell_type": "markdown",
      "metadata": {
        "id": "cYaAWmU1V_NY"
      },
      "source": [
        "#### BABE Train, AllSides Test"
      ]
    },
    {
      "cell_type": "code",
      "metadata": {
        "id": "AkBI3rtV9EXj"
      },
      "source": [
        "@tf.function\n",
        "def train_step(model, tr_vars, X, y):\n",
        "    with tf.GradientTape() as tape:\n",
        "        y_hat = model(X, training = True)\n",
        "        loss = loss_objective(y, y_hat)\n",
        "    grads = tape.gradient(loss, tr_vars)\n",
        "    return loss, grads, y_hat\n",
        "\n",
        "def train_model_b1(model, epochs, freeze_bert_on_epoch = None):\n",
        "    clr = CSchedule(LEARNING_RATE, freeze_bert_on_epoch, BATCH_SIZE, len(train_txts_b))\n",
        "    optimizer = tf.keras.optimizers.Adam(clr)\n",
        "    acc = tf.keras.metrics.BinaryAccuracy()\n",
        "    f1 = MyF1()\n",
        "    for epoch in range(1, epochs + 1):\n",
        "        \n",
        "        if freeze_bert_on_epoch is not None and epoch == freeze_bert_on_epoch:\n",
        "            model.get_layer('feature_ext').trainable = False\n",
        "            \n",
        "        acc.reset_states()\n",
        "        f1.reset_states()\n",
        "        total_loss = []\n",
        "        for X, y in babe_full_ds:\n",
        "            tr_vars = model.trainable_variables\n",
        "            loss, grads, y_hat = train_step(model, tr_vars, X, y)\n",
        "            optimizer.apply_gradients(zip(grads, tr_vars))\n",
        "            acc.update_state(y, y_hat)\n",
        "            f1.update_state(y, y_hat)\n",
        "            total_loss.append(loss.numpy())\n",
        "            \n",
        "        print(f'epoch {epoch}, loss {np.mean(total_loss):.3f}, acc {acc.result().numpy():.3f}, f1 {f1.result().numpy():.3f}')\n",
        "        \n",
        "        \n",
        "    y_test_hat, _, _ = model_evaluation(model, test_ds, 'test')\n",
        "    return y_test_hat"
      ],
      "execution_count": 59,
      "outputs": []
    },
    {
      "cell_type": "code",
      "metadata": {
        "colab": {
          "base_uri": "https://localhost:8080/"
        },
        "id": "VWb-jIy99aIi",
        "outputId": "c63ce8b7-2b23-45ab-b72d-2012b3bc0a51"
      },
      "source": [
        "model = MClassifier(DP_RATE,)\n",
        "y_test_hat = train_model_b1(model, EPOCHS, freeze_bert_on_epoch = 3)"
      ],
      "execution_count": 60,
      "outputs": [
        {
          "output_type": "stream",
          "text": [
            "epoch 1, loss 0.608, acc 0.666, f1 0.660\n",
            "epoch 2, loss 0.521, acc 0.748, f1 0.745\n",
            "epoch 3, loss 0.425, acc 0.809, f1 0.799\n",
            "epoch 4, loss 0.424, acc 0.809, f1 0.799\n",
            "epoch 5, loss 0.417, acc 0.817, f1 0.809\n",
            "test, loss 0.820, acc 0.555, f1 0.563\n"
          ],
          "name": "stdout"
        }
      ]
    },
    {
      "cell_type": "code",
      "metadata": {
        "colab": {
          "base_uri": "https://localhost:8080/"
        },
        "id": "m4lBDf2e9cvm",
        "outputId": "d42f6076-a629-46d2-b480-1c94b3652bab"
      },
      "source": [
        "y_model_hat = np.array([1 if x[0] >0.5 else 0 for x in y_test_hat])\n",
        "print(classification_report(y_test, y_model_hat))"
      ],
      "execution_count": 61,
      "outputs": [
        {
          "output_type": "stream",
          "text": [
            "              precision    recall  f1-score   support\n",
            "\n",
            "           0       0.53      0.55      0.54       625\n",
            "           1       0.57      0.55      0.56       673\n",
            "\n",
            "    accuracy                           0.55      1298\n",
            "   macro avg       0.55      0.55      0.55      1298\n",
            "weighted avg       0.55      0.55      0.55      1298\n",
            "\n"
          ],
          "name": "stdout"
        }
      ]
    },
    {
      "cell_type": "markdown",
      "metadata": {
        "id": "ygIIUjfqWFKI"
      },
      "source": [
        "#### Ad Fontes Train Test"
      ]
    },
    {
      "cell_type": "code",
      "metadata": {
        "id": "nOsfhpUnoZpH"
      },
      "source": [
        "@tf.function\n",
        "def train_step(model, tr_vars, X, y):\n",
        "    with tf.GradientTape() as tape:\n",
        "        y_hat = model(X, training = True)\n",
        "        loss = loss_objective(y, y_hat)\n",
        "    grads = tape.gradient(loss, tr_vars)\n",
        "    return loss, grads, y_hat\n",
        "\n",
        "def train_model_b2(model, epochs, freeze_bert_on_epoch = None):\n",
        "    clr = CSchedule(LEARNING_RATE, freeze_bert_on_epoch, BATCH_SIZE, len(train_txts_b))\n",
        "    optimizer = tf.keras.optimizers.Adam(clr)\n",
        "    acc = tf.keras.metrics.BinaryAccuracy()\n",
        "    f1 = MyF1()\n",
        "    for epoch in range(1, epochs + 1):\n",
        "        \n",
        "        if freeze_bert_on_epoch is not None and epoch == freeze_bert_on_epoch:\n",
        "            model.get_layer('feature_ext').trainable = False\n",
        "            \n",
        "        acc.reset_states()\n",
        "        f1.reset_states()\n",
        "        total_loss = []\n",
        "        for X, y in train_ds_a:\n",
        "            tr_vars = model.trainable_variables\n",
        "            loss, grads, y_hat = train_step(model, tr_vars, X, y)\n",
        "            optimizer.apply_gradients(zip(grads, tr_vars))\n",
        "            acc.update_state(y, y_hat)\n",
        "            f1.update_state(y, y_hat)\n",
        "            total_loss.append(loss.numpy())\n",
        "            \n",
        "        print(f'epoch {epoch}, loss {np.mean(total_loss):.3f}, acc {acc.result().numpy():.3f}, f1 {f1.result().numpy():.3f}')\n",
        "        \n",
        "        \n",
        "    y_test_hat, _, _ = model_evaluation(model, test_ds_a, 'test')\n",
        "    return y_test_hat"
      ],
      "execution_count": 62,
      "outputs": []
    },
    {
      "cell_type": "code",
      "metadata": {
        "colab": {
          "base_uri": "https://localhost:8080/"
        },
        "id": "V1Y1z6Z3oZpM",
        "outputId": "8481094d-3738-4973-b89d-c4a043afadf0"
      },
      "source": [
        "model = MClassifier(DP_RATE,)\n",
        "y_test_hat = train_model_b2(model, EPOCHS, freeze_bert_on_epoch = 3)"
      ],
      "execution_count": 63,
      "outputs": [
        {
          "output_type": "stream",
          "text": [
            "epoch 1, loss 0.643, acc 0.619, f1 0.535\n",
            "epoch 2, loss 0.579, acc 0.703, f1 0.662\n",
            "epoch 3, loss 0.496, acc 0.761, f1 0.736\n",
            "epoch 4, loss 0.486, acc 0.778, f1 0.758\n",
            "epoch 5, loss 0.486, acc 0.775, f1 0.754\n",
            "test, loss 0.523, acc 0.740, f1 0.719\n"
          ],
          "name": "stdout"
        }
      ]
    },
    {
      "cell_type": "code",
      "metadata": {
        "colab": {
          "base_uri": "https://localhost:8080/"
        },
        "id": "2JV4c8iXoZpM",
        "outputId": "43810e1e-6258-40a7-d703-7c01ada1d6c5"
      },
      "source": [
        "y_model_hat = np.array([1 if x[0] >0.5 else 0 for x in y_test_hat])\n",
        "print(classification_report(y_test_a, y_model_hat))"
      ],
      "execution_count": 64,
      "outputs": [
        {
          "output_type": "stream",
          "text": [
            "              precision    recall  f1-score   support\n",
            "\n",
            "           0       0.80      0.71      0.75       381\n",
            "           1       0.67      0.77      0.72       297\n",
            "\n",
            "    accuracy                           0.74       678\n",
            "   macro avg       0.74      0.74      0.74       678\n",
            "weighted avg       0.74      0.74      0.74       678\n",
            "\n"
          ],
          "name": "stdout"
        }
      ]
    },
    {
      "cell_type": "markdown",
      "metadata": {
        "id": "1ZIEqhuMWRvr"
      },
      "source": [
        "#### Ad Fontes Train, BABE Test"
      ]
    },
    {
      "cell_type": "code",
      "metadata": {
        "id": "0YZAl3_sonsN"
      },
      "source": [
        "@tf.function\n",
        "def train_step(model, tr_vars, X, y):\n",
        "    with tf.GradientTape() as tape:\n",
        "        y_hat = model(X, training = True)\n",
        "        loss = loss_objective(y, y_hat)\n",
        "    grads = tape.gradient(loss, tr_vars)\n",
        "    return loss, grads, y_hat\n",
        "\n",
        "def train_model_b1(model, epochs, freeze_bert_on_epoch = None):\n",
        "    clr = CSchedule(LEARNING_RATE, freeze_bert_on_epoch, BATCH_SIZE, len(train_txts_b))\n",
        "    optimizer = tf.keras.optimizers.Adam(clr)\n",
        "    acc = tf.keras.metrics.BinaryAccuracy()\n",
        "    f1 = MyF1()\n",
        "    for epoch in range(1, epochs + 1):\n",
        "        \n",
        "        if freeze_bert_on_epoch is not None and epoch == freeze_bert_on_epoch:\n",
        "            model.get_layer('feature_ext').trainable = False\n",
        "            \n",
        "        acc.reset_states()\n",
        "        f1.reset_states()\n",
        "        total_loss = []\n",
        "        for X, y in af_full_ds:\n",
        "            tr_vars = model.trainable_variables\n",
        "            loss, grads, y_hat = train_step(model, tr_vars, X, y)\n",
        "            optimizer.apply_gradients(zip(grads, tr_vars))\n",
        "            acc.update_state(y, y_hat)\n",
        "            f1.update_state(y, y_hat)\n",
        "            total_loss.append(loss.numpy())\n",
        "            \n",
        "        print(f'epoch {epoch}, loss {np.mean(total_loss):.3f}, acc {acc.result().numpy():.3f}, f1 {f1.result().numpy():.3f}')\n",
        "        \n",
        "        \n",
        "    y_test_hat, _, _ = model_evaluation(model, test_ds_b, 'test')\n",
        "    return y_test_hat"
      ],
      "execution_count": 65,
      "outputs": []
    },
    {
      "cell_type": "code",
      "metadata": {
        "colab": {
          "base_uri": "https://localhost:8080/"
        },
        "id": "dZHXXjz2onsN",
        "outputId": "fd0255e0-9a64-4c47-9391-59fd3b50d5b7"
      },
      "source": [
        "model = MClassifier(DP_RATE,)\n",
        "y_test_hat = train_model_b1(model, EPOCHS, freeze_bert_on_epoch = 3)"
      ],
      "execution_count": 66,
      "outputs": [
        {
          "output_type": "stream",
          "text": [
            "epoch 1, loss 0.683, acc 0.583, f1 0.480\n",
            "epoch 2, loss 0.626, acc 0.660, f1 0.616\n",
            "epoch 3, loss 0.528, acc 0.748, f1 0.723\n",
            "epoch 4, loss 0.526, acc 0.748, f1 0.721\n",
            "epoch 5, loss 0.524, acc 0.753, f1 0.729\n",
            "test, loss 0.685, acc 0.641, f1 0.648\n"
          ],
          "name": "stdout"
        }
      ]
    },
    {
      "cell_type": "code",
      "metadata": {
        "colab": {
          "base_uri": "https://localhost:8080/"
        },
        "id": "1uBIgnqHonsN",
        "outputId": "b4e8fc5a-eb55-4a22-e3b8-714c5b1784d8"
      },
      "source": [
        "y_model_hat = np.array([1 if x[0] >0.5 else 0 for x in y_test_hat])\n",
        "print(classification_report(y_test_b, y_model_hat))"
      ],
      "execution_count": 67,
      "outputs": [
        {
          "output_type": "stream",
          "text": [
            "              precision    recall  f1-score   support\n",
            "\n",
            "           0       0.66      0.57      0.61       280\n",
            "           1       0.61      0.69      0.65       272\n",
            "\n",
            "    accuracy                           0.63       552\n",
            "   macro avg       0.63      0.63      0.63       552\n",
            "weighted avg       0.63      0.63      0.63       552\n",
            "\n"
          ],
          "name": "stdout"
        }
      ]
    },
    {
      "cell_type": "markdown",
      "metadata": {
        "id": "4yVEQdLbWWJp"
      },
      "source": [
        "#### BABE Train, Ad Fontes Test"
      ]
    },
    {
      "cell_type": "code",
      "metadata": {
        "id": "uAA1BiSzowZ3"
      },
      "source": [
        "@tf.function\n",
        "def train_step(model, tr_vars, X, y):\n",
        "    with tf.GradientTape() as tape:\n",
        "        y_hat = model(X, training = True)\n",
        "        loss = loss_objective(y, y_hat)\n",
        "    grads = tape.gradient(loss, tr_vars)\n",
        "    return loss, grads, y_hat\n",
        "\n",
        "def train_model_b1(model, epochs, freeze_bert_on_epoch = None):\n",
        "    clr = CSchedule(LEARNING_RATE, freeze_bert_on_epoch, BATCH_SIZE, len(train_txts_b))\n",
        "    optimizer = tf.keras.optimizers.Adam(clr)\n",
        "    acc = tf.keras.metrics.BinaryAccuracy()\n",
        "    f1 = MyF1()\n",
        "    for epoch in range(1, epochs + 1):\n",
        "        \n",
        "        if freeze_bert_on_epoch is not None and epoch == freeze_bert_on_epoch:\n",
        "            model.get_layer('feature_ext').trainable = False\n",
        "            \n",
        "        acc.reset_states()\n",
        "        f1.reset_states()\n",
        "        total_loss = []\n",
        "        for X, y in babe_full_ds:\n",
        "            tr_vars = model.trainable_variables\n",
        "            loss, grads, y_hat = train_step(model, tr_vars, X, y)\n",
        "            optimizer.apply_gradients(zip(grads, tr_vars))\n",
        "            acc.update_state(y, y_hat)\n",
        "            f1.update_state(y, y_hat)\n",
        "            total_loss.append(loss.numpy())\n",
        "            \n",
        "        print(f'epoch {epoch}, loss {np.mean(total_loss):.3f}, acc {acc.result().numpy():.3f}, f1 {f1.result().numpy():.3f}')\n",
        "        \n",
        "        \n",
        "    y_test_hat, _, _ = model_evaluation(model, test_ds_a, 'test')\n",
        "    return y_test_hat"
      ],
      "execution_count": 68,
      "outputs": []
    },
    {
      "cell_type": "code",
      "metadata": {
        "colab": {
          "base_uri": "https://localhost:8080/"
        },
        "id": "ALXvjJ69owZ3",
        "outputId": "eff51685-bc94-4134-d4aa-52f205d8cfea"
      },
      "source": [
        "model = MClassifier(DP_RATE,)\n",
        "y_test_hat = train_model_b1(model, EPOCHS, freeze_bert_on_epoch = 3)"
      ],
      "execution_count": 69,
      "outputs": [
        {
          "output_type": "stream",
          "text": [
            "epoch 1, loss 0.611, acc 0.650, f1 0.636\n",
            "epoch 2, loss 0.517, acc 0.754, f1 0.745\n",
            "epoch 3, loss 0.442, acc 0.802, f1 0.792\n",
            "epoch 4, loss 0.437, acc 0.804, f1 0.796\n",
            "epoch 5, loss 0.437, acc 0.804, f1 0.797\n",
            "test, loss 0.605, acc 0.679, f1 0.674\n"
          ],
          "name": "stdout"
        }
      ]
    },
    {
      "cell_type": "code",
      "metadata": {
        "colab": {
          "base_uri": "https://localhost:8080/"
        },
        "id": "LVFDSvwBowZ3",
        "outputId": "bfd31697-8cca-465f-9dc3-35bb5810a099"
      },
      "source": [
        "y_model_hat = np.array([1 if x[0] >0.5 else 0 for x in y_test_hat])\n",
        "print(classification_report(y_test_a, y_model_hat))"
      ],
      "execution_count": 70,
      "outputs": [
        {
          "output_type": "stream",
          "text": [
            "              precision    recall  f1-score   support\n",
            "\n",
            "           0       0.77      0.60      0.67       381\n",
            "           1       0.60      0.77      0.67       297\n",
            "\n",
            "    accuracy                           0.67       678\n",
            "   macro avg       0.68      0.68      0.67       678\n",
            "weighted avg       0.69      0.67      0.67       678\n",
            "\n"
          ],
          "name": "stdout"
        }
      ]
    }
  ]
}