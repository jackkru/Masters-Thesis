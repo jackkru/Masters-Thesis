{
 "cells": [
  {
   "cell_type": "code",
   "execution_count": 1,
   "metadata": {},
   "outputs": [
    {
     "name": "stdout",
     "output_type": "stream",
     "text": [
      "Requirement already satisfied: scikit-plot in c:\\users\\jack\\anaconda3\\lib\\site-packages (0.3.7)\n",
      "Requirement already satisfied: scikit-learn>=0.18 in c:\\users\\jack\\anaconda3\\lib\\site-packages (from scikit-plot) (0.23.1)\n",
      "Requirement already satisfied: joblib>=0.10 in c:\\users\\jack\\anaconda3\\lib\\site-packages (from scikit-plot) (0.16.0)\n",
      "Requirement already satisfied: scipy>=0.9 in c:\\users\\jack\\anaconda3\\lib\\site-packages (from scikit-plot) (1.4.1)\n",
      "Requirement already satisfied: matplotlib>=1.4.0 in c:\\users\\jack\\anaconda3\\lib\\site-packages (from scikit-plot) (3.2.2)\n",
      "Requirement already satisfied: numpy>=1.13.3 in c:\\users\\jack\\anaconda3\\lib\\site-packages (from scikit-learn>=0.18->scikit-plot) (1.18.5)\n",
      "Requirement already satisfied: threadpoolctl>=2.0.0 in c:\\users\\jack\\anaconda3\\lib\\site-packages (from scikit-learn>=0.18->scikit-plot) (2.1.0)\n",
      "Requirement already satisfied: python-dateutil>=2.1 in c:\\users\\jack\\anaconda3\\lib\\site-packages (from matplotlib>=1.4.0->scikit-plot) (2.8.1)\n",
      "Requirement already satisfied: cycler>=0.10 in c:\\users\\jack\\anaconda3\\lib\\site-packages (from matplotlib>=1.4.0->scikit-plot) (0.10.0)\n",
      "Requirement already satisfied: kiwisolver>=1.0.1 in c:\\users\\jack\\anaconda3\\lib\\site-packages (from matplotlib>=1.4.0->scikit-plot) (1.2.0)\n",
      "Requirement already satisfied: pyparsing!=2.0.4,!=2.1.2,!=2.1.6,>=2.0.1 in c:\\users\\jack\\anaconda3\\lib\\site-packages (from matplotlib>=1.4.0->scikit-plot) (2.4.7)\n",
      "Requirement already satisfied: six>=1.5 in c:\\users\\jack\\anaconda3\\lib\\site-packages (from python-dateutil>=2.1->matplotlib>=1.4.0->scikit-plot) (1.15.0)\n"
     ]
    }
   ],
   "source": [
    "# misc\n",
    "import os\n",
    "import re\n",
    "import time\n",
    "import ast\n",
    "import warnings\n",
    "import math\n",
    "import copy\n",
    "import matplotlib.pyplot as plt\n",
    "from xgboost import plot_importance\n",
    "import seaborn as sns\n",
    "\n",
    "# data\n",
    "import pandas as pd\n",
    "import numpy as np\n",
    "import csv\n",
    "\n",
    "# ML\n",
    "from sklearn.preprocessing import MinMaxScaler\n",
    "from sklearn.model_selection import train_test_split\n",
    "from sklearn.model_selection import cross_val_score\n",
    "from sklearn.model_selection import cross_validate\n",
    "from sklearn.model_selection import KFold\n",
    "from sklearn import metrics\n",
    "\n",
    "!pip install scikit-plot\n",
    "import scikitplot as skplt\n",
    "import xgboost "
   ]
  },
  {
   "cell_type": "code",
   "execution_count": 3,
   "metadata": {},
   "outputs": [],
   "source": [
    "os.chdir(\"C:\\\\Users\\\\Jack\\\\Documents_\\\\Thesis_2\\\\Datasets\")"
   ]
  },
  {
   "cell_type": "code",
   "execution_count": 4,
   "metadata": {},
   "outputs": [],
   "source": [
    "df = pd.read_excel(\"df_final.xlsx\")"
   ]
  },
  {
   "cell_type": "code",
   "execution_count": 5,
   "metadata": {},
   "outputs": [
    {
     "data": {
      "text/plain": [
       "123637"
      ]
     },
     "execution_count": 5,
     "metadata": {},
     "output_type": "execute_result"
    }
   ],
   "source": [
    "len(df)"
   ]
  },
  {
   "cell_type": "code",
   "execution_count": 6,
   "metadata": {},
   "outputs": [],
   "source": [
    "df = df[['Headline', # not a feature for training\n",
    "    'Bias',\n",
    " 'glove_vec300_norm',\n",
    " 'tf_idf',\n",
    " 'negative',\n",
    " 'positive',\n",
    " 'bias_lex_h',\n",
    "'bias_lex_r',\n",
    " 'assertives',\n",
    " 'factives',\n",
    " 'report_verbs',\n",
    " 'implicatives',\n",
    " 'hedges',\n",
    " 'affect (Affect)',\n",
    " 'posemo (Positive Emotions)',\n",
    " 'negemo (Negative Emotions)',\n",
    " 'anx (Anx)',\n",
    " 'anger (Anger)',\n",
    " 'sad (Sad)',\n",
    " 'social (Social)',\n",
    " 'family (Family)',\n",
    " 'friend (Friends)',\n",
    " 'female (Female)',\n",
    " 'male (Male)',\n",
    " 'cogproc (Cognitive Processes)',\n",
    " 'insight (Insight)',\n",
    " 'cause (Causal)',\n",
    " 'discrep (Discrepancies)',\n",
    " 'tentat (Tentative)',\n",
    " 'certain (Certainty)',\n",
    " 'differ (Differentiation)',\n",
    " 'percept (Perceptual Processes)',\n",
    " 'see (See)',\n",
    " 'hear (Hear)',\n",
    " 'feel (Feel)',\n",
    " 'bio (Biological Processes)',\n",
    " 'body (Body)',\n",
    " 'health (Health)',\n",
    " 'sexual (Sexual)',\n",
    " 'ingest (Ingest)',\n",
    " 'drives (Drives)',\n",
    " 'affiliation (Affiliation)',\n",
    " 'achieve (Achievement)',\n",
    " 'power (Power)',\n",
    " 'reward (Reward)',\n",
    " 'risk (Risk)',\n",
    " 'focuspast (Past Focus)',\n",
    " 'focuspresent (Present Focus)',\n",
    " 'focusfuture (Future Focus)',\n",
    " 'relativ (Relativity)',\n",
    " 'motion (Motion)',\n",
    " 'space (Space)',\n",
    " 'time (Time)',\n",
    " 'work (Work)',\n",
    " 'leisure (Leisure)',\n",
    " 'home (Home)',\n",
    " 'money (Money)',\n",
    " 'relig (Religion)',\n",
    " 'death (Death)',\n",
    " 'informal (Informal Language)',\n",
    " 'swear (Swear)',\n",
    " 'netspeak (Netspeak)',\n",
    " 'assent (Assent)',\n",
    " 'nonflu (Nonfluencies)',\n",
    " 'filler (Filler Words)',\n",
    " 'pos_ADJ',\n",
    " 'pos_ADP',\n",
    " 'pos_ADV',\n",
    " 'pos_AUX',\n",
    " 'pos_DET',\n",
    " 'pos_INTJ',\n",
    " 'pos_NOUN',\n",
    " 'pos_PRON',\n",
    " 'pos_PROPN',\n",
    " 'pos_SCONJ',\n",
    " 'pos_VERB',\n",
    " 'pos_X',\n",
    " 'dep_ROOT',\n",
    " 'dep_acl',\n",
    " 'dep_acomp',\n",
    " 'dep_advcl',\n",
    " 'dep_advmod',\n",
    " 'dep_agent',\n",
    " 'dep_amod',\n",
    " 'dep_appos',\n",
    " 'dep_attr',\n",
    " 'dep_aux',\n",
    " 'dep_auxpass',\n",
    " 'dep_cc',\n",
    " 'dep_ccomp',\n",
    " 'dep_compound',\n",
    " 'dep_conj',\n",
    " 'dep_csubj',\n",
    " 'dep_dative',\n",
    " 'dep_dep',\n",
    " 'dep_det',\n",
    " 'dep_dobj',\n",
    " 'dep_expl',\n",
    " 'dep_intj',\n",
    " 'dep_mark',\n",
    " 'dep_neg',\n",
    " 'dep_nmod',\n",
    " 'dep_npadvmod',\n",
    " 'dep_nsubj',\n",
    " 'dep_nsubjpass',\n",
    " 'dep_nummod',\n",
    " 'dep_oprd',\n",
    " 'dep_parataxis',\n",
    " 'dep_pcomp',\n",
    " 'dep_pobj',\n",
    " 'dep_poss',\n",
    " 'dep_preconj',\n",
    " 'dep_predet',\n",
    " 'dep_prep',\n",
    " 'dep_prt',\n",
    " 'dep_punct',\n",
    " 'dep_quantmod',\n",
    " 'dep_relcl',\n",
    " 'dep_xcomp',\n",
    " 'ne_CARDINAL',\n",
    " 'ne_DATE',\n",
    " 'ne_EVENT',\n",
    " 'ne_FAC',\n",
    " 'ne_GPE',\n",
    " 'ne_LANGUAGE',\n",
    " 'ne_LAW',\n",
    " 'ne_LOC',\n",
    " 'ne_MONEY',\n",
    " 'ne_NORP',\n",
    " 'ne_ORDINAL',\n",
    " 'ne_ORG',\n",
    " 'ne_PERCENT',\n",
    " 'ne_PERSON',\n",
    " 'ne_PRODUCT',\n",
    " 'ne_QUANTITY',\n",
    " 'ne_TIME',\n",
    " 'ne_WORK_OF_ART',\n",
    " 'negative_context',\n",
    " 'positive_context',\n",
    " 'bias_lex_h_context',\n",
    "'bias_lex_r_context',\n",
    " 'assertives_context',\n",
    " 'factives_context',\n",
    " 'report_verbs_context',\n",
    " 'implicatives_context',\n",
    " 'hedges_context',\n",
    "'affect (Affect)_context',\n",
    " 'posemo (Positive Emotions)_context',\n",
    " 'negemo (Negative Emotions)_context',\n",
    " 'anx (Anx)_context',\n",
    " 'anger (Anger)_context',\n",
    " 'sad (Sad)_context',\n",
    " 'social (Social)_context',\n",
    " 'family (Family)_context',\n",
    " 'friend (Friends)_context',\n",
    " 'female (Female)_context',\n",
    " 'male (Male)_context',\n",
    " 'cogproc (Cognitive Processes)_context',\n",
    " 'insight (Insight)_context',\n",
    " 'cause (Causal)_context',\n",
    " 'discrep (Discrepancies)_context',\n",
    " 'tentat (Tentative)_context',\n",
    " 'certain (Certainty)_context',\n",
    " 'differ (Differentiation)_context',\n",
    " 'percept (Perceptual Processes)_context',\n",
    " 'see (See)_context',\n",
    " 'hear (Hear)_context',\n",
    " 'feel (Feel)_context',\n",
    " 'bio (Biological Processes)_context',\n",
    " 'body (Body)_context',\n",
    " 'health (Health)_context',\n",
    " 'sexual (Sexual)_context',\n",
    " 'ingest (Ingest)_context',\n",
    " 'drives (Drives)_context',\n",
    " 'affiliation (Affiliation)_context',\n",
    " 'achieve (Achievement)_context',\n",
    " 'power (Power)_context',\n",
    " 'reward (Reward)_context',\n",
    " 'risk (Risk)_context',\n",
    " 'focuspast (Past Focus)_context',\n",
    " 'focuspresent (Present Focus)_context',\n",
    " 'focusfuture (Future Focus)_context',\n",
    " 'relativ (Relativity)_context',\n",
    " 'motion (Motion)_context',\n",
    " 'space (Space)_context',\n",
    " 'time (Time)_context',\n",
    " 'work (Work)_context',\n",
    " 'leisure (Leisure)_context',\n",
    " 'home (Home)_context',\n",
    " 'money (Money)_context',\n",
    " 'relig (Religion)_context',\n",
    " 'death (Death)_context',\n",
    " 'informal (Informal Language)_context',\n",
    " 'swear (Swear)_context',\n",
    " 'netspeak (Netspeak)_context',\n",
    " 'assent (Assent)_context',\n",
    " 'nonflu (Nonfluencies)_context',\n",
    " 'filler (Filler Words)_context',\n",
    " 'pos_ADJ_context',\n",
    " 'pos_ADP_context',\n",
    " 'pos_ADV_context',\n",
    " 'pos_AUX_context',\n",
    " 'pos_DET_context',\n",
    " 'pos_INTJ_context',\n",
    " 'pos_NOUN_context',\n",
    " 'pos_PRON_context',\n",
    " 'pos_PROPN_context',\n",
    " 'pos_SCONJ_context',\n",
    " 'pos_VERB_context',\n",
    " 'pos_X_context',\n",
    " 'dep_ROOT_context',\n",
    " 'dep_acl_context',\n",
    " 'dep_acomp_context',\n",
    " 'dep_advcl_context',\n",
    " 'dep_advmod_context',\n",
    " 'dep_agent_context',\n",
    " 'dep_amod_context',\n",
    " 'dep_appos_context',\n",
    " 'dep_attr_context',\n",
    " 'dep_aux_context',\n",
    " 'dep_auxpass_context',\n",
    " 'dep_cc_context',\n",
    " 'dep_ccomp_context',\n",
    " 'dep_compound_context',\n",
    " 'dep_conj_context',\n",
    " 'dep_csubj_context',\n",
    " 'dep_dative_context',\n",
    " 'dep_dep_context',\n",
    " 'dep_det_context',\n",
    " 'dep_dobj_context',\n",
    " 'dep_expl_context',\n",
    " 'dep_intj_context',\n",
    " 'dep_mark_context',\n",
    " 'dep_neg_context',\n",
    " 'dep_nmod_context',\n",
    " 'dep_npadvmod_context',\n",
    " 'dep_nsubj_context',\n",
    " 'dep_nsubjpass_context',\n",
    " 'dep_nummod_context',\n",
    " 'dep_oprd_context',\n",
    " 'dep_parataxis_context',\n",
    " 'dep_pcomp_context',\n",
    " 'dep_pobj_context',\n",
    " 'dep_poss_context',\n",
    " 'dep_preconj_context',\n",
    " 'dep_predet_context',\n",
    " 'dep_prep_context',\n",
    " 'dep_prt_context',\n",
    " 'dep_punct_context',\n",
    " 'dep_quantmod_context',\n",
    " 'dep_relcl_context',\n",
    " 'dep_xcomp_context',\n",
    " 'ne_CARDINAL_context',\n",
    " 'ne_DATE_context',\n",
    " 'ne_EVENT_context',\n",
    " 'ne_FAC_context',\n",
    " 'ne_GPE_context',\n",
    " 'ne_LAW_context',\n",
    " 'ne_LOC_context',\n",
    " 'ne_MONEY_context',\n",
    " 'ne_NORP_context',\n",
    " 'ne_ORDINAL_context',\n",
    " 'ne_ORG_context',\n",
    " 'ne_PERCENT_context',\n",
    " 'ne_PERSON_context',\n",
    " 'ne_PRODUCT_context',\n",
    " 'ne_QUANTITY_context',\n",
    " 'ne_TIME_context',\n",
    " 'ne_WORK_OF_ART_context',\n",
    " 'ne_LANGUAGE_context']]"
   ]
  },
  {
   "cell_type": "code",
   "execution_count": 7,
   "metadata": {},
   "outputs": [
    {
     "name": "stdout",
     "output_type": "stream",
     "text": [
      "Number of missing values:\n",
      "tf_idf 5662\n"
     ]
    }
   ],
   "source": [
    "print('Number of missing values:')\n",
    "mis = (df.isnull().sum()).to_frame()\n",
    "for i, row in mis.iterrows():\n",
    "    if row[0] > 0:\n",
    "        print(i, row[0])\n",
    "\n",
    "# Delete the rows with missing article text:\n",
    "df = df.dropna(subset=['tf_idf'])"
   ]
  },
  {
   "cell_type": "code",
   "execution_count": 8,
   "metadata": {},
   "outputs": [
    {
     "data": {
      "text/plain": [
       "16294"
      ]
     },
     "execution_count": 8,
     "metadata": {},
     "output_type": "execute_result"
    }
   ],
   "source": [
    "len(df['Headline'].unique())"
   ]
  },
  {
   "cell_type": "code",
   "execution_count": 9,
   "metadata": {},
   "outputs": [],
   "source": [
    "df[\"Label\"] = df.Bias.apply(lambda x: 1 if x == \"AllSides Media Bias Rating: Left\" or x == \"AllSides Media Bias Rating: Right\" else 0)"
   ]
  },
  {
   "cell_type": "code",
   "execution_count": 10,
   "metadata": {},
   "outputs": [],
   "source": [
    "x = df.drop(['Label', 'Bias', 'Headline'], 1)\n",
    "y = df[['Label']]\n",
    "headline = df[['Headline']]"
   ]
  },
  {
   "cell_type": "code",
   "execution_count": 11,
   "metadata": {},
   "outputs": [
    {
     "data": {
      "text/html": [
       "<div>\n",
       "<style scoped>\n",
       "    .dataframe tbody tr th:only-of-type {\n",
       "        vertical-align: middle;\n",
       "    }\n",
       "\n",
       "    .dataframe tbody tr th {\n",
       "        vertical-align: top;\n",
       "    }\n",
       "\n",
       "    .dataframe thead th {\n",
       "        text-align: right;\n",
       "    }\n",
       "</style>\n",
       "<table border=\"1\" class=\"dataframe\">\n",
       "  <thead>\n",
       "    <tr style=\"text-align: right;\">\n",
       "      <th></th>\n",
       "      <th>Unnamed: 0</th>\n",
       "      <th>Source</th>\n",
       "      <th>Headline</th>\n",
       "      <th>Text</th>\n",
       "      <th>Bias</th>\n",
       "      <th>Subject_Tag</th>\n",
       "      <th>Date</th>\n",
       "      <th>spacy_lg</th>\n",
       "      <th>spacy_lg_dict</th>\n",
       "      <th>Label</th>\n",
       "    </tr>\n",
       "  </thead>\n",
       "  <tbody>\n",
       "    <tr>\n",
       "      <th>0</th>\n",
       "      <td>0</td>\n",
       "      <td>U.S. News &amp; World Report</td>\n",
       "      <td>COVID Deaths Continue to Decline in U.S.</td>\n",
       "      <td>In a sign that the coronavirus pandemic is beg...</td>\n",
       "      <td>AllSides Media Bias Rating: Lean Left</td>\n",
       "      <td>Coronavirus, Coronavirus Vaccine, Coronavirus ...</td>\n",
       "      <td>May 3rd, 2021</td>\n",
       "      <td>COVID Deaths Continue to Decline in U.S.</td>\n",
       "      <td>[{'text': 'COVID', 'text_low': 'covid', 'pos':...</td>\n",
       "      <td>0</td>\n",
       "    </tr>\n",
       "    <tr>\n",
       "      <th>1</th>\n",
       "      <td>1</td>\n",
       "      <td>Wall Street Journal (News)</td>\n",
       "      <td>Vaccines Appear to Be Slowing Spread of Covid-...</td>\n",
       "      <td>Vaccines appear to be starting to curb new Cov...</td>\n",
       "      <td>AllSides Media Bias Rating: Center</td>\n",
       "      <td>Coronavirus, Coronavirus Vaccine, Coronavirus ...</td>\n",
       "      <td>May 3rd, 2021</td>\n",
       "      <td>Vaccines Appear to Be Slowing Spread of Covid-...</td>\n",
       "      <td>[{'text': 'Vaccines', 'text_low': 'vaccines', ...</td>\n",
       "      <td>0</td>\n",
       "    </tr>\n",
       "    <tr>\n",
       "      <th>2</th>\n",
       "      <td>2</td>\n",
       "      <td>Washington Examiner</td>\n",
       "      <td>Pandemic retreat signals vaccines are working</td>\n",
       "      <td>COVID-19 cases and hospitalizations in the Uni...</td>\n",
       "      <td>AllSides Media Bias Rating: Lean Right</td>\n",
       "      <td>Coronavirus, Coronavirus Vaccine, Coronavirus ...</td>\n",
       "      <td>May 3rd, 2021</td>\n",
       "      <td>Pandemic retreat signals vaccines are working</td>\n",
       "      <td>[{'text': 'Pandemic', 'text_low': 'pandemic', ...</td>\n",
       "      <td>0</td>\n",
       "    </tr>\n",
       "    <tr>\n",
       "      <th>3</th>\n",
       "      <td>3</td>\n",
       "      <td>The Epoch Times</td>\n",
       "      <td>NYT, Washington Post, NBC Retract Incorrect Re...</td>\n",
       "      <td>The New York Times, The Washington Post, and N...</td>\n",
       "      <td>AllSides Media Bias Rating: Lean Right</td>\n",
       "      <td>Media Industry, Media Bias, New York Times, Wa...</td>\n",
       "      <td>May 2nd, 2021</td>\n",
       "      <td>NYT, Washington Post, NBC Retract Incorrect Re...</td>\n",
       "      <td>[{'text': 'NYT', 'text_low': 'nyt', 'pos': 'PR...</td>\n",
       "      <td>0</td>\n",
       "    </tr>\n",
       "    <tr>\n",
       "      <th>4</th>\n",
       "      <td>4</td>\n",
       "      <td>The Hill</td>\n",
       "      <td>New York Times, WaPo, NBC retract reports abou...</td>\n",
       "      <td>The New York Times, The Washington Post and NB...</td>\n",
       "      <td>AllSides Media Bias Rating: Center</td>\n",
       "      <td>Media Industry, Media Bias, New York Times, Wa...</td>\n",
       "      <td>May 2nd, 2021</td>\n",
       "      <td>New York Times, WaPo, NBC retract reports abou...</td>\n",
       "      <td>[{'text': 'New', 'text_low': 'new', 'pos': 'PR...</td>\n",
       "      <td>0</td>\n",
       "    </tr>\n",
       "  </tbody>\n",
       "</table>\n",
       "</div>"
      ],
      "text/plain": [
       "   Unnamed: 0                      Source  \\\n",
       "0           0    U.S. News & World Report   \n",
       "1           1  Wall Street Journal (News)   \n",
       "2           2         Washington Examiner   \n",
       "3           3             The Epoch Times   \n",
       "4           4                    The Hill   \n",
       "\n",
       "                                            Headline  \\\n",
       "0           COVID Deaths Continue to Decline in U.S.   \n",
       "1  Vaccines Appear to Be Slowing Spread of Covid-...   \n",
       "2      Pandemic retreat signals vaccines are working   \n",
       "3  NYT, Washington Post, NBC Retract Incorrect Re...   \n",
       "4  New York Times, WaPo, NBC retract reports abou...   \n",
       "\n",
       "                                                Text  \\\n",
       "0  In a sign that the coronavirus pandemic is beg...   \n",
       "1  Vaccines appear to be starting to curb new Cov...   \n",
       "2  COVID-19 cases and hospitalizations in the Uni...   \n",
       "3  The New York Times, The Washington Post, and N...   \n",
       "4  The New York Times, The Washington Post and NB...   \n",
       "\n",
       "                                     Bias  \\\n",
       "0   AllSides Media Bias Rating: Lean Left   \n",
       "1      AllSides Media Bias Rating: Center   \n",
       "2  AllSides Media Bias Rating: Lean Right   \n",
       "3  AllSides Media Bias Rating: Lean Right   \n",
       "4      AllSides Media Bias Rating: Center   \n",
       "\n",
       "                                         Subject_Tag           Date  \\\n",
       "0  Coronavirus, Coronavirus Vaccine, Coronavirus ...  May 3rd, 2021   \n",
       "1  Coronavirus, Coronavirus Vaccine, Coronavirus ...  May 3rd, 2021   \n",
       "2  Coronavirus, Coronavirus Vaccine, Coronavirus ...  May 3rd, 2021   \n",
       "3  Media Industry, Media Bias, New York Times, Wa...  May 2nd, 2021   \n",
       "4  Media Industry, Media Bias, New York Times, Wa...  May 2nd, 2021   \n",
       "\n",
       "                                            spacy_lg  \\\n",
       "0           COVID Deaths Continue to Decline in U.S.   \n",
       "1  Vaccines Appear to Be Slowing Spread of Covid-...   \n",
       "2      Pandemic retreat signals vaccines are working   \n",
       "3  NYT, Washington Post, NBC Retract Incorrect Re...   \n",
       "4  New York Times, WaPo, NBC retract reports abou...   \n",
       "\n",
       "                                       spacy_lg_dict  Label  \n",
       "0  [{'text': 'COVID', 'text_low': 'covid', 'pos':...      0  \n",
       "1  [{'text': 'Vaccines', 'text_low': 'vaccines', ...      0  \n",
       "2  [{'text': 'Pandemic', 'text_low': 'pandemic', ...      0  \n",
       "3  [{'text': 'NYT', 'text_low': 'nyt', 'pos': 'PR...      0  \n",
       "4  [{'text': 'New', 'text_low': 'new', 'pos': 'PR...      0  "
      ]
     },
     "execution_count": 11,
     "metadata": {},
     "output_type": "execute_result"
    }
   ],
   "source": [
    "headlines = pd.read_excel(\"Headlines_Tokenized.xlsx\")\n",
    "headlines.head()"
   ]
  },
  {
   "cell_type": "code",
   "execution_count": 14,
   "metadata": {},
   "outputs": [
    {
     "name": "stdout",
     "output_type": "stream",
     "text": [
      "Number of missing values:\n",
      "Source 6\n",
      "Text 5\n",
      "Subject_Tag 285\n"
     ]
    }
   ],
   "source": [
    "print('Number of missing values:')\n",
    "mis = (headlines.isnull().sum()).to_frame()\n",
    "for i, row in mis.iterrows():\n",
    "    if row[0] > 0:\n",
    "        print(i, row[0])\n",
    "\n"
   ]
  },
  {
   "cell_type": "code",
   "execution_count": 15,
   "metadata": {},
   "outputs": [
    {
     "data": {
      "text/plain": [
       "117975"
      ]
     },
     "execution_count": 15,
     "metadata": {},
     "output_type": "execute_result"
    }
   ],
   "source": [
    "len(df)"
   ]
  },
  {
   "cell_type": "code",
   "execution_count": 16,
   "metadata": {},
   "outputs": [
    {
     "data": {
      "text/plain": [
       "16294"
      ]
     },
     "execution_count": 16,
     "metadata": {},
     "output_type": "execute_result"
    }
   ],
   "source": [
    "len(df['Headline'].unique())"
   ]
  },
  {
   "cell_type": "code",
   "execution_count": 17,
   "metadata": {},
   "outputs": [],
   "source": [
    "x_h = headlines[\"spacy_lg_dict\"]\n",
    "y_h = headlines[['Label']]\n",
    "headline_h = headlines[['Headline']]"
   ]
  },
  {
   "cell_type": "code",
   "execution_count": 18,
   "metadata": {},
   "outputs": [],
   "source": [
    "# train-test split\n",
    "train_features, test_features, train_labels, test_labels, train_headlines, test_headlines = train_test_split(x, y, headline,\n",
    "                                                                                                             test_size = 0.10, random_state = 42)\n",
    "train_features1, val_features, train_labels1, val_labels, train_headlines1, val_headlines = train_test_split(train_features, train_labels, train_headlines,\n",
    "                                                                                                             test_size = 0.10, random_state = 42)"
   ]
  },
  {
   "cell_type": "code",
   "execution_count": 19,
   "metadata": {},
   "outputs": [],
   "source": [
    "# train-test split\n",
    "train_features_h, test_features_h, train_labels_h, test_labels_h, train_headlines_h, test_headlines_h = train_test_split(x_h, y_h, headline_h,\n",
    "                                                                                                             test_size = 0.10, random_state = 42)\n",
    "train_features1_h, val_features_h, train_labels1_h, val_labels_h, train_headlines1_h, val_headlines_h = train_test_split(train_features_h, train_labels_h, train_headlines_h,\n",
    "                                                                                                             test_size = 0.10, random_state = 42)"
   ]
  },
  {
   "cell_type": "code",
   "execution_count": 20,
   "metadata": {},
   "outputs": [],
   "source": [
    "feature_names = list(x.columns)"
   ]
  },
  {
   "cell_type": "code",
   "execution_count": null,
   "metadata": {},
   "outputs": [],
   "source": []
  },
  {
   "cell_type": "code",
   "execution_count": 21,
   "metadata": {},
   "outputs": [],
   "source": [
    "# matrix for XGBoost\n",
    "dtrain = xgboost.DMatrix(train_features, label=train_labels, feature_names=feature_names)\n",
    "dtest = xgboost.DMatrix(test_features, label=test_labels, feature_names=feature_names)\n",
    "dtrain1 = xgboost.DMatrix(train_features1, label=train_labels1, feature_names=feature_names)\n",
    "dval = xgboost.DMatrix(val_features, label=val_labels, feature_names=feature_names)"
   ]
  },
  {
   "cell_type": "code",
   "execution_count": 22,
   "metadata": {},
   "outputs": [
    {
     "name": "stdout",
     "output_type": "stream",
     "text": [
      "Training Features Shape: (106177, 268)\n",
      "Training Labels Shape: (106177, 1)\n",
      "Testing Features Shape: (11798, 268)\n",
      "Testing Labels Shape: (11798, 1)\n",
      "Training Features for final model Shape: (95559, 268)\n",
      "Training Labels for final model Shape: (95559, 1)\n",
      "Validation Features Shape: (10618, 268)\n",
      "Validation Labels Shape: (10618, 1)\n"
     ]
    }
   ],
   "source": [
    "print('Training Features Shape:', train_features.shape)\n",
    "print('Training Labels Shape:', train_labels.shape)\n",
    "print('Testing Features Shape:', test_features.shape)\n",
    "print('Testing Labels Shape:', test_labels.shape)\n",
    "print('Training Features for final model Shape:', train_features1.shape)\n",
    "print('Training Labels for final model Shape:', train_labels1.shape)\n",
    "print('Validation Features Shape:', val_features.shape)\n",
    "print('Validation Labels Shape:', val_labels.shape)"
   ]
  },
  {
   "cell_type": "code",
   "execution_count": 23,
   "metadata": {},
   "outputs": [],
   "source": [
    "b1_pred = pd.Series(np.random.randint(2, size=len(test_features)))"
   ]
  },
  {
   "cell_type": "code",
   "execution_count": 24,
   "metadata": {},
   "outputs": [
    {
     "name": "stdout",
     "output_type": "stream",
     "text": [
      "Performance of b1, test:\n",
      "F1: 0.35\n",
      "Precision: 0.27\n",
      "Recall: 0.51\n",
      "AUC: 0.51\n",
      "Accuracy: 0.5\n",
      "Confusion matrix:\n",
      " [[4347 1511]\n",
      " [4346 1594]]\n"
     ]
    }
   ],
   "source": [
    "print('Performance of b1, test:')\n",
    "print('F1:', round(metrics.f1_score(test_labels,b1_pred),2))\n",
    "print('Precision:', round(metrics.precision_score(test_labels,b1_pred),2))\n",
    "print('Recall:', round(metrics.recall_score(test_labels,b1_pred),2))\n",
    "print('AUC:', round(metrics.roc_auc_score(test_labels,b1_pred),2))\n",
    "print('Accuracy:', round(metrics.accuracy_score(test_labels,b1_pred),2))\n",
    "print('Confusion matrix:\\n', \n",
    "      metrics.confusion_matrix(test_labels,b1_pred).transpose())"
   ]
  },
  {
   "cell_type": "code",
   "execution_count": 25,
   "metadata": {},
   "outputs": [],
   "source": [
    "b2_pred = test_features.negative"
   ]
  },
  {
   "cell_type": "code",
   "execution_count": 26,
   "metadata": {},
   "outputs": [
    {
     "data": {
      "text/plain": [
       "pandas.core.series.Series"
      ]
     },
     "execution_count": 26,
     "metadata": {},
     "output_type": "execute_result"
    }
   ],
   "source": [
    "type(b2_pred)"
   ]
  },
  {
   "cell_type": "code",
   "execution_count": 27,
   "metadata": {},
   "outputs": [
    {
     "data": {
      "text/plain": [
       "pandas.core.frame.DataFrame"
      ]
     },
     "execution_count": 27,
     "metadata": {},
     "output_type": "execute_result"
    }
   ],
   "source": [
    "type(test_labels)"
   ]
  },
  {
   "cell_type": "code",
   "execution_count": 28,
   "metadata": {},
   "outputs": [
    {
     "name": "stdout",
     "output_type": "stream",
     "text": [
      "Performance of b2, test:\n",
      "F1: 0.13\n",
      "Precision: 0.26\n",
      "Recall: 0.08\n",
      "AUC: 0.5\n",
      "Accuracy: 0.7\n",
      "Confusion matrix:\n",
      " [[7942 2847]\n",
      " [ 751  258]]\n"
     ]
    }
   ],
   "source": [
    "print('Performance of b2, test:')\n",
    "print('F1:', round(metrics.f1_score(test_labels,b2_pred),2))\n",
    "print('Precision:', round(metrics.precision_score(test_labels,b2_pred),2))\n",
    "print('Recall:', round(metrics.recall_score(test_labels,b2_pred),2))\n",
    "print('AUC:', round(metrics.roc_auc_score(test_labels,b2_pred),2))\n",
    "print('Accuracy:', round(metrics.accuracy_score(test_labels,b2_pred),2))\n",
    "print('Confusion matrix:\\n', metrics.confusion_matrix(test_labels,b2_pred).transpose())"
   ]
  },
  {
   "cell_type": "code",
   "execution_count": 29,
   "metadata": {},
   "outputs": [
    {
     "data": {
      "image/png": "[encoded data removed]",
      "text/plain": [
       "<Figure size 576x432 with 2 Axes>"
      ]
     },
     "metadata": {
      "needs_background": "light"
     },
     "output_type": "display_data"
    }
   ],
   "source": [
    "cf_matrix = metrics.confusion_matrix(test_labels,b2_pred)\n",
    "TN = cf_matrix[0][0]\n",
    "FN = cf_matrix[1][0]\n",
    "TP = cf_matrix[1][1]\n",
    "FP = cf_matrix[0][1]\n",
    "fl = [TN, FN, FP, TP]\n",
    "fig, ax = plt.subplots(figsize=(8,6))\n",
    "\n",
    "sns.set(font_scale=2)\n",
    "group_names = ['TN','FN','FP','TP']\n",
    "group_counts = [\"{0:0.0f}\".format(value) for value in fl]\n",
    "group_percentages = [\"{0:.2%}\".format(value) for value in\n",
    "                     fl/np.sum(cf_matrix)]\n",
    "labels = [f\"{v1}\\n{v2}\\n{v3}\" for v1, v2, v3 in\n",
    "          zip(group_names,group_counts,group_percentages)]\n",
    "labels = np.asarray(labels).reshape(2,2)\n",
    "\n",
    "sns.heatmap(cf_matrix, annot=labels, fmt='', cmap=\"BuPu\")\n",
    "plt.ylabel('Predicted', fontsize=20)\n",
    "plt.xlabel('Actual', fontsize=20)\n",
    "ax.set_ylim([0,2])\n",
    "ax.invert_yaxis()"
   ]
  },
  {
   "cell_type": "code",
   "execution_count": 31,
   "metadata": {},
   "outputs": [],
   "source": [
    "b3_pred = test_features.apply(lambda row: 1 if row.negative==1 or row.positive==1 else 0, axis=1)"
   ]
  },
  {
   "cell_type": "code",
   "execution_count": 32,
   "metadata": {},
   "outputs": [
    {
     "name": "stdout",
     "output_type": "stream",
     "text": [
      "Performance of b3, test:\n",
      "F1: 0.19\n",
      "Precision: 0.25\n",
      "Recall: 0.15\n",
      "AUC: 0.49\n",
      "Accuracy: 0.66\n",
      "Confusion matrix:\n",
      " [[7283 2644]\n",
      " [1410  461]]\n"
     ]
    }
   ],
   "source": [
    "print('Performance of b3, test:')\n",
    "print('F1:', round(metrics.f1_score(test_labels,b3_pred),2))\n",
    "print('Precision:', round(metrics.precision_score(test_labels,b3_pred),2))\n",
    "print('Recall:', round(metrics.recall_score(test_labels,b3_pred),2))\n",
    "print('AUC:', round(metrics.roc_auc_score(test_labels,b3_pred),2))\n",
    "print('Accuracy:', round(metrics.accuracy_score(test_labels,b3_pred),2))\n",
    "print('Confusion matrix:\\n', \n",
    "      metrics.confusion_matrix(test_labels,b3_pred).transpose())"
   ]
  },
  {
   "cell_type": "code",
   "execution_count": 33,
   "metadata": {},
   "outputs": [],
   "source": [
    "b4_pred = test_features.bias_lex_h"
   ]
  },
  {
   "cell_type": "code",
   "execution_count": 34,
   "metadata": {},
   "outputs": [
    {
     "name": "stdout",
     "output_type": "stream",
     "text": [
      "Performance of b4, test:\n",
      "F1: 0.08\n",
      "Precision: 0.27\n",
      "Recall: 0.05\n",
      "AUC: 0.5\n",
      "Accuracy: 0.71\n",
      "Confusion matrix:\n",
      " [[8277 2953]\n",
      " [ 416  152]]\n"
     ]
    }
   ],
   "source": [
    "print('Performance of b4, test:')\n",
    "print('F1:', round(metrics.f1_score(test_labels,b4_pred),2))\n",
    "print('Precision:', round(metrics.precision_score(test_labels,b4_pred),2))\n",
    "print('Recall:', round(metrics.recall_score(test_labels,b4_pred),2))\n",
    "print('AUC:', round(metrics.roc_auc_score(test_labels,b4_pred),2))\n",
    "print('Accuracy:', round(metrics.accuracy_score(test_labels,b4_pred),2))\n",
    "print('Confusion matrix:\\n', \n",
    "      metrics.confusion_matrix(test_labels,b4_pred).transpose())"
   ]
  },
  {
   "cell_type": "code",
   "execution_count": 35,
   "metadata": {},
   "outputs": [],
   "source": [
    "b5_pred = test_features.bias_lex_r"
   ]
  },
  {
   "cell_type": "code",
   "execution_count": 36,
   "metadata": {},
   "outputs": [
    {
     "name": "stdout",
     "output_type": "stream",
     "text": [
      "Performance of b5, test:\n",
      "F1: 0.24\n",
      "Precision: 0.24\n",
      "Recall: 0.23\n",
      "AUC: 0.49\n",
      "Accuracy: 0.61\n",
      "Confusion matrix:\n",
      " [[6466 2384]\n",
      " [2227  721]]\n"
     ]
    }
   ],
   "source": [
    "print('Performance of b5, test:')\n",
    "print('F1:', round(metrics.f1_score(test_labels,b5_pred),2))\n",
    "print('Precision:', round(metrics.precision_score(test_labels,b5_pred),2))\n",
    "print('Recall:', round(metrics.recall_score(test_labels,b5_pred),2))\n",
    "print('AUC:', round(metrics.roc_auc_score(test_labels,b5_pred),2))\n",
    "print('Accuracy:', round(metrics.accuracy_score(test_labels,b5_pred),2))\n",
    "print('Confusion matrix:\\n', \n",
    "      metrics.confusion_matrix(test_labels,b5_pred).transpose())"
   ]
  },
  {
   "cell_type": "code",
   "execution_count": 37,
   "metadata": {},
   "outputs": [
    {
     "name": "stdout",
     "output_type": "stream",
     "text": [
      "Biased words: 26.0 %\n",
      "Neutral words: 74.0 %\n"
     ]
    }
   ],
   "source": [
    "print('Biased words:',round(len(y[y['Label']==1])/len(y)*100,0),'%')\n",
    "print('Neutral words:',round(len(y[y['Label']==0])/len(y)*100,0),'%')"
   ]
  },
  {
   "cell_type": "code",
   "execution_count": 38,
   "metadata": {},
   "outputs": [
    {
     "name": "stdout",
     "output_type": "stream",
     "text": [
      "Requirement already satisfied: transformers in c:\\users\\jack\\anaconda3\\lib\\site-packages (4.5.1)\n",
      "Requirement already satisfied: tqdm>=4.27 in c:\\users\\jack\\anaconda3\\lib\\site-packages (from transformers) (4.47.0)\n",
      "Requirement already satisfied: regex!=2019.12.17 in c:\\users\\jack\\anaconda3\\lib\\site-packages (from transformers) (2020.6.8)\n",
      "Requirement already satisfied: requests in c:\\users\\jack\\anaconda3\\lib\\site-packages (from transformers) (2.24.0)\n",
      "Requirement already satisfied: numpy>=1.17 in c:\\users\\jack\\anaconda3\\lib\\site-packages (from transformers) (1.18.5)\n",
      "Requirement already satisfied: sacremoses in c:\\users\\jack\\anaconda3\\lib\\site-packages (from transformers) (0.0.45)\n",
      "Requirement already satisfied: tokenizers<0.11,>=0.10.1 in c:\\users\\jack\\anaconda3\\lib\\site-packages (from transformers) (0.10.2)\n",
      "Requirement already satisfied: filelock in c:\\users\\jack\\anaconda3\\lib\\site-packages (from transformers) (3.0.12)\n",
      "Requirement already satisfied: packaging in c:\\users\\jack\\anaconda3\\lib\\site-packages (from transformers) (20.4)\n",
      "Requirement already satisfied: urllib3!=1.25.0,!=1.25.1,<1.26,>=1.21.1 in c:\\users\\jack\\anaconda3\\lib\\site-packages (from requests->transformers) (1.25.11)\n",
      "Requirement already satisfied: chardet<4,>=3.0.2 in c:\\users\\jack\\anaconda3\\lib\\site-packages (from requests->transformers) (3.0.4)\n",
      "Requirement already satisfied: certifi>=2017.4.17 in c:\\users\\jack\\anaconda3\\lib\\site-packages (from requests->transformers) (2020.6.20)\n",
      "Requirement already satisfied: idna<3,>=2.5 in c:\\users\\jack\\anaconda3\\lib\\site-packages (from requests->transformers) (2.10)\n",
      "Requirement already satisfied: joblib in c:\\users\\jack\\anaconda3\\lib\\site-packages (from sacremoses->transformers) (0.16.0)\n",
      "Requirement already satisfied: click in c:\\users\\jack\\anaconda3\\lib\\site-packages (from sacremoses->transformers) (7.1.2)\n",
      "Requirement already satisfied: six in c:\\users\\jack\\anaconda3\\lib\\site-packages (from sacremoses->transformers) (1.15.0)\n",
      "Requirement already satisfied: pyparsing>=2.0.2 in c:\\users\\jack\\anaconda3\\lib\\site-packages (from packaging->transformers) (2.4.7)\n",
      "Collecting sentencepiece\n",
      "  Downloading sentencepiece-0.1.96-cp38-cp38-win_amd64.whl (1.1 MB)\n",
      "Installing collected packages: sentencepiece\n",
      "Successfully installed sentencepiece-0.1.96\n"
     ]
    }
   ],
   "source": [
    "!pip install transformers\n",
    "!pip install sentencepiece"
   ]
  },
  {
   "cell_type": "code",
   "execution_count": 2,
   "metadata": {},
   "outputs": [],
   "source": [
    "import sys\n",
    "import os\n",
    "import time\n",
    "import re\n",
    "import random\n",
    "from typing import Dict, List, Optional, Union\n",
    "import pandas as pd\n",
    "import numpy as np\n",
    "import matplotlib.pyplot as plt\n",
    "\n",
    "from sklearn.model_selection import train_test_split, KFold, StratifiedKFold\n",
    "from sklearn.metrics import accuracy_score, f1_score, precision_score, recall_score\n",
    "import tensorflow as tf\n",
    "from transformers import BertTokenizer, BertConfig, TFBertForSequenceClassification\n",
    "from transformers import DistilBertTokenizer, TFDistilBertForSequenceClassification\n",
    "from transformers import RobertaTokenizer, TFRobertaForSequenceClassification\n",
    "from transformers import ElectraTokenizer, TFElectraForSequenceClassification\n",
    "from transformers import XLNetTokenizer, TFXLNetForSequenceClassification\n",
    "from transformers import LongformerTokenizer, TFLongformerForSequenceClassification"
   ]
  },
  {
   "cell_type": "code",
   "execution_count": 3,
   "metadata": {},
   "outputs": [],
   "source": [
    "# set seed, TF uses python ramdom and numpy library, so these must also be fixed\n",
    "tf.random.set_seed(0)\n",
    "random.seed(0)\n",
    "np.random.seed(0)\n",
    "os.environ['PYTHONHASHSEED']=str(0)\n",
    "os.environ['TF_DETERMINISTIC_OPS'] = '0'"
   ]
  },
  {
   "cell_type": "code",
   "execution_count": 4,
   "metadata": {},
   "outputs": [
    {
     "data": {
      "text/plain": [
       "[PhysicalDevice(name='/physical_device:CPU:0', device_type='CPU'),\n",
       " PhysicalDevice(name='/physical_device:XLA_CPU:0', device_type='XLA_CPU'),\n",
       " PhysicalDevice(name='/physical_device:XLA_GPU:0', device_type='XLA_GPU')]"
      ]
     },
     "execution_count": 4,
     "metadata": {},
     "output_type": "execute_result"
    }
   ],
   "source": [
    "# see if hardware accelerator available\n",
    "tf.config.experimental.list_physical_devices()"
   ]
  },
  {
   "cell_type": "code",
   "execution_count": 5,
   "metadata": {},
   "outputs": [
    {
     "data": {
      "text/plain": [
       "''"
      ]
     },
     "execution_count": 5,
     "metadata": {},
     "output_type": "execute_result"
    }
   ],
   "source": [
    "tf.test.gpu_device_name()"
   ]
  },
  {
   "cell_type": "code",
   "execution_count": 7,
   "metadata": {},
   "outputs": [],
   "source": [
    "os.chdir(\"C:\\\\Users\\\\Jack\\\\Documents_\\\\Thesis_2\\\\Datasets\")\n",
    "df_final = pd.read_csv(\"DatasetFull.csv\", encoding = 'latin-1')"
   ]
  },
  {
   "cell_type": "code",
   "execution_count": 8,
   "metadata": {},
   "outputs": [],
   "source": [
    "df_final[\"Label\"] = df_final.Bias.apply(lambda x: 1 if x == \"AllSides Media Bias Rating: Left\" or x == \"AllSides Media Bias Rating: Right\" else 0)"
   ]
  },
  {
   "cell_type": "code",
   "execution_count": 9,
   "metadata": {},
   "outputs": [],
   "source": [
    "# Stratified k-Fold instance\n",
    "skfold = StratifiedKFold(n_splits=5, shuffle=True, random_state=42)"
   ]
  },
  {
   "cell_type": "code",
   "execution_count": 10,
   "metadata": {},
   "outputs": [],
   "source": [
    "# helper functions called in skfold loop\n",
    "\n",
    "def pd_to_tf(df):\n",
    "    \"\"\"convert a pandas dataframe into a tensorflow dataset\"\"\"\n",
    "    target = df.pop('Label')\n",
    "    headline = df.pop('Headline')\n",
    "    return tf.data.Dataset.from_tensor_slices((headline.values, target.values))\n",
    "\n",
    "def plot_graphs(history, metric):\n",
    "    plt.plot(history.history[metric])\n",
    "    plt.plot(history.history['val_'+metric], '')\n",
    "    plt.xlabel(\"Epochs\")\n",
    "    plt.ylabel(metric)\n",
    "    plt.legend([metric, 'val_'+metric])\n",
    "    plt.show()\n",
    "\n",
    "def tokenize(df):\n",
    "    \"\"\"convert a pandas dataframe into a tensorflow dataset and run hugging face's tokenizer on data\"\"\"\n",
    "    target = df.pop('Label')\n",
    "    headline = df.pop('Headline')\n",
    "\n",
    "    train_encodings = tokenizer(\n",
    "                        headline.tolist(),                      \n",
    "                        add_special_tokens = True, # add [CLS], [SEP]\n",
    "                        truncation = True, # cut off at max length of the text that can go to BERT\n",
    "                        padding = True, # add [PAD] tokens\n",
    "                        return_attention_mask = True, # add attention mask to not focus on pad tokens\n",
    "              )\n",
    "    \n",
    "    dataset = tf.data.Dataset.from_tensor_slices(\n",
    "        (dict(train_encodings), \n",
    "         target.tolist()))\n",
    "    return dataset"
   ]
  },
  {
   "cell_type": "code",
   "execution_count": 11,
   "metadata": {},
   "outputs": [],
   "source": [
    "def run_model_5fold(df_train, model_name, freeze_encoder=True, pretrained=False, plot=False):\n",
    "    \"\"\"\"freeze flags whether encoder layer should be frozen to not destroy transfer learning. Only set to false when enough data is provided\"\"\"\n",
    "\n",
    "    # these variables will be needed for skfold to select indices\n",
    "    Y = df_train['Label']\n",
    "    X = df_train['Headline']\n",
    "\n",
    "    # hyperparams\n",
    "    BUFFER_SIZE = 10000\n",
    "    BATCH_SIZE = 32\n",
    "    k = 1\n",
    "\n",
    "    val_loss = []\n",
    "    val_acc = []\n",
    "    val_prec = []\n",
    "    val_rec = []\n",
    "    val_f1 = []\n",
    "    val_f1_micro = []\n",
    "    val_f1_wmacro = []\n",
    "\n",
    "    for train_index, val_index in skfold.split(X,Y):\n",
    "        print('### Start fold {}'.format(k))\n",
    "\n",
    "        # split into train and validation set\n",
    "        train_dataset = df_train.iloc[train_index]\n",
    "        val_dataset = df_train.iloc[val_index]\n",
    "\n",
    "        # prepare data for transformer\n",
    "        train_dataset = tokenize(train_dataset)\n",
    "        val_dataset = tokenize(val_dataset)\n",
    "\n",
    "        # mini-batch it\n",
    "        train_dataset = train_dataset.shuffle(BUFFER_SIZE).batch(BATCH_SIZE).prefetch(tf.data.experimental.AUTOTUNE)\n",
    "        val_dataset = val_dataset.batch(BATCH_SIZE).prefetch(tf.data.experimental.AUTOTUNE)\n",
    "\n",
    "        # create new model\n",
    "        if model_name == 'bert':\n",
    "            model = TFBertForSequenceClassification.from_pretrained(\"bert-base-uncased\")\n",
    "        if model_name == 'distilbert':\n",
    "            model = TFDistilBertForSequenceClassification.from_pretrained('distilbert-base-uncased')\n",
    "        elif model_name == 'roberta':\n",
    "            model = TFRobertaForSequenceClassification.from_pretrained('roberta-base')\n",
    "        elif model_name == 'electra':\n",
    "            model = TFElectraForSequenceClassification.from_pretrained('google/electra-small-discriminator')\n",
    "        elif model_name == 'xlnet':\n",
    "            model = TFXLNetForSequenceClassification.from_pretrained('xlnet-base-cased')\n",
    "\n",
    "\n",
    "        if freeze_encoder == True:\n",
    "            for w in model.get_layer(index=0).weights:\n",
    "                w._trainable = False\n",
    "\n",
    "        # compile it\n",
    "        optimizer = tf.keras.optimizers.Adam(learning_rate=5e-5) \n",
    "        model.compile(optimizer=optimizer, loss=model.compute_loss) \n",
    "\n",
    "        # transfer learning\n",
    "        if pretrained == True:\n",
    "            model.get_layer(index=0).set_weights(trained_model_layer) # load bias-specific weights\n",
    "            #model.load_weights('./checkpoints/')\n",
    "\n",
    "        # after 2 epochs without improvement, stop training\n",
    "        callback = tf.keras.callbacks.EarlyStopping(monitor='val_loss', patience=1, restore_best_weights=True)\n",
    "\n",
    "        # fit it\n",
    "        history = model.fit(train_dataset, epochs=10, validation_data = val_dataset, callbacks=[callback])\n",
    "\n",
    "        # plot history\n",
    "        if plot:\n",
    "            plot_graphs(history,'loss')\n",
    "\n",
    "        # evaluate\n",
    "        loss = model.evaluate(val_dataset)\n",
    "\n",
    "        if model_name == 'xlnet':\n",
    "            yhats = []\n",
    "            for row in df_train.iloc[val_index]['sentence']:\n",
    "                input = tokenizer(row, return_tensors=\"tf\")\n",
    "                output = model(input)\n",
    "                logits = output.logits.numpy()[0]\n",
    "                candidates = logits.tolist()\n",
    "                decision = candidates.index(max(candidates))\n",
    "                yhats.append(decision)\n",
    "        else:\n",
    "            logits = model.predict(val_dataset)  \n",
    "            yhats = []\n",
    "            for i in logits[0]:\n",
    "                # assign class label according to highest logit\n",
    "                candidates = i.tolist()\n",
    "                decision = candidates.index(max(candidates))\n",
    "                yhats.append(decision)\n",
    "\n",
    "        y = []\n",
    "        for text, label in val_dataset.unbatch():   \n",
    "              y.append(label.numpy())\n",
    "\n",
    "        val_loss.append(loss)\n",
    "        val_acc.append(accuracy_score(y, yhats))\n",
    "        val_prec.append(precision_score(y, yhats))\n",
    "        val_rec.append(recall_score(y, yhats))\n",
    "        val_f1.append(f1_score(y, yhats))\n",
    "        val_f1_micro.append(f1_score(y, yhats, average='micro'))\n",
    "        val_f1_wmacro.append(f1_score(y, yhats, average='weighted'))\n",
    "\n",
    "        tf.keras.backend.clear_session()\n",
    "\n",
    "        k += 1\n",
    "\n",
    "    return val_loss, val_acc, val_prec, val_rec, val_f1, val_f1_micro, val_f1_wmacro"
   ]
  },
  {
   "cell_type": "code",
   "execution_count": 12,
   "metadata": {},
   "outputs": [
    {
     "name": "stdout",
     "output_type": "stream",
     "text": [
      "### Start fold 1\n"
     ]
    },
    {
     "name": "stderr",
     "output_type": "stream",
     "text": [
      "All model checkpoint layers were used when initializing TFBertForSequenceClassification.\n",
      "\n",
      "Some layers of TFBertForSequenceClassification were not initialized from the model checkpoint at bert-base-uncased and are newly initialized: ['classifier']\n",
      "You should probably TRAIN this model on a down-stream task to be able to use it for predictions and inference.\n"
     ]
    },
    {
     "name": "stdout",
     "output_type": "stream",
     "text": [
      "Epoch 1/10\n",
      "WARNING:tensorflow:The parameters `output_attentions`, `output_hidden_states` and `use_cache` cannot be updated when calling a model.They have to be set to True/False in the config object (i.e.: `config=XConfig.from_pretrained('name', output_attentions=True)`).\n",
      "WARNING:tensorflow:AutoGraph could not transform <bound method Socket.send of <zmq.sugar.socket.Socket object at 0x000002668008C220>> and will run it as-is.\n",
      "Please report this to the TensorFlow team. When filing the bug, set the verbosity to 10 (on Linux, `export AUTOGRAPH_VERBOSITY=10`) and attach the full output.\n",
      "Cause: module, class, method, function, traceback, frame, or code object was expected, got cython_function_or_method\n",
      "To silence this warning, decorate the function with @tf.autograph.experimental.do_not_convert\n",
      "WARNING: AutoGraph could not transform <bound method Socket.send of <zmq.sugar.socket.Socket object at 0x000002668008C220>> and will run it as-is.\n",
      "Please report this to the TensorFlow team. When filing the bug, set the verbosity to 10 (on Linux, `export AUTOGRAPH_VERBOSITY=10`) and attach the full output.\n",
      "Cause: module, class, method, function, traceback, frame, or code object was expected, got cython_function_or_method\n",
      "To silence this warning, decorate the function with @tf.autograph.experimental.do_not_convert\n",
      "WARNING:tensorflow:The parameter `return_dict` cannot be set in graph mode and will always be set to `True`.\n",
      "WARNING:tensorflow:The parameters `output_attentions`, `output_hidden_states` and `use_cache` cannot be updated when calling a model.They have to be set to True/False in the config object (i.e.: `config=XConfig.from_pretrained('name', output_attentions=True)`).\n",
      "WARNING:tensorflow:The parameter `return_dict` cannot be set in graph mode and will always be set to `True`.\n",
      "415/415 [==============================] - ETA: 0s - loss: 0.5738 WARNING:tensorflow:The parameters `output_attentions`, `output_hidden_states` and `use_cache` cannot be updated when calling a model.They have to be set to True/False in the config object (i.e.: `config=XConfig.from_pretrained('name', output_attentions=True)`).\n",
      "WARNING:tensorflow:The parameter `return_dict` cannot be set in graph mode and will always be set to `True`.\n",
      "415/415 [==============================] - 10958s 26s/step - loss: 0.5738 - val_loss: 0.5636\n",
      "Epoch 2/10\n",
      "415/415 [==============================] - 11486s 28s/step - loss: 0.5081 - val_loss: 0.5643\n",
      "104/104 [==============================] - 683s 7s/step - loss: 0.5636\n",
      "WARNING:tensorflow:The parameters `output_attentions`, `output_hidden_states` and `use_cache` cannot be updated when calling a model.They have to be set to True/False in the config object (i.e.: `config=XConfig.from_pretrained('name', output_attentions=True)`).\n",
      "WARNING:tensorflow:The parameter `return_dict` cannot be set in graph mode and will always be set to `True`.\n",
      "### Start fold 2\n"
     ]
    },
    {
     "name": "stderr",
     "output_type": "stream",
     "text": [
      "All model checkpoint layers were used when initializing TFBertForSequenceClassification.\n",
      "\n",
      "Some layers of TFBertForSequenceClassification were not initialized from the model checkpoint at bert-base-uncased and are newly initialized: ['classifier']\n",
      "You should probably TRAIN this model on a down-stream task to be able to use it for predictions and inference.\n"
     ]
    },
    {
     "name": "stdout",
     "output_type": "stream",
     "text": [
      "Epoch 1/10\n",
      "WARNING:tensorflow:The parameters `output_attentions`, `output_hidden_states` and `use_cache` cannot be updated when calling a model.They have to be set to True/False in the config object (i.e.: `config=XConfig.from_pretrained('name', output_attentions=True)`).\n",
      "WARNING:tensorflow:The parameter `return_dict` cannot be set in graph mode and will always be set to `True`.\n",
      "WARNING:tensorflow:The parameters `output_attentions`, `output_hidden_states` and `use_cache` cannot be updated when calling a model.They have to be set to True/False in the config object (i.e.: `config=XConfig.from_pretrained('name', output_attentions=True)`).\n",
      "WARNING:tensorflow:The parameter `return_dict` cannot be set in graph mode and will always be set to `True`.\n",
      "415/415 [==============================] - ETA: 0s - loss: 0.5756 WARNING:tensorflow:The parameters `output_attentions`, `output_hidden_states` and `use_cache` cannot be updated when calling a model.They have to be set to True/False in the config object (i.e.: `config=XConfig.from_pretrained('name', output_attentions=True)`).\n",
      "WARNING:tensorflow:The parameter `return_dict` cannot be set in graph mode and will always be set to `True`.\n",
      "415/415 [==============================] - 11098s 27s/step - loss: 0.5756 - val_loss: 0.5687\n",
      "Epoch 2/10\n",
      "415/415 [==============================] - 7842s 19s/step - loss: 0.5284 - val_loss: 0.5733\n",
      "104/104 [==============================] - 800s 8s/step - loss: 0.5687\n",
      "WARNING:tensorflow:The parameters `output_attentions`, `output_hidden_states` and `use_cache` cannot be updated when calling a model.They have to be set to True/False in the config object (i.e.: `config=XConfig.from_pretrained('name', output_attentions=True)`).\n",
      "WARNING:tensorflow:The parameter `return_dict` cannot be set in graph mode and will always be set to `True`.\n",
      "### Start fold 3\n"
     ]
    },
    {
     "name": "stderr",
     "output_type": "stream",
     "text": [
      "All model checkpoint layers were used when initializing TFBertForSequenceClassification.\n",
      "\n",
      "Some layers of TFBertForSequenceClassification were not initialized from the model checkpoint at bert-base-uncased and are newly initialized: ['classifier']\n",
      "You should probably TRAIN this model on a down-stream task to be able to use it for predictions and inference.\n"
     ]
    },
    {
     "name": "stdout",
     "output_type": "stream",
     "text": [
      "Epoch 1/10\n",
      "WARNING:tensorflow:The parameters `output_attentions`, `output_hidden_states` and `use_cache` cannot be updated when calling a model.They have to be set to True/False in the config object (i.e.: `config=XConfig.from_pretrained('name', output_attentions=True)`).\n",
      "WARNING:tensorflow:The parameter `return_dict` cannot be set in graph mode and will always be set to `True`.\n",
      "WARNING:tensorflow:The parameters `output_attentions`, `output_hidden_states` and `use_cache` cannot be updated when calling a model.They have to be set to True/False in the config object (i.e.: `config=XConfig.from_pretrained('name', output_attentions=True)`).\n",
      "WARNING:tensorflow:The parameter `return_dict` cannot be set in graph mode and will always be set to `True`.\n",
      "112/415 [=======>......................] - ETA: 1:30:23 - loss: 0.5829"
     ]
    },
    {
     "ename": "KeyboardInterrupt",
     "evalue": "",
     "output_type": "error",
     "traceback": [
      "\u001b[1;31m---------------------------------------------------------------------------\u001b[0m",
      "\u001b[1;31mKeyboardInterrupt\u001b[0m                         Traceback (most recent call last)",
      "\u001b[1;32m<ipython-input-12-0e44f6c89ba4>\u001b[0m in \u001b[0;36m<module>\u001b[1;34m\u001b[0m\n\u001b[0;32m      1\u001b[0m \u001b[0mtokenizer\u001b[0m \u001b[1;33m=\u001b[0m \u001b[0mBertTokenizer\u001b[0m\u001b[1;33m.\u001b[0m\u001b[0mfrom_pretrained\u001b[0m\u001b[1;33m(\u001b[0m\u001b[1;34m'bert-base-uncased'\u001b[0m\u001b[1;33m)\u001b[0m\u001b[1;33m\u001b[0m\u001b[1;33m\u001b[0m\u001b[0m\n\u001b[0;32m      2\u001b[0m \u001b[1;31m# without distant signal pretraining\u001b[0m\u001b[1;33m\u001b[0m\u001b[1;33m\u001b[0m\u001b[1;33m\u001b[0m\u001b[0m\n\u001b[1;32m----> 3\u001b[1;33m val_loss, val_acc, val_prec, val_rec, val_f1, val_f1_micro, val_f1_wmacro = run_model_5fold(df_final, model_name='bert', \n\u001b[0m\u001b[0;32m      4\u001b[0m                                                                                             freeze_encoder=False, pretrained=False)\n\u001b[0;32m      5\u001b[0m \u001b[1;33m\u001b[0m\u001b[0m\n",
      "\u001b[1;32m<ipython-input-11-660cac70a2df>\u001b[0m in \u001b[0;36mrun_model_5fold\u001b[1;34m(df_train, model_name, freeze_encoder, pretrained, plot)\u001b[0m\n\u001b[0;32m     64\u001b[0m \u001b[1;33m\u001b[0m\u001b[0m\n\u001b[0;32m     65\u001b[0m         \u001b[1;31m# fit it\u001b[0m\u001b[1;33m\u001b[0m\u001b[1;33m\u001b[0m\u001b[1;33m\u001b[0m\u001b[0m\n\u001b[1;32m---> 66\u001b[1;33m         \u001b[0mhistory\u001b[0m \u001b[1;33m=\u001b[0m \u001b[0mmodel\u001b[0m\u001b[1;33m.\u001b[0m\u001b[0mfit\u001b[0m\u001b[1;33m(\u001b[0m\u001b[0mtrain_dataset\u001b[0m\u001b[1;33m,\u001b[0m \u001b[0mepochs\u001b[0m\u001b[1;33m=\u001b[0m\u001b[1;36m10\u001b[0m\u001b[1;33m,\u001b[0m \u001b[0mvalidation_data\u001b[0m \u001b[1;33m=\u001b[0m \u001b[0mval_dataset\u001b[0m\u001b[1;33m,\u001b[0m \u001b[0mcallbacks\u001b[0m\u001b[1;33m=\u001b[0m\u001b[1;33m[\u001b[0m\u001b[0mcallback\u001b[0m\u001b[1;33m]\u001b[0m\u001b[1;33m)\u001b[0m\u001b[1;33m\u001b[0m\u001b[1;33m\u001b[0m\u001b[0m\n\u001b[0m\u001b[0;32m     67\u001b[0m \u001b[1;33m\u001b[0m\u001b[0m\n\u001b[0;32m     68\u001b[0m         \u001b[1;31m# plot history\u001b[0m\u001b[1;33m\u001b[0m\u001b[1;33m\u001b[0m\u001b[1;33m\u001b[0m\u001b[0m\n",
      "\u001b[1;32m~\\anaconda3\\lib\\site-packages\\tensorflow\\python\\keras\\engine\\training.py\u001b[0m in \u001b[0;36m_method_wrapper\u001b[1;34m(self, *args, **kwargs)\u001b[0m\n\u001b[0;32m     64\u001b[0m   \u001b[1;32mdef\u001b[0m \u001b[0m_method_wrapper\u001b[0m\u001b[1;33m(\u001b[0m\u001b[0mself\u001b[0m\u001b[1;33m,\u001b[0m \u001b[1;33m*\u001b[0m\u001b[0margs\u001b[0m\u001b[1;33m,\u001b[0m \u001b[1;33m**\u001b[0m\u001b[0mkwargs\u001b[0m\u001b[1;33m)\u001b[0m\u001b[1;33m:\u001b[0m\u001b[1;33m\u001b[0m\u001b[1;33m\u001b[0m\u001b[0m\n\u001b[0;32m     65\u001b[0m     \u001b[1;32mif\u001b[0m \u001b[1;32mnot\u001b[0m \u001b[0mself\u001b[0m\u001b[1;33m.\u001b[0m\u001b[0m_in_multi_worker_mode\u001b[0m\u001b[1;33m(\u001b[0m\u001b[1;33m)\u001b[0m\u001b[1;33m:\u001b[0m  \u001b[1;31m# pylint: disable=protected-access\u001b[0m\u001b[1;33m\u001b[0m\u001b[1;33m\u001b[0m\u001b[0m\n\u001b[1;32m---> 66\u001b[1;33m       \u001b[1;32mreturn\u001b[0m \u001b[0mmethod\u001b[0m\u001b[1;33m(\u001b[0m\u001b[0mself\u001b[0m\u001b[1;33m,\u001b[0m \u001b[1;33m*\u001b[0m\u001b[0margs\u001b[0m\u001b[1;33m,\u001b[0m \u001b[1;33m**\u001b[0m\u001b[0mkwargs\u001b[0m\u001b[1;33m)\u001b[0m\u001b[1;33m\u001b[0m\u001b[1;33m\u001b[0m\u001b[0m\n\u001b[0m\u001b[0;32m     67\u001b[0m \u001b[1;33m\u001b[0m\u001b[0m\n\u001b[0;32m     68\u001b[0m     \u001b[1;31m# Running inside `run_distribute_coordinator` already.\u001b[0m\u001b[1;33m\u001b[0m\u001b[1;33m\u001b[0m\u001b[1;33m\u001b[0m\u001b[0m\n",
      "\u001b[1;32m~\\anaconda3\\lib\\site-packages\\tensorflow\\python\\keras\\engine\\training.py\u001b[0m in \u001b[0;36mfit\u001b[1;34m(self, x, y, batch_size, epochs, verbose, callbacks, validation_split, validation_data, shuffle, class_weight, sample_weight, initial_epoch, steps_per_epoch, validation_steps, validation_batch_size, validation_freq, max_queue_size, workers, use_multiprocessing)\u001b[0m\n\u001b[0;32m    846\u001b[0m                 batch_size=batch_size):\n\u001b[0;32m    847\u001b[0m               \u001b[0mcallbacks\u001b[0m\u001b[1;33m.\u001b[0m\u001b[0mon_train_batch_begin\u001b[0m\u001b[1;33m(\u001b[0m\u001b[0mstep\u001b[0m\u001b[1;33m)\u001b[0m\u001b[1;33m\u001b[0m\u001b[1;33m\u001b[0m\u001b[0m\n\u001b[1;32m--> 848\u001b[1;33m               \u001b[0mtmp_logs\u001b[0m \u001b[1;33m=\u001b[0m \u001b[0mtrain_function\u001b[0m\u001b[1;33m(\u001b[0m\u001b[0miterator\u001b[0m\u001b[1;33m)\u001b[0m\u001b[1;33m\u001b[0m\u001b[1;33m\u001b[0m\u001b[0m\n\u001b[0m\u001b[0;32m    849\u001b[0m               \u001b[1;31m# Catch OutOfRangeError for Datasets of unknown size.\u001b[0m\u001b[1;33m\u001b[0m\u001b[1;33m\u001b[0m\u001b[1;33m\u001b[0m\u001b[0m\n\u001b[0;32m    850\u001b[0m               \u001b[1;31m# This blocks until the batch has finished executing.\u001b[0m\u001b[1;33m\u001b[0m\u001b[1;33m\u001b[0m\u001b[1;33m\u001b[0m\u001b[0m\n",
      "\u001b[1;32m~\\anaconda3\\lib\\site-packages\\tensorflow\\python\\eager\\def_function.py\u001b[0m in \u001b[0;36m__call__\u001b[1;34m(self, *args, **kwds)\u001b[0m\n\u001b[0;32m    578\u001b[0m         \u001b[0mxla_context\u001b[0m\u001b[1;33m.\u001b[0m\u001b[0mExit\u001b[0m\u001b[1;33m(\u001b[0m\u001b[1;33m)\u001b[0m\u001b[1;33m\u001b[0m\u001b[1;33m\u001b[0m\u001b[0m\n\u001b[0;32m    579\u001b[0m     \u001b[1;32melse\u001b[0m\u001b[1;33m:\u001b[0m\u001b[1;33m\u001b[0m\u001b[1;33m\u001b[0m\u001b[0m\n\u001b[1;32m--> 580\u001b[1;33m       \u001b[0mresult\u001b[0m \u001b[1;33m=\u001b[0m \u001b[0mself\u001b[0m\u001b[1;33m.\u001b[0m\u001b[0m_call\u001b[0m\u001b[1;33m(\u001b[0m\u001b[1;33m*\u001b[0m\u001b[0margs\u001b[0m\u001b[1;33m,\u001b[0m \u001b[1;33m**\u001b[0m\u001b[0mkwds\u001b[0m\u001b[1;33m)\u001b[0m\u001b[1;33m\u001b[0m\u001b[1;33m\u001b[0m\u001b[0m\n\u001b[0m\u001b[0;32m    581\u001b[0m \u001b[1;33m\u001b[0m\u001b[0m\n\u001b[0;32m    582\u001b[0m     \u001b[1;32mif\u001b[0m \u001b[0mtracing_count\u001b[0m \u001b[1;33m==\u001b[0m \u001b[0mself\u001b[0m\u001b[1;33m.\u001b[0m\u001b[0m_get_tracing_count\u001b[0m\u001b[1;33m(\u001b[0m\u001b[1;33m)\u001b[0m\u001b[1;33m:\u001b[0m\u001b[1;33m\u001b[0m\u001b[1;33m\u001b[0m\u001b[0m\n",
      "\u001b[1;32m~\\anaconda3\\lib\\site-packages\\tensorflow\\python\\eager\\def_function.py\u001b[0m in \u001b[0;36m_call\u001b[1;34m(self, *args, **kwds)\u001b[0m\n\u001b[0;32m    609\u001b[0m       \u001b[1;31m# In this case we have created variables on the first call, so we run the\u001b[0m\u001b[1;33m\u001b[0m\u001b[1;33m\u001b[0m\u001b[1;33m\u001b[0m\u001b[0m\n\u001b[0;32m    610\u001b[0m       \u001b[1;31m# defunned version which is guaranteed to never create variables.\u001b[0m\u001b[1;33m\u001b[0m\u001b[1;33m\u001b[0m\u001b[1;33m\u001b[0m\u001b[0m\n\u001b[1;32m--> 611\u001b[1;33m       \u001b[1;32mreturn\u001b[0m \u001b[0mself\u001b[0m\u001b[1;33m.\u001b[0m\u001b[0m_stateless_fn\u001b[0m\u001b[1;33m(\u001b[0m\u001b[1;33m*\u001b[0m\u001b[0margs\u001b[0m\u001b[1;33m,\u001b[0m \u001b[1;33m**\u001b[0m\u001b[0mkwds\u001b[0m\u001b[1;33m)\u001b[0m  \u001b[1;31m# pylint: disable=not-callable\u001b[0m\u001b[1;33m\u001b[0m\u001b[1;33m\u001b[0m\u001b[0m\n\u001b[0m\u001b[0;32m    612\u001b[0m     \u001b[1;32melif\u001b[0m \u001b[0mself\u001b[0m\u001b[1;33m.\u001b[0m\u001b[0m_stateful_fn\u001b[0m \u001b[1;32mis\u001b[0m \u001b[1;32mnot\u001b[0m \u001b[1;32mNone\u001b[0m\u001b[1;33m:\u001b[0m\u001b[1;33m\u001b[0m\u001b[1;33m\u001b[0m\u001b[0m\n\u001b[0;32m    613\u001b[0m       \u001b[1;31m# Release the lock early so that multiple threads can perform the call\u001b[0m\u001b[1;33m\u001b[0m\u001b[1;33m\u001b[0m\u001b[1;33m\u001b[0m\u001b[0m\n",
      "\u001b[1;32m~\\anaconda3\\lib\\site-packages\\tensorflow\\python\\eager\\function.py\u001b[0m in \u001b[0;36m__call__\u001b[1;34m(self, *args, **kwargs)\u001b[0m\n\u001b[0;32m   2418\u001b[0m     \u001b[1;32mwith\u001b[0m \u001b[0mself\u001b[0m\u001b[1;33m.\u001b[0m\u001b[0m_lock\u001b[0m\u001b[1;33m:\u001b[0m\u001b[1;33m\u001b[0m\u001b[1;33m\u001b[0m\u001b[0m\n\u001b[0;32m   2419\u001b[0m       \u001b[0mgraph_function\u001b[0m\u001b[1;33m,\u001b[0m \u001b[0margs\u001b[0m\u001b[1;33m,\u001b[0m \u001b[0mkwargs\u001b[0m \u001b[1;33m=\u001b[0m \u001b[0mself\u001b[0m\u001b[1;33m.\u001b[0m\u001b[0m_maybe_define_function\u001b[0m\u001b[1;33m(\u001b[0m\u001b[0margs\u001b[0m\u001b[1;33m,\u001b[0m \u001b[0mkwargs\u001b[0m\u001b[1;33m)\u001b[0m\u001b[1;33m\u001b[0m\u001b[1;33m\u001b[0m\u001b[0m\n\u001b[1;32m-> 2420\u001b[1;33m     \u001b[1;32mreturn\u001b[0m \u001b[0mgraph_function\u001b[0m\u001b[1;33m.\u001b[0m\u001b[0m_filtered_call\u001b[0m\u001b[1;33m(\u001b[0m\u001b[0margs\u001b[0m\u001b[1;33m,\u001b[0m \u001b[0mkwargs\u001b[0m\u001b[1;33m)\u001b[0m  \u001b[1;31m# pylint: disable=protected-access\u001b[0m\u001b[1;33m\u001b[0m\u001b[1;33m\u001b[0m\u001b[0m\n\u001b[0m\u001b[0;32m   2421\u001b[0m \u001b[1;33m\u001b[0m\u001b[0m\n\u001b[0;32m   2422\u001b[0m   \u001b[1;33m@\u001b[0m\u001b[0mproperty\u001b[0m\u001b[1;33m\u001b[0m\u001b[1;33m\u001b[0m\u001b[0m\n",
      "\u001b[1;32m~\\anaconda3\\lib\\site-packages\\tensorflow\\python\\eager\\function.py\u001b[0m in \u001b[0;36m_filtered_call\u001b[1;34m(self, args, kwargs)\u001b[0m\n\u001b[0;32m   1659\u001b[0m       \u001b[0;31m`\u001b[0m\u001b[0margs\u001b[0m\u001b[0;31m`\u001b[0m \u001b[1;32mand\u001b[0m\u001b[0;31m \u001b[0m\u001b[0;31m`\u001b[0m\u001b[0mkwargs\u001b[0m\u001b[0;31m`\u001b[0m\u001b[1;33m.\u001b[0m\u001b[1;33m\u001b[0m\u001b[1;33m\u001b[0m\u001b[0m\n\u001b[0;32m   1660\u001b[0m     \"\"\"\n\u001b[1;32m-> 1661\u001b[1;33m     return self._call_flat(\n\u001b[0m\u001b[0;32m   1662\u001b[0m         (t for t in nest.flatten((args, kwargs), expand_composites=True)\n\u001b[0;32m   1663\u001b[0m          if isinstance(t, (ops.Tensor,\n",
      "\u001b[1;32m~\\anaconda3\\lib\\site-packages\\tensorflow\\python\\eager\\function.py\u001b[0m in \u001b[0;36m_call_flat\u001b[1;34m(self, args, captured_inputs, cancellation_manager)\u001b[0m\n\u001b[0;32m   1743\u001b[0m         and executing_eagerly):\n\u001b[0;32m   1744\u001b[0m       \u001b[1;31m# No tape is watching; skip to running the function.\u001b[0m\u001b[1;33m\u001b[0m\u001b[1;33m\u001b[0m\u001b[1;33m\u001b[0m\u001b[0m\n\u001b[1;32m-> 1745\u001b[1;33m       return self._build_call_outputs(self._inference_function.call(\n\u001b[0m\u001b[0;32m   1746\u001b[0m           ctx, args, cancellation_manager=cancellation_manager))\n\u001b[0;32m   1747\u001b[0m     forward_backward = self._select_forward_and_backward_functions(\n",
      "\u001b[1;32m~\\anaconda3\\lib\\site-packages\\tensorflow\\python\\eager\\function.py\u001b[0m in \u001b[0;36mcall\u001b[1;34m(self, ctx, args, cancellation_manager)\u001b[0m\n\u001b[0;32m    591\u001b[0m       \u001b[1;32mwith\u001b[0m \u001b[0m_InterpolateFunctionError\u001b[0m\u001b[1;33m(\u001b[0m\u001b[0mself\u001b[0m\u001b[1;33m)\u001b[0m\u001b[1;33m:\u001b[0m\u001b[1;33m\u001b[0m\u001b[1;33m\u001b[0m\u001b[0m\n\u001b[0;32m    592\u001b[0m         \u001b[1;32mif\u001b[0m \u001b[0mcancellation_manager\u001b[0m \u001b[1;32mis\u001b[0m \u001b[1;32mNone\u001b[0m\u001b[1;33m:\u001b[0m\u001b[1;33m\u001b[0m\u001b[1;33m\u001b[0m\u001b[0m\n\u001b[1;32m--> 593\u001b[1;33m           outputs = execute.execute(\n\u001b[0m\u001b[0;32m    594\u001b[0m               \u001b[0mstr\u001b[0m\u001b[1;33m(\u001b[0m\u001b[0mself\u001b[0m\u001b[1;33m.\u001b[0m\u001b[0msignature\u001b[0m\u001b[1;33m.\u001b[0m\u001b[0mname\u001b[0m\u001b[1;33m)\u001b[0m\u001b[1;33m,\u001b[0m\u001b[1;33m\u001b[0m\u001b[1;33m\u001b[0m\u001b[0m\n\u001b[0;32m    595\u001b[0m               \u001b[0mnum_outputs\u001b[0m\u001b[1;33m=\u001b[0m\u001b[0mself\u001b[0m\u001b[1;33m.\u001b[0m\u001b[0m_num_outputs\u001b[0m\u001b[1;33m,\u001b[0m\u001b[1;33m\u001b[0m\u001b[1;33m\u001b[0m\u001b[0m\n",
      "\u001b[1;32m~\\anaconda3\\lib\\site-packages\\tensorflow\\python\\eager\\execute.py\u001b[0m in \u001b[0;36mquick_execute\u001b[1;34m(op_name, num_outputs, inputs, attrs, ctx, name)\u001b[0m\n\u001b[0;32m     57\u001b[0m   \u001b[1;32mtry\u001b[0m\u001b[1;33m:\u001b[0m\u001b[1;33m\u001b[0m\u001b[1;33m\u001b[0m\u001b[0m\n\u001b[0;32m     58\u001b[0m     \u001b[0mctx\u001b[0m\u001b[1;33m.\u001b[0m\u001b[0mensure_initialized\u001b[0m\u001b[1;33m(\u001b[0m\u001b[1;33m)\u001b[0m\u001b[1;33m\u001b[0m\u001b[1;33m\u001b[0m\u001b[0m\n\u001b[1;32m---> 59\u001b[1;33m     tensors = pywrap_tfe.TFE_Py_Execute(ctx._handle, device_name, op_name,\n\u001b[0m\u001b[0;32m     60\u001b[0m                                         inputs, attrs, num_outputs)\n\u001b[0;32m     61\u001b[0m   \u001b[1;32mexcept\u001b[0m \u001b[0mcore\u001b[0m\u001b[1;33m.\u001b[0m\u001b[0m_NotOkStatusException\u001b[0m \u001b[1;32mas\u001b[0m \u001b[0me\u001b[0m\u001b[1;33m:\u001b[0m\u001b[1;33m\u001b[0m\u001b[1;33m\u001b[0m\u001b[0m\n",
      "\u001b[1;31mKeyboardInterrupt\u001b[0m: "
     ]
    }
   ],
   "source": [
    "tokenizer = BertTokenizer.from_pretrained('bert-base-uncased')\n",
    "# without distant signal pretraining\n",
    "val_loss, val_acc, val_prec, val_rec, val_f1, val_f1_micro, val_f1_wmacro = run_model_5fold(df_final, model_name='bert', \n",
    "                                                                                            freeze_encoder=False, pretrained=False)\n",
    "\n",
    "# inspect metrics\n",
    "loss_cv = np.mean(val_loss)\n",
    "acc_cv = np.mean(val_acc)\n",
    "prec_cv = np.mean(val_prec)\n",
    "rec_cv = np.mean(val_rec)\n",
    "f1_cv = np.mean(val_f1)\n",
    "f1_micro_cv = np.mean(val_f1_micro)\n",
    "f1_wmacro_cv = np.mean(val_f1_wmacro)\n",
    "\n",
    "print('5-Fold CV Loss: {}'.format(loss_cv))\n",
    "print('5-Fold CV Accuracy: {}'.format(acc_cv))\n",
    "print('5-Fold CV Precision: {}'.format(prec_cv))\n",
    "print('5-Fold CV Recall: {}'.format(rec_cv))\n",
    "print('5-Fold CV F1 Score: {}'.format(f1_cv))\n",
    "print('5-Fold CV Micro F1 Score: {}'.format(f1_micro_cv))\n",
    "print('5-Fold CV Weighted Macro F1 Score: {}'.format(f1_wmacro_cv))"
   ]
  },
  {
   "cell_type": "code",
   "execution_count": null,
   "metadata": {},
   "outputs": [],
   "source": []
  }
 ],
 "metadata": {
  "kernelspec": {
   "display_name": "Python 3",
   "language": "python",
   "name": "python3"
  },
  "language_info": {
   "codemirror_mode": {
    "name": "ipython",
    "version": 3
   },
   "file_extension": ".py",
   "mimetype": "text/x-python",
   "name": "python",
   "nbconvert_exporter": "python",
   "pygments_lexer": "ipython3",
   "version": "3.8.3"
  }
 },
 "nbformat": 4,
 "nbformat_minor": 4
}
